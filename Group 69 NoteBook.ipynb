{
 "cells": [
  {
   "cell_type": "code",
   "execution_count": 1,
   "id": "a246decc",
   "metadata": {},
   "outputs": [],
   "source": [
    "import pandas as pd\n",
    "import numpy as np\n",
    "import seaborn as sns\n",
    "import matplotlib.pyplot as plt\n",
    "%matplotlib inline\n",
    "from sklearn.model_selection import train_test_split\n",
    "from sklearn import linear_model\n",
    "from sklearn.metrics import r2_score\n",
    "from sklearn.linear_model import LogisticRegression\n",
    "from sklearn.metrics import confusion_matrix, accuracy_score\n",
    "from sklearn.feature_selection import RFE"
   ]
  },
  {
   "cell_type": "code",
   "execution_count": 2,
   "id": "480cddd6",
   "metadata": {},
   "outputs": [],
   "source": [
    "# Load the data and show the info and contents:\n",
    "data = pd.read_csv(\"files/ClearnedBusCardType.csv\")\n"
   ]
  },
  {
   "cell_type": "code",
   "execution_count": 3,
   "id": "e5e4e969",
   "metadata": {},
   "outputs": [
    {
     "data": {
      "text/html": [
       "<div>\n",
       "<style scoped>\n",
       "    .dataframe tbody tr th:only-of-type {\n",
       "        vertical-align: middle;\n",
       "    }\n",
       "\n",
       "    .dataframe tbody tr th {\n",
       "        vertical-align: top;\n",
       "    }\n",
       "\n",
       "    .dataframe thead th {\n",
       "        text-align: right;\n",
       "    }\n",
       "</style>\n",
       "<table border=\"1\" class=\"dataframe\">\n",
       "  <thead>\n",
       "    <tr style=\"text-align: right;\">\n",
       "      <th></th>\n",
       "      <th>Date</th>\n",
       "      <th>Date2</th>\n",
       "      <th>Adult</th>\n",
       "      <th>Child/Youth</th>\n",
       "      <th>Concession</th>\n",
       "      <th>Employee</th>\n",
       "      <th>Free Travel</th>\n",
       "      <th>School Student</th>\n",
       "      <th>Senior/Pensioner</th>\n",
       "      <th>On Demand</th>\n",
       "      <th>CTP</th>\n",
       "      <th>Day Pass Child/Youth w/o SAF</th>\n",
       "      <th>Day Pass without SAF</th>\n",
       "      <th>Monthly passengers</th>\n",
       "    </tr>\n",
       "  </thead>\n",
       "  <tbody>\n",
       "    <tr>\n",
       "      <th>0</th>\n",
       "      <td>16-Jul</td>\n",
       "      <td>201607</td>\n",
       "      <td>390433</td>\n",
       "      <td>62800</td>\n",
       "      <td>136064</td>\n",
       "      <td>0</td>\n",
       "      <td>1149</td>\n",
       "      <td>138642</td>\n",
       "      <td>206110</td>\n",
       "      <td>0</td>\n",
       "      <td>0</td>\n",
       "      <td>0</td>\n",
       "      <td>0</td>\n",
       "      <td>935198</td>\n",
       "    </tr>\n",
       "    <tr>\n",
       "      <th>1</th>\n",
       "      <td>16-Aug</td>\n",
       "      <td>201608</td>\n",
       "      <td>386386</td>\n",
       "      <td>67010</td>\n",
       "      <td>73590</td>\n",
       "      <td>0</td>\n",
       "      <td>1281</td>\n",
       "      <td>296261</td>\n",
       "      <td>224668</td>\n",
       "      <td>0</td>\n",
       "      <td>0</td>\n",
       "      <td>0</td>\n",
       "      <td>0</td>\n",
       "      <td>1049196</td>\n",
       "    </tr>\n",
       "    <tr>\n",
       "      <th>2</th>\n",
       "      <td>16-Sep</td>\n",
       "      <td>201609</td>\n",
       "      <td>370068</td>\n",
       "      <td>70022</td>\n",
       "      <td>61676</td>\n",
       "      <td>0</td>\n",
       "      <td>1320</td>\n",
       "      <td>203827</td>\n",
       "      <td>218598</td>\n",
       "      <td>0</td>\n",
       "      <td>0</td>\n",
       "      <td>0</td>\n",
       "      <td>0</td>\n",
       "      <td>925511</td>\n",
       "    </tr>\n",
       "    <tr>\n",
       "      <th>3</th>\n",
       "      <td>16-Oct</td>\n",
       "      <td>201610</td>\n",
       "      <td>381402</td>\n",
       "      <td>78951</td>\n",
       "      <td>60635</td>\n",
       "      <td>0</td>\n",
       "      <td>1410</td>\n",
       "      <td>197558</td>\n",
       "      <td>227088</td>\n",
       "      <td>0</td>\n",
       "      <td>0</td>\n",
       "      <td>0</td>\n",
       "      <td>0</td>\n",
       "      <td>947044</td>\n",
       "    </tr>\n",
       "    <tr>\n",
       "      <th>4</th>\n",
       "      <td>16-Nov</td>\n",
       "      <td>201611</td>\n",
       "      <td>405245</td>\n",
       "      <td>76328</td>\n",
       "      <td>57858</td>\n",
       "      <td>0</td>\n",
       "      <td>1462</td>\n",
       "      <td>255994</td>\n",
       "      <td>236965</td>\n",
       "      <td>0</td>\n",
       "      <td>0</td>\n",
       "      <td>0</td>\n",
       "      <td>0</td>\n",
       "      <td>1033852</td>\n",
       "    </tr>\n",
       "  </tbody>\n",
       "</table>\n",
       "</div>"
      ],
      "text/plain": [
       "     Date   Date2   Adult  Child/Youth  Concession  Employee  Free Travel  \\\n",
       "0  16-Jul  201607  390433        62800      136064         0         1149   \n",
       "1  16-Aug  201608  386386        67010       73590         0         1281   \n",
       "2  16-Sep  201609  370068        70022       61676         0         1320   \n",
       "3  16-Oct  201610  381402        78951       60635         0         1410   \n",
       "4  16-Nov  201611  405245        76328       57858         0         1462   \n",
       "\n",
       "   School Student  Senior/Pensioner  On Demand  CTP  \\\n",
       "0          138642            206110          0    0   \n",
       "1          296261            224668          0    0   \n",
       "2          203827            218598          0    0   \n",
       "3          197558            227088          0    0   \n",
       "4          255994            236965          0    0   \n",
       "\n",
       "   Day Pass Child/Youth w/o SAF  Day Pass without SAF  Monthly passengers  \n",
       "0                             0                     0              935198  \n",
       "1                             0                     0             1049196  \n",
       "2                             0                     0              925511  \n",
       "3                             0                     0              947044  \n",
       "4                             0                     0             1033852  "
      ]
     },
     "execution_count": 3,
     "metadata": {},
     "output_type": "execute_result"
    }
   ],
   "source": [
    "data.head()"
   ]
  },
  {
   "cell_type": "code",
   "execution_count": 4,
   "id": "695a64cf",
   "metadata": {},
   "outputs": [
    {
     "data": {
      "text/html": [
       "<div>\n",
       "<style scoped>\n",
       "    .dataframe tbody tr th:only-of-type {\n",
       "        vertical-align: middle;\n",
       "    }\n",
       "\n",
       "    .dataframe tbody tr th {\n",
       "        vertical-align: top;\n",
       "    }\n",
       "\n",
       "    .dataframe thead th {\n",
       "        text-align: right;\n",
       "    }\n",
       "</style>\n",
       "<table border=\"1\" class=\"dataframe\">\n",
       "  <thead>\n",
       "    <tr style=\"text-align: right;\">\n",
       "      <th></th>\n",
       "      <th>Date</th>\n",
       "      <th>Date2</th>\n",
       "      <th>Adult</th>\n",
       "      <th>Child/Youth</th>\n",
       "      <th>Concession</th>\n",
       "      <th>Employee</th>\n",
       "      <th>Free Travel</th>\n",
       "      <th>School Student</th>\n",
       "      <th>Senior/Pensioner</th>\n",
       "      <th>On Demand</th>\n",
       "      <th>CTP</th>\n",
       "      <th>Day Pass Child/Youth w/o SAF</th>\n",
       "      <th>Day Pass without SAF</th>\n",
       "      <th>Monthly passengers</th>\n",
       "    </tr>\n",
       "  </thead>\n",
       "  <tbody>\n",
       "    <tr>\n",
       "      <th>57</th>\n",
       "      <td>21-Apr</td>\n",
       "      <td>202104</td>\n",
       "      <td>271849</td>\n",
       "      <td>52658</td>\n",
       "      <td>36117</td>\n",
       "      <td>1944</td>\n",
       "      <td>1353</td>\n",
       "      <td>69598</td>\n",
       "      <td>176368</td>\n",
       "      <td>8887</td>\n",
       "      <td>101192</td>\n",
       "      <td>1</td>\n",
       "      <td>99</td>\n",
       "      <td>720066</td>\n",
       "    </tr>\n",
       "    <tr>\n",
       "      <th>58</th>\n",
       "      <td>21-May</td>\n",
       "      <td>202105</td>\n",
       "      <td>289229</td>\n",
       "      <td>42457</td>\n",
       "      <td>42044</td>\n",
       "      <td>1967</td>\n",
       "      <td>1329</td>\n",
       "      <td>132272</td>\n",
       "      <td>183225</td>\n",
       "      <td>10133</td>\n",
       "      <td>106754</td>\n",
       "      <td>0</td>\n",
       "      <td>147</td>\n",
       "      <td>809557</td>\n",
       "    </tr>\n",
       "    <tr>\n",
       "      <th>59</th>\n",
       "      <td>21-Jun</td>\n",
       "      <td>202106</td>\n",
       "      <td>259924</td>\n",
       "      <td>34715</td>\n",
       "      <td>32919</td>\n",
       "      <td>1314</td>\n",
       "      <td>1081</td>\n",
       "      <td>102099</td>\n",
       "      <td>163825</td>\n",
       "      <td>9366</td>\n",
       "      <td>97027</td>\n",
       "      <td>0</td>\n",
       "      <td>95</td>\n",
       "      <td>702365</td>\n",
       "    </tr>\n",
       "    <tr>\n",
       "      <th>60</th>\n",
       "      <td>21-Jul</td>\n",
       "      <td>202107</td>\n",
       "      <td>127354</td>\n",
       "      <td>11205</td>\n",
       "      <td>10461</td>\n",
       "      <td>513</td>\n",
       "      <td>488</td>\n",
       "      <td>1276</td>\n",
       "      <td>75935</td>\n",
       "      <td>0</td>\n",
       "      <td>48652</td>\n",
       "      <td>0</td>\n",
       "      <td>79</td>\n",
       "      <td>275963</td>\n",
       "    </tr>\n",
       "    <tr>\n",
       "      <th>61</th>\n",
       "      <td>21-Aug</td>\n",
       "      <td>202108</td>\n",
       "      <td>102883</td>\n",
       "      <td>6708</td>\n",
       "      <td>7436</td>\n",
       "      <td>480</td>\n",
       "      <td>389</td>\n",
       "      <td>1501</td>\n",
       "      <td>63463</td>\n",
       "      <td>0</td>\n",
       "      <td>39328</td>\n",
       "      <td>1</td>\n",
       "      <td>81</td>\n",
       "      <td>222270</td>\n",
       "    </tr>\n",
       "  </tbody>\n",
       "</table>\n",
       "</div>"
      ],
      "text/plain": [
       "      Date   Date2   Adult  Child/Youth  Concession  Employee  Free Travel  \\\n",
       "57  21-Apr  202104  271849        52658       36117      1944         1353   \n",
       "58  21-May  202105  289229        42457       42044      1967         1329   \n",
       "59  21-Jun  202106  259924        34715       32919      1314         1081   \n",
       "60  21-Jul  202107  127354        11205       10461       513          488   \n",
       "61  21-Aug  202108  102883         6708        7436       480          389   \n",
       "\n",
       "    School Student  Senior/Pensioner  On Demand     CTP  \\\n",
       "57           69598            176368       8887  101192   \n",
       "58          132272            183225      10133  106754   \n",
       "59          102099            163825       9366   97027   \n",
       "60            1276             75935          0   48652   \n",
       "61            1501             63463          0   39328   \n",
       "\n",
       "    Day Pass Child/Youth w/o SAF  Day Pass without SAF  Monthly passengers  \n",
       "57                             1                    99              720066  \n",
       "58                             0                   147              809557  \n",
       "59                             0                    95              702365  \n",
       "60                             0                    79              275963  \n",
       "61                             1                    81              222270  "
      ]
     },
     "execution_count": 4,
     "metadata": {},
     "output_type": "execute_result"
    }
   ],
   "source": [
    "data.tail()"
   ]
  },
  {
   "cell_type": "code",
   "execution_count": 5,
   "id": "231dc639",
   "metadata": {},
   "outputs": [
    {
     "data": {
      "text/plain": [
       "(62, 14)"
      ]
     },
     "execution_count": 5,
     "metadata": {},
     "output_type": "execute_result"
    }
   ],
   "source": [
    "data.shape"
   ]
  },
  {
   "cell_type": "code",
   "execution_count": 6,
   "id": "b74a8fbd",
   "metadata": {},
   "outputs": [
    {
     "data": {
      "text/plain": [
       "<AxesSubplot:xlabel='Date'>"
      ]
     },
     "execution_count": 6,
     "metadata": {},
     "output_type": "execute_result"
    },
    {
     "data": {
      "image/png": "[encoded data removed]",
      "text/plain": [
       "<Figure size 432x288 with 1 Axes>"
      ]
     },
     "metadata": {
      "needs_background": "light"
     },
     "output_type": "display_data"
    }
   ],
   "source": [
    "data.plot.line(x='Date',y='Adult', c='Black')"
   ]
  },
  {
   "cell_type": "code",
   "execution_count": 7,
   "id": "0035788c",
   "metadata": {},
   "outputs": [
    {
     "name": "stdout",
     "output_type": "stream",
     "text": [
      "(45, 14)\n",
      "(17, 14)\n"
     ]
    }
   ],
   "source": [
    "train, test = train_test_split(data, test_size=0.27, random_state=142)\n",
    "print(train.shape)\n",
    "print(test.shape)"
   ]
  },
  {
   "cell_type": "code",
   "execution_count": 42,
   "id": "69857b55",
   "metadata": {},
   "outputs": [
    {
     "name": "stdout",
     "output_type": "stream",
     "text": [
      "y = x * [54.33711405  4.56191094] + -10897123.60698061\n"
     ]
    }
   ],
   "source": [
    "x_train = train[['Date2','Child/Youth']]\n",
    "y_train = train['Adult']\n",
    "\n",
    "reg = linear_model.LinearRegression()\n",
    "reg.fit(x_train,y_train)\n",
    "print(\"y = x *\", reg.coef_, \"+\", reg.intercept_)"
   ]
  },
  {
   "cell_type": "code",
   "execution_count": 43,
   "id": "4b5e923a",
   "metadata": {},
   "outputs": [
    {
     "name": "stdout",
     "output_type": "stream",
     "text": [
      "MSE: 2305381089.7707624\n",
      "R Squared: 0.7981222639196208\n"
     ]
    }
   ],
   "source": [
    "predicted = reg.predict(x_train)\n",
    "mse = ((np.array(y_train)-predicted)**2).sum()/len(y_train)\n",
    "r2 = r2_score(y_train, predicted)\n",
    "print(\"MSE:\", mse)\n",
    "print(\"R Squared:\", r2)"
   ]
  },
  {
   "cell_type": "code",
   "execution_count": null,
   "id": "e8e90704",
   "metadata": {},
   "outputs": [],
   "source": []
  },
  {
   "cell_type": "code",
   "execution_count": null,
   "id": "56a6ca51",
   "metadata": {},
   "outputs": [],
   "source": []
  }
 ],
 "metadata": {
  "kernelspec": {
   "display_name": "Python 3",
   "language": "python",
   "name": "python3"
  },
  "language_info": {
   "codemirror_mode": {
    "name": "ipython",
    "version": 3
   },
   "file_extension": ".py",
   "mimetype": "text/x-python",
   "name": "python",
   "nbconvert_exporter": "python",
   "pygments_lexer": "ipython3",
   "version": "3.8.8"
  }
 },
 "nbformat": 4,
 "nbformat_minor": 5
}
