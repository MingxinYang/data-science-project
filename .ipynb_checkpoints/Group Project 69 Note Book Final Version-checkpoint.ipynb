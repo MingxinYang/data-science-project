{
 "cells": [
  {
   "cell_type": "markdown",
   "id": "7cf8e2ac",
   "metadata": {},
   "source": [
    "# Data science group 69 project \n",
    "\n",
    "## Project Goal:\n",
    "We are going to use the bus opal data from Transport NSW to predict the number of passengers for each month if COVID-19 did not happen. We will also then compare this data with the actual number of passengers during the COVID-19 period.\n",
    "\n",
    "## Data Source and Background:\n",
    "The dataset we will be using comes from the Transport for NSW website, which has several different types of data available about its services. We will be using the Monthly Opal Bus Trips by Contract Area data, which contains information about opal card usage within the bus system throughout Sydney. "
   ]
  },
  {
   "cell_type": "markdown",
   "id": "2b4670ca",
   "metadata": {},
   "source": [
    "#### Import the methods"
   ]
  },
  {
   "cell_type": "code",
   "execution_count": 1,
   "id": "c0546d2f",
   "metadata": {},
   "outputs": [],
   "source": [
    "import pandas as pd\n",
    "import numpy as np\n",
    "import seaborn as sns\n",
    "import matplotlib.pyplot as plt\n",
    "%matplotlib inline\n",
    "from sklearn.model_selection import train_test_split\n",
    "from sklearn import linear_model\n",
    "from sklearn.metrics import r2_score\n",
    "from sklearn.linear_model import LogisticRegression\n",
    "from sklearn.metrics import confusion_matrix, accuracy_score\n",
    "from sklearn.feature_selection import RFE\n",
    "import warnings\n",
    "warnings.filterwarnings(\"ignore\")\n"
   ]
  },
  {
   "cell_type": "markdown",
   "id": "49ab0acf",
   "metadata": {},
   "source": [
    "#### Data Cleaning"
   ]
  },
  {
   "cell_type": "code",
   "execution_count": 2,
   "id": "bf9d82bf",
   "metadata": {},
   "outputs": [],
   "source": [
    "# read the dataset\n",
    "data = pd.read_csv(\"Untitled Folder/Bus Card Type.xlsx - Bus Card Type.csv.csv\")"
   ]
  },
  {
   "cell_type": "code",
   "execution_count": 3,
   "id": "6ccc97d4",
   "metadata": {},
   "outputs": [],
   "source": [
    "## fill the null values with zero, in order to establish the model and plot graphs\n",
    "data=data.fillna(0)"
   ]
  },
  {
   "cell_type": "code",
   "execution_count": 4,
   "id": "466c8041",
   "metadata": {},
   "outputs": [
    {
     "data": {
      "text/plain": [
       "0   2016-07-01\n",
       "1   2016-08-01\n",
       "2   2016-09-01\n",
       "3   2016-10-01\n",
       "4   2016-11-01\n",
       "Name: Date, dtype: datetime64[ns]"
      ]
     },
     "execution_count": 4,
     "metadata": {},
     "output_type": "execute_result"
    }
   ],
   "source": [
    "## converted the Categorical data type of date to a Date type in the Date column \n",
    "data['Date'] = pd.to_datetime( data['Date'], \n",
    " format = '%Y-%m',errors = 'coerce')\n",
    "data.Date.head()"
   ]
  },
  {
   "cell_type": "code",
   "execution_count": 5,
   "id": "4bf4b9b5",
   "metadata": {},
   "outputs": [
    {
     "data": {
      "text/html": [
       "<div>\n",
       "<style scoped>\n",
       "    .dataframe tbody tr th:only-of-type {\n",
       "        vertical-align: middle;\n",
       "    }\n",
       "\n",
       "    .dataframe tbody tr th {\n",
       "        vertical-align: top;\n",
       "    }\n",
       "\n",
       "    .dataframe thead th {\n",
       "        text-align: right;\n",
       "    }\n",
       "</style>\n",
       "<table border=\"1\" class=\"dataframe\">\n",
       "  <thead>\n",
       "    <tr style=\"text-align: right;\">\n",
       "      <th></th>\n",
       "      <th>Month number</th>\n",
       "      <th>Date</th>\n",
       "      <th>Adult</th>\n",
       "      <th>Child/Youth</th>\n",
       "      <th>Concession</th>\n",
       "      <th>Employee</th>\n",
       "      <th>Free Travel</th>\n",
       "      <th>School Student</th>\n",
       "      <th>Senior/Pensioner</th>\n",
       "      <th>On Demand</th>\n",
       "      <th>CTP</th>\n",
       "      <th>Day Pass Child/Youth w/o SAF</th>\n",
       "      <th>Day Pass without SAF</th>\n",
       "      <th>Day Pass without SAF.1</th>\n",
       "      <th>Monthly passengers</th>\n",
       "    </tr>\n",
       "  </thead>\n",
       "  <tbody>\n",
       "    <tr>\n",
       "      <th>0</th>\n",
       "      <td>1</td>\n",
       "      <td>2016-07-01</td>\n",
       "      <td>390433</td>\n",
       "      <td>62800</td>\n",
       "      <td>136064</td>\n",
       "      <td>0.0</td>\n",
       "      <td>1149</td>\n",
       "      <td>138642</td>\n",
       "      <td>206110</td>\n",
       "      <td>0.0</td>\n",
       "      <td>0.0</td>\n",
       "      <td>0.0</td>\n",
       "      <td>0.0</td>\n",
       "      <td>0</td>\n",
       "      <td>935198</td>\n",
       "    </tr>\n",
       "    <tr>\n",
       "      <th>1</th>\n",
       "      <td>2</td>\n",
       "      <td>2016-08-01</td>\n",
       "      <td>386386</td>\n",
       "      <td>67010</td>\n",
       "      <td>73590</td>\n",
       "      <td>0.0</td>\n",
       "      <td>1281</td>\n",
       "      <td>296261</td>\n",
       "      <td>224668</td>\n",
       "      <td>0.0</td>\n",
       "      <td>0.0</td>\n",
       "      <td>0.0</td>\n",
       "      <td>0.0</td>\n",
       "      <td>0</td>\n",
       "      <td>1049196</td>\n",
       "    </tr>\n",
       "    <tr>\n",
       "      <th>2</th>\n",
       "      <td>3</td>\n",
       "      <td>2016-09-01</td>\n",
       "      <td>370068</td>\n",
       "      <td>70022</td>\n",
       "      <td>61676</td>\n",
       "      <td>0.0</td>\n",
       "      <td>1320</td>\n",
       "      <td>203827</td>\n",
       "      <td>218598</td>\n",
       "      <td>0.0</td>\n",
       "      <td>0.0</td>\n",
       "      <td>0.0</td>\n",
       "      <td>0.0</td>\n",
       "      <td>0</td>\n",
       "      <td>925511</td>\n",
       "    </tr>\n",
       "    <tr>\n",
       "      <th>3</th>\n",
       "      <td>4</td>\n",
       "      <td>2016-10-01</td>\n",
       "      <td>381402</td>\n",
       "      <td>78951</td>\n",
       "      <td>60635</td>\n",
       "      <td>0.0</td>\n",
       "      <td>1410</td>\n",
       "      <td>197558</td>\n",
       "      <td>227088</td>\n",
       "      <td>0.0</td>\n",
       "      <td>0.0</td>\n",
       "      <td>0.0</td>\n",
       "      <td>0.0</td>\n",
       "      <td>0</td>\n",
       "      <td>947044</td>\n",
       "    </tr>\n",
       "    <tr>\n",
       "      <th>4</th>\n",
       "      <td>5</td>\n",
       "      <td>2016-11-01</td>\n",
       "      <td>405245</td>\n",
       "      <td>76328</td>\n",
       "      <td>57858</td>\n",
       "      <td>0.0</td>\n",
       "      <td>1462</td>\n",
       "      <td>255994</td>\n",
       "      <td>236965</td>\n",
       "      <td>0.0</td>\n",
       "      <td>0.0</td>\n",
       "      <td>0.0</td>\n",
       "      <td>0.0</td>\n",
       "      <td>0</td>\n",
       "      <td>1033852</td>\n",
       "    </tr>\n",
       "  </tbody>\n",
       "</table>\n",
       "</div>"
      ],
      "text/plain": [
       "   Month number       Date   Adult  Child/Youth  Concession  Employee  \\\n",
       "0             1 2016-07-01  390433        62800      136064       0.0   \n",
       "1             2 2016-08-01  386386        67010       73590       0.0   \n",
       "2             3 2016-09-01  370068        70022       61676       0.0   \n",
       "3             4 2016-10-01  381402        78951       60635       0.0   \n",
       "4             5 2016-11-01  405245        76328       57858       0.0   \n",
       "\n",
       "   Free Travel  School Student  Senior/Pensioner  On Demand  CTP  \\\n",
       "0         1149          138642            206110        0.0  0.0   \n",
       "1         1281          296261            224668        0.0  0.0   \n",
       "2         1320          203827            218598        0.0  0.0   \n",
       "3         1410          197558            227088        0.0  0.0   \n",
       "4         1462          255994            236965        0.0  0.0   \n",
       "\n",
       "   Day Pass Child/Youth w/o SAF  Day Pass without SAF  Day Pass without SAF.1  \\\n",
       "0                           0.0                   0.0                       0   \n",
       "1                           0.0                   0.0                       0   \n",
       "2                           0.0                   0.0                       0   \n",
       "3                           0.0                   0.0                       0   \n",
       "4                           0.0                   0.0                       0   \n",
       "\n",
       "   Monthly passengers  \n",
       "0              935198  \n",
       "1             1049196  \n",
       "2              925511  \n",
       "3              947044  \n",
       "4             1033852  "
      ]
     },
     "execution_count": 5,
     "metadata": {},
     "output_type": "execute_result"
    }
   ],
   "source": [
    "data.head()"
   ]
  },
  {
   "cell_type": "code",
   "execution_count": 6,
   "id": "4bfdb441",
   "metadata": {},
   "outputs": [
    {
     "data": {
      "text/plain": [
       "(62, 15)"
      ]
     },
     "execution_count": 6,
     "metadata": {},
     "output_type": "execute_result"
    }
   ],
   "source": [
    "data.shape"
   ]
  },
  {
   "cell_type": "code",
   "execution_count": 7,
   "id": "e0d65b87",
   "metadata": {},
   "outputs": [
    {
     "data": {
      "text/html": [
       "<div>\n",
       "<style scoped>\n",
       "    .dataframe tbody tr th:only-of-type {\n",
       "        vertical-align: middle;\n",
       "    }\n",
       "\n",
       "    .dataframe tbody tr th {\n",
       "        vertical-align: top;\n",
       "    }\n",
       "\n",
       "    .dataframe thead th {\n",
       "        text-align: right;\n",
       "    }\n",
       "</style>\n",
       "<table border=\"1\" class=\"dataframe\">\n",
       "  <thead>\n",
       "    <tr style=\"text-align: right;\">\n",
       "      <th></th>\n",
       "      <th>Month number</th>\n",
       "      <th>Date</th>\n",
       "      <th>Adult</th>\n",
       "      <th>Child/Youth</th>\n",
       "      <th>Concession</th>\n",
       "      <th>Employee</th>\n",
       "      <th>Free Travel</th>\n",
       "      <th>School Student</th>\n",
       "      <th>Senior/Pensioner</th>\n",
       "      <th>On Demand</th>\n",
       "      <th>CTP</th>\n",
       "      <th>Day Pass Child/Youth w/o SAF</th>\n",
       "      <th>Day Pass without SAF</th>\n",
       "      <th>Day Pass without SAF.1</th>\n",
       "      <th>Monthly passengers</th>\n",
       "    </tr>\n",
       "  </thead>\n",
       "  <tbody>\n",
       "    <tr>\n",
       "      <th>42</th>\n",
       "      <td>43</td>\n",
       "      <td>2020-01-01</td>\n",
       "      <td>452466</td>\n",
       "      <td>95311</td>\n",
       "      <td>41589</td>\n",
       "      <td>3015.0</td>\n",
       "      <td>1955</td>\n",
       "      <td>26904</td>\n",
       "      <td>215635</td>\n",
       "      <td>10190.0</td>\n",
       "      <td>72400.0</td>\n",
       "      <td>9.0</td>\n",
       "      <td>120.0</td>\n",
       "      <td>120</td>\n",
       "      <td>919594</td>\n",
       "    </tr>\n",
       "    <tr>\n",
       "      <th>43</th>\n",
       "      <td>44</td>\n",
       "      <td>2020-02-01</td>\n",
       "      <td>467925</td>\n",
       "      <td>82827</td>\n",
       "      <td>54455</td>\n",
       "      <td>2941.0</td>\n",
       "      <td>1957</td>\n",
       "      <td>248840</td>\n",
       "      <td>221171</td>\n",
       "      <td>10801.0</td>\n",
       "      <td>79982.0</td>\n",
       "      <td>16.0</td>\n",
       "      <td>150.0</td>\n",
       "      <td>150</td>\n",
       "      <td>1171065</td>\n",
       "    </tr>\n",
       "    <tr>\n",
       "      <th>44</th>\n",
       "      <td>45</td>\n",
       "      <td>2020-03-01</td>\n",
       "      <td>392860</td>\n",
       "      <td>59296</td>\n",
       "      <td>58725</td>\n",
       "      <td>2745.0</td>\n",
       "      <td>1535</td>\n",
       "      <td>193275</td>\n",
       "      <td>186468</td>\n",
       "      <td>7789.0</td>\n",
       "      <td>72009.0</td>\n",
       "      <td>24.0</td>\n",
       "      <td>150.0</td>\n",
       "      <td>150</td>\n",
       "      <td>974876</td>\n",
       "    </tr>\n",
       "    <tr>\n",
       "      <th>45</th>\n",
       "      <td>46</td>\n",
       "      <td>2020-04-01</td>\n",
       "      <td>171160</td>\n",
       "      <td>16162</td>\n",
       "      <td>13028</td>\n",
       "      <td>1218.0</td>\n",
       "      <td>676</td>\n",
       "      <td>3287</td>\n",
       "      <td>91583</td>\n",
       "      <td>1763.0</td>\n",
       "      <td>37115.0</td>\n",
       "      <td>4.0</td>\n",
       "      <td>93.0</td>\n",
       "      <td>93</td>\n",
       "      <td>336089</td>\n",
       "    </tr>\n",
       "    <tr>\n",
       "      <th>46</th>\n",
       "      <td>47</td>\n",
       "      <td>2020-05-01</td>\n",
       "      <td>216827</td>\n",
       "      <td>28396</td>\n",
       "      <td>17912</td>\n",
       "      <td>1424.0</td>\n",
       "      <td>898</td>\n",
       "      <td>64900</td>\n",
       "      <td>118350</td>\n",
       "      <td>2940.0</td>\n",
       "      <td>49688.0</td>\n",
       "      <td>0.0</td>\n",
       "      <td>97.0</td>\n",
       "      <td>97</td>\n",
       "      <td>501432</td>\n",
       "    </tr>\n",
       "    <tr>\n",
       "      <th>47</th>\n",
       "      <td>48</td>\n",
       "      <td>2020-06-01</td>\n",
       "      <td>260477</td>\n",
       "      <td>40075</td>\n",
       "      <td>24328</td>\n",
       "      <td>1593.0</td>\n",
       "      <td>1164</td>\n",
       "      <td>166127</td>\n",
       "      <td>145567</td>\n",
       "      <td>4980.0</td>\n",
       "      <td>62234.0</td>\n",
       "      <td>0.0</td>\n",
       "      <td>121.0</td>\n",
       "      <td>121</td>\n",
       "      <td>706666</td>\n",
       "    </tr>\n",
       "    <tr>\n",
       "      <th>48</th>\n",
       "      <td>49</td>\n",
       "      <td>2020-07-01</td>\n",
       "      <td>288798</td>\n",
       "      <td>55356</td>\n",
       "      <td>29962</td>\n",
       "      <td>1794.0</td>\n",
       "      <td>1173</td>\n",
       "      <td>89474</td>\n",
       "      <td>158537</td>\n",
       "      <td>6217.0</td>\n",
       "      <td>71847.0</td>\n",
       "      <td>53.0</td>\n",
       "      <td>128.0</td>\n",
       "      <td>128</td>\n",
       "      <td>703339</td>\n",
       "    </tr>\n",
       "    <tr>\n",
       "      <th>49</th>\n",
       "      <td>50</td>\n",
       "      <td>2020-08-01</td>\n",
       "      <td>270591</td>\n",
       "      <td>41851</td>\n",
       "      <td>30755</td>\n",
       "      <td>1697.0</td>\n",
       "      <td>1159</td>\n",
       "      <td>148147</td>\n",
       "      <td>150110</td>\n",
       "      <td>5639.0</td>\n",
       "      <td>67871.0</td>\n",
       "      <td>0.0</td>\n",
       "      <td>98.0</td>\n",
       "      <td>98</td>\n",
       "      <td>717918</td>\n",
       "    </tr>\n",
       "    <tr>\n",
       "      <th>50</th>\n",
       "      <td>51</td>\n",
       "      <td>2020-09-01</td>\n",
       "      <td>278146</td>\n",
       "      <td>44307</td>\n",
       "      <td>30751</td>\n",
       "      <td>1747.0</td>\n",
       "      <td>1110</td>\n",
       "      <td>128544</td>\n",
       "      <td>158729</td>\n",
       "      <td>6581.0</td>\n",
       "      <td>74706.0</td>\n",
       "      <td>0.0</td>\n",
       "      <td>96.0</td>\n",
       "      <td>96</td>\n",
       "      <td>724717</td>\n",
       "    </tr>\n",
       "    <tr>\n",
       "      <th>51</th>\n",
       "      <td>52</td>\n",
       "      <td>2020-10-01</td>\n",
       "      <td>275385</td>\n",
       "      <td>50513</td>\n",
       "      <td>29663</td>\n",
       "      <td>1780.0</td>\n",
       "      <td>1219</td>\n",
       "      <td>93826</td>\n",
       "      <td>162732</td>\n",
       "      <td>6706.0</td>\n",
       "      <td>81315.0</td>\n",
       "      <td>0.0</td>\n",
       "      <td>141.0</td>\n",
       "      <td>141</td>\n",
       "      <td>703280</td>\n",
       "    </tr>\n",
       "    <tr>\n",
       "      <th>52</th>\n",
       "      <td>53</td>\n",
       "      <td>2020-11-01</td>\n",
       "      <td>278318</td>\n",
       "      <td>41384</td>\n",
       "      <td>29494</td>\n",
       "      <td>1811.0</td>\n",
       "      <td>1290</td>\n",
       "      <td>123464</td>\n",
       "      <td>167290</td>\n",
       "      <td>6671.0</td>\n",
       "      <td>84564.0</td>\n",
       "      <td>0.0</td>\n",
       "      <td>119.0</td>\n",
       "      <td>119</td>\n",
       "      <td>734405</td>\n",
       "    </tr>\n",
       "    <tr>\n",
       "      <th>53</th>\n",
       "      <td>54</td>\n",
       "      <td>2020-12-01</td>\n",
       "      <td>261170</td>\n",
       "      <td>47658</td>\n",
       "      <td>26377</td>\n",
       "      <td>1755.0</td>\n",
       "      <td>1291</td>\n",
       "      <td>60504</td>\n",
       "      <td>163863</td>\n",
       "      <td>6924.0</td>\n",
       "      <td>86850.0</td>\n",
       "      <td>3.0</td>\n",
       "      <td>130.0</td>\n",
       "      <td>130</td>\n",
       "      <td>656525</td>\n",
       "    </tr>\n",
       "    <tr>\n",
       "      <th>54</th>\n",
       "      <td>55</td>\n",
       "      <td>2021-01-01</td>\n",
       "      <td>230528</td>\n",
       "      <td>46574</td>\n",
       "      <td>20182</td>\n",
       "      <td>1409.0</td>\n",
       "      <td>1129</td>\n",
       "      <td>5077</td>\n",
       "      <td>137359</td>\n",
       "      <td>6077.0</td>\n",
       "      <td>77831.0</td>\n",
       "      <td>0.0</td>\n",
       "      <td>140.0</td>\n",
       "      <td>140</td>\n",
       "      <td>526306</td>\n",
       "    </tr>\n",
       "    <tr>\n",
       "      <th>55</th>\n",
       "      <td>56</td>\n",
       "      <td>2021-02-01</td>\n",
       "      <td>265311</td>\n",
       "      <td>45469</td>\n",
       "      <td>30997</td>\n",
       "      <td>1746.0</td>\n",
       "      <td>1234</td>\n",
       "      <td>149034</td>\n",
       "      <td>161608</td>\n",
       "      <td>7723.0</td>\n",
       "      <td>88175.0</td>\n",
       "      <td>5.0</td>\n",
       "      <td>207.0</td>\n",
       "      <td>207</td>\n",
       "      <td>751509</td>\n",
       "    </tr>\n",
       "    <tr>\n",
       "      <th>56</th>\n",
       "      <td>57</td>\n",
       "      <td>2021-03-01</td>\n",
       "      <td>294367</td>\n",
       "      <td>42069</td>\n",
       "      <td>45028</td>\n",
       "      <td>1902.0</td>\n",
       "      <td>1459</td>\n",
       "      <td>153294</td>\n",
       "      <td>182357</td>\n",
       "      <td>9412.0</td>\n",
       "      <td>98040.0</td>\n",
       "      <td>7.0</td>\n",
       "      <td>163.0</td>\n",
       "      <td>163</td>\n",
       "      <td>828098</td>\n",
       "    </tr>\n",
       "    <tr>\n",
       "      <th>57</th>\n",
       "      <td>58</td>\n",
       "      <td>2021-04-01</td>\n",
       "      <td>271849</td>\n",
       "      <td>52658</td>\n",
       "      <td>36117</td>\n",
       "      <td>1944.0</td>\n",
       "      <td>1353</td>\n",
       "      <td>69598</td>\n",
       "      <td>176368</td>\n",
       "      <td>8887.0</td>\n",
       "      <td>101192.0</td>\n",
       "      <td>1.0</td>\n",
       "      <td>99.0</td>\n",
       "      <td>99</td>\n",
       "      <td>720066</td>\n",
       "    </tr>\n",
       "    <tr>\n",
       "      <th>58</th>\n",
       "      <td>59</td>\n",
       "      <td>2021-05-01</td>\n",
       "      <td>289229</td>\n",
       "      <td>42457</td>\n",
       "      <td>42044</td>\n",
       "      <td>1967.0</td>\n",
       "      <td>1329</td>\n",
       "      <td>132272</td>\n",
       "      <td>183225</td>\n",
       "      <td>10133.0</td>\n",
       "      <td>106754.0</td>\n",
       "      <td>0.0</td>\n",
       "      <td>147.0</td>\n",
       "      <td>147</td>\n",
       "      <td>809557</td>\n",
       "    </tr>\n",
       "    <tr>\n",
       "      <th>59</th>\n",
       "      <td>60</td>\n",
       "      <td>2021-06-01</td>\n",
       "      <td>259924</td>\n",
       "      <td>34715</td>\n",
       "      <td>32919</td>\n",
       "      <td>1314.0</td>\n",
       "      <td>1081</td>\n",
       "      <td>102099</td>\n",
       "      <td>163825</td>\n",
       "      <td>9366.0</td>\n",
       "      <td>97027.0</td>\n",
       "      <td>0.0</td>\n",
       "      <td>95.0</td>\n",
       "      <td>95</td>\n",
       "      <td>702365</td>\n",
       "    </tr>\n",
       "    <tr>\n",
       "      <th>60</th>\n",
       "      <td>61</td>\n",
       "      <td>2021-07-01</td>\n",
       "      <td>127354</td>\n",
       "      <td>11205</td>\n",
       "      <td>10461</td>\n",
       "      <td>513.0</td>\n",
       "      <td>488</td>\n",
       "      <td>1276</td>\n",
       "      <td>75935</td>\n",
       "      <td>0.0</td>\n",
       "      <td>48652.0</td>\n",
       "      <td>0.0</td>\n",
       "      <td>79.0</td>\n",
       "      <td>79</td>\n",
       "      <td>275963</td>\n",
       "    </tr>\n",
       "    <tr>\n",
       "      <th>61</th>\n",
       "      <td>62</td>\n",
       "      <td>2021-08-01</td>\n",
       "      <td>102883</td>\n",
       "      <td>6708</td>\n",
       "      <td>7436</td>\n",
       "      <td>480.0</td>\n",
       "      <td>389</td>\n",
       "      <td>1501</td>\n",
       "      <td>63463</td>\n",
       "      <td>0.0</td>\n",
       "      <td>39328.0</td>\n",
       "      <td>1.0</td>\n",
       "      <td>81.0</td>\n",
       "      <td>81</td>\n",
       "      <td>222270</td>\n",
       "    </tr>\n",
       "  </tbody>\n",
       "</table>\n",
       "</div>"
      ],
      "text/plain": [
       "    Month number       Date   Adult  Child/Youth  Concession  Employee  \\\n",
       "42            43 2020-01-01  452466        95311       41589    3015.0   \n",
       "43            44 2020-02-01  467925        82827       54455    2941.0   \n",
       "44            45 2020-03-01  392860        59296       58725    2745.0   \n",
       "45            46 2020-04-01  171160        16162       13028    1218.0   \n",
       "46            47 2020-05-01  216827        28396       17912    1424.0   \n",
       "47            48 2020-06-01  260477        40075       24328    1593.0   \n",
       "48            49 2020-07-01  288798        55356       29962    1794.0   \n",
       "49            50 2020-08-01  270591        41851       30755    1697.0   \n",
       "50            51 2020-09-01  278146        44307       30751    1747.0   \n",
       "51            52 2020-10-01  275385        50513       29663    1780.0   \n",
       "52            53 2020-11-01  278318        41384       29494    1811.0   \n",
       "53            54 2020-12-01  261170        47658       26377    1755.0   \n",
       "54            55 2021-01-01  230528        46574       20182    1409.0   \n",
       "55            56 2021-02-01  265311        45469       30997    1746.0   \n",
       "56            57 2021-03-01  294367        42069       45028    1902.0   \n",
       "57            58 2021-04-01  271849        52658       36117    1944.0   \n",
       "58            59 2021-05-01  289229        42457       42044    1967.0   \n",
       "59            60 2021-06-01  259924        34715       32919    1314.0   \n",
       "60            61 2021-07-01  127354        11205       10461     513.0   \n",
       "61            62 2021-08-01  102883         6708        7436     480.0   \n",
       "\n",
       "    Free Travel  School Student  Senior/Pensioner  On Demand       CTP  \\\n",
       "42         1955           26904            215635    10190.0   72400.0   \n",
       "43         1957          248840            221171    10801.0   79982.0   \n",
       "44         1535          193275            186468     7789.0   72009.0   \n",
       "45          676            3287             91583     1763.0   37115.0   \n",
       "46          898           64900            118350     2940.0   49688.0   \n",
       "47         1164          166127            145567     4980.0   62234.0   \n",
       "48         1173           89474            158537     6217.0   71847.0   \n",
       "49         1159          148147            150110     5639.0   67871.0   \n",
       "50         1110          128544            158729     6581.0   74706.0   \n",
       "51         1219           93826            162732     6706.0   81315.0   \n",
       "52         1290          123464            167290     6671.0   84564.0   \n",
       "53         1291           60504            163863     6924.0   86850.0   \n",
       "54         1129            5077            137359     6077.0   77831.0   \n",
       "55         1234          149034            161608     7723.0   88175.0   \n",
       "56         1459          153294            182357     9412.0   98040.0   \n",
       "57         1353           69598            176368     8887.0  101192.0   \n",
       "58         1329          132272            183225    10133.0  106754.0   \n",
       "59         1081          102099            163825     9366.0   97027.0   \n",
       "60          488            1276             75935        0.0   48652.0   \n",
       "61          389            1501             63463        0.0   39328.0   \n",
       "\n",
       "    Day Pass Child/Youth w/o SAF  Day Pass without SAF  \\\n",
       "42                           9.0                 120.0   \n",
       "43                          16.0                 150.0   \n",
       "44                          24.0                 150.0   \n",
       "45                           4.0                  93.0   \n",
       "46                           0.0                  97.0   \n",
       "47                           0.0                 121.0   \n",
       "48                          53.0                 128.0   \n",
       "49                           0.0                  98.0   \n",
       "50                           0.0                  96.0   \n",
       "51                           0.0                 141.0   \n",
       "52                           0.0                 119.0   \n",
       "53                           3.0                 130.0   \n",
       "54                           0.0                 140.0   \n",
       "55                           5.0                 207.0   \n",
       "56                           7.0                 163.0   \n",
       "57                           1.0                  99.0   \n",
       "58                           0.0                 147.0   \n",
       "59                           0.0                  95.0   \n",
       "60                           0.0                  79.0   \n",
       "61                           1.0                  81.0   \n",
       "\n",
       "    Day Pass without SAF.1  Monthly passengers  \n",
       "42                     120              919594  \n",
       "43                     150             1171065  \n",
       "44                     150              974876  \n",
       "45                      93              336089  \n",
       "46                      97              501432  \n",
       "47                     121              706666  \n",
       "48                     128              703339  \n",
       "49                      98              717918  \n",
       "50                      96              724717  \n",
       "51                     141              703280  \n",
       "52                     119              734405  \n",
       "53                     130              656525  \n",
       "54                     140              526306  \n",
       "55                     207              751509  \n",
       "56                     163              828098  \n",
       "57                      99              720066  \n",
       "58                     147              809557  \n",
       "59                      95              702365  \n",
       "60                      79              275963  \n",
       "61                      81              222270  "
      ]
     },
     "execution_count": 7,
     "metadata": {},
     "output_type": "execute_result"
    }
   ],
   "source": [
    "data.tail(20)"
   ]
  },
  {
   "cell_type": "markdown",
   "id": "900537bf",
   "metadata": {},
   "source": [
    "#### Plot the graph"
   ]
  },
  {
   "cell_type": "code",
   "execution_count": 8,
   "id": "451172b8",
   "metadata": {},
   "outputs": [
    {
     "data": {
      "text/plain": [
       "<AxesSubplot:xlabel='year', ylabel='million'>"
      ]
     },
     "execution_count": 8,
     "metadata": {},
     "output_type": "execute_result"
    },
    {
     "data": {
      "image/png": "[encoded data removed]",
      "text/plain": [
       "<Figure size 432x288 with 1 Axes>"
      ]
     },
     "metadata": {
      "needs_background": "light"
     },
     "output_type": "display_data"
    },
    {
     "data": {
      "image/png": "[encoded data removed]",
      "text/plain": [
       "<Figure size 432x288 with 1 Axes>"
      ]
     },
     "metadata": {
      "needs_background": "light"
     },
     "output_type": "display_data"
    },
    {
     "data": {
      "image/png": "[encoded data removed]",
      "text/plain": [
       "<Figure size 432x288 with 1 Axes>"
      ]
     },
     "metadata": {
      "needs_background": "light"
     },
     "output_type": "display_data"
    }
   ],
   "source": [
    "data.plot(x='Date',xlabel='year',y='Adult')\n",
    "data.plot(x='Date',xlabel='year',y='Child/Youth')\n",
    "data.plot(ylabel='million',x='Date',xlabel='year',y='Monthly passengers')"
   ]
  },
  {
   "cell_type": "code",
   "execution_count": 9,
   "id": "67194b1f",
   "metadata": {},
   "outputs": [
    {
     "name": "stdout",
     "output_type": "stream",
     "text": [
      "The total number of average monthly passengers before covid is:\n",
      " 45763020\n"
     ]
    }
   ],
   "source": [
    "before_covid=(data['Monthly passengers'][:44])\n",
    "print(\"The total number of average monthly passengers before covid is:\\n\", before_covid.sum())"
   ]
  },
  {
   "cell_type": "code",
   "execution_count": 10,
   "id": "8340cc43",
   "metadata": {},
   "outputs": [
    {
     "name": "stdout",
     "output_type": "stream",
     "text": [
      "The total number of average monthly passengers during covid is:\n",
      " 11595381\n"
     ]
    }
   ],
   "source": [
    "have_covid=(data['Monthly passengers'][44:])\n",
    "print(\"The total number of average monthly passengers during covid is:\\n\", have_covid.sum())"
   ]
  },
  {
   "cell_type": "markdown",
   "id": "49e4532d",
   "metadata": {},
   "source": [
    "# Write what we print for next line before_covid.sum()-have_covid.sum()"
   ]
  },
  {
   "cell_type": "code",
   "execution_count": 12,
   "id": "41d5be0f",
   "metadata": {},
   "outputs": [
    {
     "name": "stdout",
     "output_type": "stream",
     "text": [
      "34167639\n"
     ]
    }
   ],
   "source": [
    "print(before_covid.sum()-have_covid.sum())"
   ]
  },
  {
   "cell_type": "markdown",
   "id": "9929540a",
   "metadata": {},
   "source": [
    "### Linear Regression"
   ]
  },
  {
   "cell_type": "markdown",
   "id": "0699e857",
   "metadata": {},
   "source": [
    "# Help  rewriting for heading"
   ]
  },
  {
   "cell_type": "markdown",
   "id": "16f8fce1",
   "metadata": {},
   "source": [
    "####  compare using one feature and two feature"
   ]
  },
  {
   "cell_type": "markdown",
   "id": "60b1d4ec",
   "metadata": {},
   "source": [
    "##### Only use one feature - Month Number"
   ]
  },
  {
   "cell_type": "code",
   "execution_count": 13,
   "id": "e25225cd",
   "metadata": {},
   "outputs": [
    {
     "name": "stdout",
     "output_type": "stream",
     "text": [
      "y =X * [-6152.93754879] + 1118953.0327868853\n"
     ]
    }
   ],
   "source": [
    "reg = linear_model.LinearRegression()\n",
    "X = data[['Month number'[:44]]]\n",
    "y = data['Monthly passengers'[:44]]\n",
    "reg.fit(X, y)\n",
    "\n",
    "print(\"y =X *\", reg.coef_, \"+\", reg.intercept_)"
   ]
  },
  {
   "cell_type": "code",
   "execution_count": 14,
   "id": "e9e8dff0",
   "metadata": {},
   "outputs": [
    {
     "name": "stdout",
     "output_type": "stream",
     "text": [
      "MSE: 46882728949.29938\n",
      "R Squared: 0.20547118354855975\n"
     ]
    }
   ],
   "source": [
    "predicted = reg.predict(X)\n",
    "mse = ((np.array(y)-predicted)**2).sum()/len(y)\n",
    "r2 = r2_score(y, predicted)\n",
    "\n",
    "print(\"MSE:\", mse)\n",
    "print(\"R Squared:\", r2)"
   ]
  },
  {
   "cell_type": "markdown",
   "id": "5f9d710a",
   "metadata": {},
   "source": [
    "#### Use two feature - Month Number & Adult"
   ]
  },
  {
   "cell_type": "code",
   "execution_count": 15,
   "id": "ffa09846",
   "metadata": {},
   "outputs": [
    {
     "name": "stdout",
     "output_type": "stream",
     "text": [
      "y =X * [-165.81391045    2.11499808] + 99110.49371422525\n"
     ]
    }
   ],
   "source": [
    "reg = linear_model.LinearRegression()\n",
    "X = data[['Month number','Adult']]\n",
    "y = data['Monthly passengers']\n",
    "reg.fit(X, y)\n",
    "\n",
    "print(\"y =X *\", reg.coef_, \"+\", reg.intercept_)"
   ]
  },
  {
   "cell_type": "code",
   "execution_count": 16,
   "id": "afb79dd2",
   "metadata": {},
   "outputs": [
    {
     "name": "stdout",
     "output_type": "stream",
     "text": [
      "MSE: 6359288888.733247\n",
      "R Squared: 0.8922281533632114\n"
     ]
    }
   ],
   "source": [
    "predicted = reg.predict(X)\n",
    "mse = ((np.array(y)-predicted)**2).sum()/len(y)\n",
    "r2 = r2_score(y, predicted)\n",
    "\n",
    "print(\"MSE:\", mse)\n",
    "print(\"R Squared:\", r2)"
   ]
  },
  {
   "cell_type": "markdown",
   "id": "92a693c9",
   "metadata": {},
   "source": [
    "# Helpe pls rewords\n",
    "#### Compare which one is better\n",
    "using two feature is better Rsquare 0.2>0.89"
   ]
  },
  {
   "cell_type": "code",
   "execution_count": null,
   "id": "36eaf9b9",
   "metadata": {},
   "outputs": [],
   "source": []
  },
  {
   "cell_type": "markdown",
   "id": "183e55ba",
   "metadata": {},
   "source": [
    "#### Split the data into two parts:\n",
    "train - dates before covid\n",
    "<br>test - period after covid happen and lockdown;"
   ]
  },
  {
   "cell_type": "code",
   "execution_count": 17,
   "id": "9ee07774",
   "metadata": {},
   "outputs": [
    {
     "name": "stdout",
     "output_type": "stream",
     "text": [
      "The size for train:  (45, 15)\n",
      "The size for test:  (17, 15)\n"
     ]
    }
   ],
   "source": [
    "train, test = train_test_split(data, test_size=0.26, random_state=142)\n",
    "print(\"The size for train: \", train.shape)\n",
    "print(\"The size for test: \", test.shape)"
   ]
  },
  {
   "cell_type": "markdown",
   "id": "31626121",
   "metadata": {},
   "source": [
    "### Apply train and test"
   ]
  },
  {
   "cell_type": "markdown",
   "id": "ea9e5e29",
   "metadata": {},
   "source": [
    "#### Check we need use Adult or Child/Youth"
   ]
  },
  {
   "cell_type": "markdown",
   "id": "61cd486b",
   "metadata": {},
   "source": [
    "#####  for Child/Youth"
   ]
  },
  {
   "cell_type": "code",
   "execution_count": null,
   "id": "8b114306",
   "metadata": {},
   "outputs": [],
   "source": [
    "# Asign the train and test\n",
    "X_train = train[['Month number','Child/Youth']]\n",
    "y_train = train['Monthly passengers']\n",
    "X_test =test[['Month number','Child/Youth']]\n",
    "y_test = test['Monthly passengers']\n",
    "reg = linear_model.LinearRegression()\n",
    "reg.fit(X_train,y_train)\n",
    "print(\"y = x *\", reg.coef_, \"+\", reg.intercept_)"
   ]
  },
  {
   "cell_type": "code",
   "execution_count": null,
   "id": "75a3b2b0",
   "metadata": {},
   "outputs": [],
   "source": [
    "print(\"X_train shape:\", X_train.shape)\n",
    "print(\"y_train shape:\", y_train.shape)\n",
    "print(\"X_test shape:\", X_test.shape)\n",
    "print(\"y_test shape:\", y_test.shape)"
   ]
  },
  {
   "cell_type": "code",
   "execution_count": null,
   "id": "fd140603",
   "metadata": {},
   "outputs": [],
   "source": [
    "# get prediction\n",
    "predicted = reg.predict(X_test)\n",
    "mse = ((np.array(y_test)-predicted)**2).sum()/len(y_test)\n",
    "r2 = r2_score(y_test, predicted)\n",
    "print(\"MSE:\", mse)\n",
    "print(\"Root MSE:\", np.sqrt(mse))\n",
    "print(\"R Squared:\", r2)"
   ]
  },
  {
   "cell_type": "markdown",
   "id": "8f8cefde",
   "metadata": {},
   "source": [
    "#####  for Adult"
   ]
  },
  {
   "cell_type": "code",
   "execution_count": null,
   "id": "871f8cef",
   "metadata": {},
   "outputs": [],
   "source": [
    "# Asign the train and test\n",
    "X_train = train[['Month number','Adult']]\n",
    "y_train = train['Monthly passengers']\n",
    "X_test =test[['Month number','Adult']]\n",
    "y_test = test['Monthly passengers']\n",
    "reg = linear_model.LinearRegression()\n",
    "reg.fit(X_train,y_train)\n",
    "print(\"y = x *\", reg.coef_, \"+\", reg.intercept_)"
   ]
  },
  {
   "cell_type": "code",
   "execution_count": null,
   "id": "69afeb1e",
   "metadata": {},
   "outputs": [],
   "source": [
    "print(\"X_train shape:\", X_train.shape)\n",
    "print(\"y_train shape:\", y_train.shape)\n",
    "print(\"X_test shape:\", X_test.shape)\n",
    "print(\"y_test shape:\", y_test.shape)"
   ]
  },
  {
   "cell_type": "code",
   "execution_count": null,
   "id": "8b34e981",
   "metadata": {},
   "outputs": [],
   "source": [
    "# get prediction\n",
    "predicted = reg.predict(X_test)\n",
    "mse = ((np.array(y_test)-predicted)**2).sum()/len(y_test)\n",
    "r2 = r2_score(y_test, predicted)\n",
    "print(\"MSE:\", mse)\n",
    "print(\"Root MSE:\", np.sqrt(mse))\n",
    "print(\"R Squared:\", r2)"
   ]
  },
  {
   "cell_type": "code",
   "execution_count": null,
   "id": "93728c68",
   "metadata": {},
   "outputs": [],
   "source": [
    "y_hat_train=reg.predict(X_train)\n",
    "y_hat_train"
   ]
  },
  {
   "cell_type": "markdown",
   "id": "56548449",
   "metadata": {},
   "source": [
    "# help: rewords\n",
    "Comparison between predicted data based on adult and child/youth:\n",
    "<br>\n",
    "From the correlation coefficient we got from the calculation, the R squared value for using child/youth is 0.74 and for the adult values it is 088. As higher R-squared value indictes a better fit for the model, we diceded to use adult to fit with our model."
   ]
  },
  {
   "cell_type": "markdown",
   "id": "e2f426b7",
   "metadata": {},
   "source": [
    "#### Result"
   ]
  },
  {
   "cell_type": "code",
   "execution_count": null,
   "id": "7f00833e",
   "metadata": {},
   "outputs": [],
   "source": [
    "## monthly passengers number during the covid period assuming there's no covid in NSW\n",
    "MonthlyPassengerNoCovid=reg.predict(X_test)\n",
    "print(len(MonthlyPassengerNoCovid))\n",
    "MonthlyPassengerNoCovid"
   ]
  },
  {
   "cell_type": "code",
   "execution_count": null,
   "id": "21deed59",
   "metadata": {},
   "outputs": [],
   "source": [
    "## change monthly passengers number during actual covid period into array\n",
    "ActualMonthlyPassengers = np.asarray(data['Monthly passengers'][45:])\n",
    "ActualMonthlyPassengers"
   ]
  },
  {
   "cell_type": "code",
   "execution_count": null,
   "id": "3efc96b1",
   "metadata": {},
   "outputs": [],
   "source": [
    "## change covid period date into array \n",
    "HavingCovidPeriod = np.asarray(data['Date'][45:])\n",
    "HavingCovidPeriod"
   ]
  },
  {
   "cell_type": "code",
   "execution_count": null,
   "id": "a6205a17",
   "metadata": {},
   "outputs": [],
   "source": [
    "## create a table that contain covid period date, actual covid data and predicted covid period data\n",
    "pd.set_option('display.float_format', lambda x: '%.0f' % x)\n",
    "CompareMonthlyPassengers = pd.DataFrame({'Date':HavingCovidPeriod,'Have COVID':ActualMonthlyPassengers,'No COVID(Prediceted)':MonthlyPassengerNoCovid})\n",
    "CompareMonthlyPassengers"
   ]
  },
  {
   "cell_type": "code",
   "execution_count": null,
   "id": "6727dcf5",
   "metadata": {},
   "outputs": [],
   "source": [
    "CompareMonthlyPassengers.plot(kind = 'bar', x = 'Date',title = 'comparison of Monthly Passengers')"
   ]
  },
  {
   "cell_type": "code",
   "execution_count": null,
   "id": "1cd1801f",
   "metadata": {},
   "outputs": [],
   "source": [
    "CompareMonthlyPassengers.plot(kind = 'line', x = 'Date',title = 'comparison of Monthly Passengers')"
   ]
  },
  {
   "cell_type": "markdown",
   "id": "f13225b8",
   "metadata": {},
   "source": [
    "# help: rewords\n",
    "As shown on the graphs above, the lockdown decision had make very large impact on the number of monthly passengers "
   ]
  },
  {
   "cell_type": "code",
   "execution_count": null,
   "id": "a0c3e16e",
   "metadata": {},
   "outputs": [],
   "source": []
  },
  {
   "cell_type": "markdown",
   "id": "ed725b22",
   "metadata": {},
   "source": [
    "#### improve the model by using meaningful feature:Ｍｏｎｔｈ"
   ]
  },
  {
   "cell_type": "code",
   "execution_count": null,
   "id": "9f71ded6",
   "metadata": {},
   "outputs": [],
   "source": [
    "Month = np.asarray([7,8,9,10,11,12,1,2,3,4,5,6,7,8,9,10,11,12,1,2,3,4,5,6,7,8,9,10,11,12,1,2,3,4,5,6,7,8,9,10,11,12,1,2,3,4,5,6,7,8,9,10,11,12,1,2,3,4,5,6,7,8])\n",
    "Month"
   ]
  },
  {
   "cell_type": "code",
   "execution_count": null,
   "id": "4812192a",
   "metadata": {},
   "outputs": [],
   "source": [
    "data['Month'] = Month\n",
    "data"
   ]
  },
  {
   "cell_type": "code",
   "execution_count": null,
   "id": "56dbc6a7",
   "metadata": {},
   "outputs": [],
   "source": [
    "# Split the data\n",
    "train, test = train_test_split(data, test_size=0.26, random_state=142)\n",
    "print(train.shape)\n",
    "print(test.shape)"
   ]
  },
  {
   "cell_type": "code",
   "execution_count": null,
   "id": "349d7ae6",
   "metadata": {},
   "outputs": [],
   "source": [
    "# Asign the train and test\n",
    "X_train = train[['Month','Adult']]\n",
    "y_train = train['Monthly passengers']\n",
    "X_test =test[['Month','Adult']]\n",
    "y_test = test['Monthly passengers']\n",
    "reg = linear_model.LinearRegression()\n",
    "reg.fit(X_train,y_train)\n",
    "print(\"y = x *\", reg.coef_, \"+\", reg.intercept_)"
   ]
  },
  {
   "cell_type": "code",
   "execution_count": null,
   "id": "79097557",
   "metadata": {},
   "outputs": [],
   "source": [
    "predicted = reg.predict(X_test)\n",
    "mse = ((np.array(y_test)-predicted)**2).sum()/len(y_test)\n",
    "r2 = r2_score(y_test, predicted)\n",
    "print(\"MSE:\", mse)\n",
    "print(\"Root MSE:\", np.sqrt(mse))\n",
    "print(\"R Squared:\", r2)"
   ]
  },
  {
   "cell_type": "code",
   "execution_count": null,
   "id": "09ccad54",
   "metadata": {},
   "outputs": [],
   "source": [
    "## monthly passengers number during the covid period assuming there's no covid in NSW\n",
    "MonthlyPassengerNoCovid=reg.predict(X_test)\n",
    "print(len(MonthlyPassengerNoCovid))\n",
    "MonthlyPassengerNoCovid"
   ]
  },
  {
   "cell_type": "code",
   "execution_count": null,
   "id": "45cdb422",
   "metadata": {},
   "outputs": [],
   "source": [
    "## create a table that contain covid period date, actual covid data and predicted covid period data\n",
    "pd.set_option('display.float_format', lambda x: '%.0f' % x)\n",
    "CompareMonthlyPassengers = pd.DataFrame({'Date':HavingCovidPeriod,'Have COVID':ActualMonthlyPassengers,'No COVID(Prediceted)':MonthlyPassengerNoCovid})\n",
    "CompareMonthlyPassengers"
   ]
  },
  {
   "cell_type": "code",
   "execution_count": null,
   "id": "32ceb9af",
   "metadata": {},
   "outputs": [],
   "source": [
    "CompareMonthlyPassengers.plot(kind = 'bar', x = 'Date',title = 'comparison of Monthly Passengers')"
   ]
  },
  {
   "cell_type": "code",
   "execution_count": null,
   "id": "cf60d373",
   "metadata": {},
   "outputs": [],
   "source": [
    "CompareMonthlyPassengers.plot(kind = 'line', x = 'Date',title = 'comparison of Monthly Passengers')"
   ]
  },
  {
   "cell_type": "code",
   "execution_count": null,
   "id": "820ae5c9",
   "metadata": {},
   "outputs": [],
   "source": []
  },
  {
   "cell_type": "markdown",
   "id": "6db5f546",
   "metadata": {},
   "source": [
    "### Logistic Regression"
   ]
  },
  {
   "cell_type": "code",
   "execution_count": null,
   "id": "61dfebeb",
   "metadata": {},
   "outputs": [],
   "source": [
    "x_train = train.drop(['Monthly passengers', 'Date'],axis = 1)\n",
    "y_train = train['Monthly passengers']\n",
    "x_test = test.drop(['Monthly passengers', 'Date'],axis = 1)\n",
    "y_test = test['Monthly passengers']\n",
    "print(\"x_train shape:\",x_train.shape)\n",
    "print(\"y_train shape:\",y_train.shape)\n",
    "print(\"x_test shape:\",x_test.shape)\n",
    "print(\"y_test shape:\",y_test.shape)\n",
    "print(x_train.head())\n",
    "print(y_train.shape)"
   ]
  },
  {
   "cell_type": "code",
   "execution_count": null,
   "id": "f92d8a80",
   "metadata": {},
   "outputs": [],
   "source": [
    "model = LogisticRegression()\n",
    "model.fit(x_train, y_train)"
   ]
  },
  {
   "cell_type": "code",
   "execution_count": null,
   "id": "9b938040",
   "metadata": {},
   "outputs": [],
   "source": [
    "print(x_train)\n",
    "print(y_train)"
   ]
  },
  {
   "cell_type": "code",
   "execution_count": null,
   "id": "82b66808",
   "metadata": {},
   "outputs": [],
   "source": [
    "y_hat_test = model.predict(x_test)"
   ]
  },
  {
   "cell_type": "code",
   "execution_count": null,
   "id": "0e1a7dfb",
   "metadata": {},
   "outputs": [],
   "source": [
    "print(y_hat_test)"
   ]
  },
  {
   "cell_type": "code",
   "execution_count": null,
   "id": "d1afdeda",
   "metadata": {},
   "outputs": [],
   "source": [
    "print(\"The accuracy score for the testing data is:\", accuracy_score(y_test, y_hat_test))"
   ]
  },
  {
   "cell_type": "markdown",
   "id": "a8657c05",
   "metadata": {},
   "source": [
    "# help: rewords\n",
    "as the accuracy score for logistic regression prediction model is 0.0, therefore we are going to analysis the prediction only base on linear regression"
   ]
  },
  {
   "cell_type": "markdown",
   "id": "60b34375",
   "metadata": {},
   "source": [
    "### Conclusion"
   ]
  }
 ],
 "metadata": {
  "kernelspec": {
   "display_name": "Python 3",
   "language": "python",
   "name": "python3"
  },
  "language_info": {
   "codemirror_mode": {
    "name": "ipython",
    "version": 3
   },
   "file_extension": ".py",
   "mimetype": "text/x-python",
   "name": "python",
   "nbconvert_exporter": "python",
   "pygments_lexer": "ipython3",
   "version": "3.8.8"
  }
 },
 "nbformat": 4,
 "nbformat_minor": 5
}
