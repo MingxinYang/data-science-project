{
 "cells": [
  {
   "cell_type": "code",
   "execution_count": 1,
   "id": "4aee49f6",
   "metadata": {},
   "outputs": [],
   "source": [
    "import pandas as pd\n",
    "import numpy as np\n",
    "import seaborn as sns\n",
    "import matplotlib.pyplot as plt\n",
    "%matplotlib inline\n",
    "from sklearn.model_selection import train_test_split\n",
    "from sklearn import linear_model\n",
    "from sklearn.metrics import r2_score\n",
    "from sklearn.linear_model import LogisticRegression\n",
    "from sklearn.metrics import confusion_matrix, accuracy_score\n",
    "from sklearn.feature_selection import RFE"
   ]
  },
  {
   "cell_type": "code",
   "execution_count": 2,
   "id": "edf86a68",
   "metadata": {},
   "outputs": [
    {
     "data": {
      "text/html": [
       "<div>\n",
       "<style scoped>\n",
       "    .dataframe tbody tr th:only-of-type {\n",
       "        vertical-align: middle;\n",
       "    }\n",
       "\n",
       "    .dataframe tbody tr th {\n",
       "        vertical-align: top;\n",
       "    }\n",
       "\n",
       "    .dataframe thead th {\n",
       "        text-align: right;\n",
       "    }\n",
       "</style>\n",
       "<table border=\"1\" class=\"dataframe\">\n",
       "  <thead>\n",
       "    <tr style=\"text-align: right;\">\n",
       "      <th></th>\n",
       "      <th>Date</th>\n",
       "      <th>MonthNumber</th>\n",
       "      <th>Adult</th>\n",
       "      <th>Child/Youth</th>\n",
       "      <th>Concession</th>\n",
       "      <th>Employee</th>\n",
       "      <th>Free Travel</th>\n",
       "      <th>School Student</th>\n",
       "      <th>Senior/Pensioner</th>\n",
       "      <th>On Demand</th>\n",
       "      <th>CTP</th>\n",
       "      <th>Day Pass Child/Youth w/o SAF</th>\n",
       "      <th>Day Pass without SAF</th>\n",
       "      <th>Monthly passengers</th>\n",
       "    </tr>\n",
       "  </thead>\n",
       "  <tbody>\n",
       "    <tr>\n",
       "      <th>0</th>\n",
       "      <td>16-Jul</td>\n",
       "      <td>1</td>\n",
       "      <td>390433.0</td>\n",
       "      <td>62800.0</td>\n",
       "      <td>136064.0</td>\n",
       "      <td>0.0</td>\n",
       "      <td>1149.0</td>\n",
       "      <td>138642.0</td>\n",
       "      <td>206110.0</td>\n",
       "      <td>0.0</td>\n",
       "      <td>0.0</td>\n",
       "      <td>0</td>\n",
       "      <td>0</td>\n",
       "      <td>935198.0</td>\n",
       "    </tr>\n",
       "    <tr>\n",
       "      <th>1</th>\n",
       "      <td>16-Aug</td>\n",
       "      <td>2</td>\n",
       "      <td>386386.0</td>\n",
       "      <td>67010.0</td>\n",
       "      <td>73590.0</td>\n",
       "      <td>0.0</td>\n",
       "      <td>1281.0</td>\n",
       "      <td>296261.0</td>\n",
       "      <td>224668.0</td>\n",
       "      <td>0.0</td>\n",
       "      <td>0.0</td>\n",
       "      <td>0</td>\n",
       "      <td>0</td>\n",
       "      <td>1049196.0</td>\n",
       "    </tr>\n",
       "    <tr>\n",
       "      <th>2</th>\n",
       "      <td>16-Sep</td>\n",
       "      <td>3</td>\n",
       "      <td>370068.0</td>\n",
       "      <td>70022.0</td>\n",
       "      <td>61676.0</td>\n",
       "      <td>0.0</td>\n",
       "      <td>1320.0</td>\n",
       "      <td>203827.0</td>\n",
       "      <td>218598.0</td>\n",
       "      <td>0.0</td>\n",
       "      <td>0.0</td>\n",
       "      <td>0</td>\n",
       "      <td>0</td>\n",
       "      <td>925511.0</td>\n",
       "    </tr>\n",
       "    <tr>\n",
       "      <th>3</th>\n",
       "      <td>16-Oct</td>\n",
       "      <td>4</td>\n",
       "      <td>381402.0</td>\n",
       "      <td>78951.0</td>\n",
       "      <td>60635.0</td>\n",
       "      <td>0.0</td>\n",
       "      <td>1410.0</td>\n",
       "      <td>197558.0</td>\n",
       "      <td>227088.0</td>\n",
       "      <td>0.0</td>\n",
       "      <td>0.0</td>\n",
       "      <td>0</td>\n",
       "      <td>0</td>\n",
       "      <td>947044.0</td>\n",
       "    </tr>\n",
       "    <tr>\n",
       "      <th>4</th>\n",
       "      <td>16-Nov</td>\n",
       "      <td>5</td>\n",
       "      <td>405245.0</td>\n",
       "      <td>76328.0</td>\n",
       "      <td>57858.0</td>\n",
       "      <td>0.0</td>\n",
       "      <td>1462.0</td>\n",
       "      <td>255994.0</td>\n",
       "      <td>236965.0</td>\n",
       "      <td>0.0</td>\n",
       "      <td>0.0</td>\n",
       "      <td>0</td>\n",
       "      <td>0</td>\n",
       "      <td>1033852.0</td>\n",
       "    </tr>\n",
       "  </tbody>\n",
       "</table>\n",
       "</div>"
      ],
      "text/plain": [
       "     Date  MonthNumber     Adult  Child/Youth  Concession  Employee  \\\n",
       "0  16-Jul            1  390433.0      62800.0    136064.0       0.0   \n",
       "1  16-Aug            2  386386.0      67010.0     73590.0       0.0   \n",
       "2  16-Sep            3  370068.0      70022.0     61676.0       0.0   \n",
       "3  16-Oct            4  381402.0      78951.0     60635.0       0.0   \n",
       "4  16-Nov            5  405245.0      76328.0     57858.0       0.0   \n",
       "\n",
       "   Free Travel  School Student  Senior/Pensioner  On Demand  CTP  \\\n",
       "0       1149.0        138642.0          206110.0        0.0  0.0   \n",
       "1       1281.0        296261.0          224668.0        0.0  0.0   \n",
       "2       1320.0        203827.0          218598.0        0.0  0.0   \n",
       "3       1410.0        197558.0          227088.0        0.0  0.0   \n",
       "4       1462.0        255994.0          236965.0        0.0  0.0   \n",
       "\n",
       "   Day Pass Child/Youth w/o SAF  Day Pass without SAF  Monthly passengers  \n",
       "0                             0                     0            935198.0  \n",
       "1                             0                     0           1049196.0  \n",
       "2                             0                     0            925511.0  \n",
       "3                             0                     0            947044.0  \n",
       "4                             0                     0           1033852.0  "
      ]
     },
     "execution_count": 2,
     "metadata": {},
     "output_type": "execute_result"
    }
   ],
   "source": [
    "data = pd.read_csv(\"files/CleanBusCardType.csv\", thousands = \",\") # thousands = \",\" change the format of data\n",
    "data.head()"
   ]
  },
  {
   "cell_type": "code",
   "execution_count": 3,
   "id": "dbf2a7ee",
   "metadata": {},
   "outputs": [
    {
     "data": {
      "text/plain": [
       "0   2016-07-01\n",
       "1   2016-08-01\n",
       "2   2016-09-01\n",
       "3   2016-10-01\n",
       "4   2016-11-01\n",
       "Name: Date, dtype: datetime64[ns]"
      ]
     },
     "execution_count": 3,
     "metadata": {},
     "output_type": "execute_result"
    }
   ],
   "source": [
    "## converted the Date column to a Data type which can be used for training and testing\n",
    "data['Date'] = pd.to_datetime( data['Date'], \n",
    " format = '%y-%b',errors = 'raise')\n",
    "data.Date.head()"
   ]
  },
  {
   "cell_type": "code",
   "execution_count": 4,
   "id": "fbaaecfe",
   "metadata": {},
   "outputs": [
    {
     "data": {
      "text/html": [
       "<div>\n",
       "<style scoped>\n",
       "    .dataframe tbody tr th:only-of-type {\n",
       "        vertical-align: middle;\n",
       "    }\n",
       "\n",
       "    .dataframe tbody tr th {\n",
       "        vertical-align: top;\n",
       "    }\n",
       "\n",
       "    .dataframe thead th {\n",
       "        text-align: right;\n",
       "    }\n",
       "</style>\n",
       "<table border=\"1\" class=\"dataframe\">\n",
       "  <thead>\n",
       "    <tr style=\"text-align: right;\">\n",
       "      <th></th>\n",
       "      <th>Date</th>\n",
       "      <th>MonthNumber</th>\n",
       "      <th>Adult</th>\n",
       "      <th>Child/Youth</th>\n",
       "      <th>Concession</th>\n",
       "      <th>Employee</th>\n",
       "      <th>Free Travel</th>\n",
       "      <th>School Student</th>\n",
       "      <th>Senior/Pensioner</th>\n",
       "      <th>On Demand</th>\n",
       "      <th>CTP</th>\n",
       "      <th>Day Pass Child/Youth w/o SAF</th>\n",
       "      <th>Day Pass without SAF</th>\n",
       "      <th>Monthly passengers</th>\n",
       "    </tr>\n",
       "  </thead>\n",
       "  <tbody>\n",
       "    <tr>\n",
       "      <th>0</th>\n",
       "      <td>2016-07-01</td>\n",
       "      <td>1</td>\n",
       "      <td>390433.0</td>\n",
       "      <td>62800.0</td>\n",
       "      <td>136064.0</td>\n",
       "      <td>0.0</td>\n",
       "      <td>1149.0</td>\n",
       "      <td>138642.0</td>\n",
       "      <td>206110.0</td>\n",
       "      <td>0.0</td>\n",
       "      <td>0.0</td>\n",
       "      <td>0</td>\n",
       "      <td>0</td>\n",
       "      <td>935198.0</td>\n",
       "    </tr>\n",
       "    <tr>\n",
       "      <th>1</th>\n",
       "      <td>2016-08-01</td>\n",
       "      <td>2</td>\n",
       "      <td>386386.0</td>\n",
       "      <td>67010.0</td>\n",
       "      <td>73590.0</td>\n",
       "      <td>0.0</td>\n",
       "      <td>1281.0</td>\n",
       "      <td>296261.0</td>\n",
       "      <td>224668.0</td>\n",
       "      <td>0.0</td>\n",
       "      <td>0.0</td>\n",
       "      <td>0</td>\n",
       "      <td>0</td>\n",
       "      <td>1049196.0</td>\n",
       "    </tr>\n",
       "    <tr>\n",
       "      <th>2</th>\n",
       "      <td>2016-09-01</td>\n",
       "      <td>3</td>\n",
       "      <td>370068.0</td>\n",
       "      <td>70022.0</td>\n",
       "      <td>61676.0</td>\n",
       "      <td>0.0</td>\n",
       "      <td>1320.0</td>\n",
       "      <td>203827.0</td>\n",
       "      <td>218598.0</td>\n",
       "      <td>0.0</td>\n",
       "      <td>0.0</td>\n",
       "      <td>0</td>\n",
       "      <td>0</td>\n",
       "      <td>925511.0</td>\n",
       "    </tr>\n",
       "    <tr>\n",
       "      <th>3</th>\n",
       "      <td>2016-10-01</td>\n",
       "      <td>4</td>\n",
       "      <td>381402.0</td>\n",
       "      <td>78951.0</td>\n",
       "      <td>60635.0</td>\n",
       "      <td>0.0</td>\n",
       "      <td>1410.0</td>\n",
       "      <td>197558.0</td>\n",
       "      <td>227088.0</td>\n",
       "      <td>0.0</td>\n",
       "      <td>0.0</td>\n",
       "      <td>0</td>\n",
       "      <td>0</td>\n",
       "      <td>947044.0</td>\n",
       "    </tr>\n",
       "    <tr>\n",
       "      <th>4</th>\n",
       "      <td>2016-11-01</td>\n",
       "      <td>5</td>\n",
       "      <td>405245.0</td>\n",
       "      <td>76328.0</td>\n",
       "      <td>57858.0</td>\n",
       "      <td>0.0</td>\n",
       "      <td>1462.0</td>\n",
       "      <td>255994.0</td>\n",
       "      <td>236965.0</td>\n",
       "      <td>0.0</td>\n",
       "      <td>0.0</td>\n",
       "      <td>0</td>\n",
       "      <td>0</td>\n",
       "      <td>1033852.0</td>\n",
       "    </tr>\n",
       "    <tr>\n",
       "      <th>...</th>\n",
       "      <td>...</td>\n",
       "      <td>...</td>\n",
       "      <td>...</td>\n",
       "      <td>...</td>\n",
       "      <td>...</td>\n",
       "      <td>...</td>\n",
       "      <td>...</td>\n",
       "      <td>...</td>\n",
       "      <td>...</td>\n",
       "      <td>...</td>\n",
       "      <td>...</td>\n",
       "      <td>...</td>\n",
       "      <td>...</td>\n",
       "      <td>...</td>\n",
       "    </tr>\n",
       "    <tr>\n",
       "      <th>57</th>\n",
       "      <td>2021-04-01</td>\n",
       "      <td>58</td>\n",
       "      <td>271849.0</td>\n",
       "      <td>52658.0</td>\n",
       "      <td>36117.0</td>\n",
       "      <td>1944.0</td>\n",
       "      <td>1353.0</td>\n",
       "      <td>69598.0</td>\n",
       "      <td>176368.0</td>\n",
       "      <td>8887.0</td>\n",
       "      <td>101192.0</td>\n",
       "      <td>1</td>\n",
       "      <td>99</td>\n",
       "      <td>720066.0</td>\n",
       "    </tr>\n",
       "    <tr>\n",
       "      <th>58</th>\n",
       "      <td>2021-05-01</td>\n",
       "      <td>59</td>\n",
       "      <td>289229.0</td>\n",
       "      <td>42457.0</td>\n",
       "      <td>42044.0</td>\n",
       "      <td>1967.0</td>\n",
       "      <td>1329.0</td>\n",
       "      <td>132272.0</td>\n",
       "      <td>183225.0</td>\n",
       "      <td>10133.0</td>\n",
       "      <td>106754.0</td>\n",
       "      <td>0</td>\n",
       "      <td>147</td>\n",
       "      <td>809557.0</td>\n",
       "    </tr>\n",
       "    <tr>\n",
       "      <th>59</th>\n",
       "      <td>2021-06-01</td>\n",
       "      <td>60</td>\n",
       "      <td>259924.0</td>\n",
       "      <td>34715.0</td>\n",
       "      <td>32919.0</td>\n",
       "      <td>1314.0</td>\n",
       "      <td>1081.0</td>\n",
       "      <td>102099.0</td>\n",
       "      <td>163825.0</td>\n",
       "      <td>9366.0</td>\n",
       "      <td>97027.0</td>\n",
       "      <td>0</td>\n",
       "      <td>95</td>\n",
       "      <td>702365.0</td>\n",
       "    </tr>\n",
       "    <tr>\n",
       "      <th>60</th>\n",
       "      <td>2021-07-01</td>\n",
       "      <td>61</td>\n",
       "      <td>127354.0</td>\n",
       "      <td>11205.0</td>\n",
       "      <td>10461.0</td>\n",
       "      <td>513.0</td>\n",
       "      <td>488.0</td>\n",
       "      <td>1276.0</td>\n",
       "      <td>75935.0</td>\n",
       "      <td>0.0</td>\n",
       "      <td>48652.0</td>\n",
       "      <td>0</td>\n",
       "      <td>79</td>\n",
       "      <td>275963.0</td>\n",
       "    </tr>\n",
       "    <tr>\n",
       "      <th>61</th>\n",
       "      <td>2021-08-01</td>\n",
       "      <td>62</td>\n",
       "      <td>102883.0</td>\n",
       "      <td>6708.0</td>\n",
       "      <td>7436.0</td>\n",
       "      <td>480.0</td>\n",
       "      <td>389.0</td>\n",
       "      <td>1501.0</td>\n",
       "      <td>63463.0</td>\n",
       "      <td>0.0</td>\n",
       "      <td>39328.0</td>\n",
       "      <td>1</td>\n",
       "      <td>81</td>\n",
       "      <td>222270.0</td>\n",
       "    </tr>\n",
       "  </tbody>\n",
       "</table>\n",
       "<p>62 rows × 14 columns</p>\n",
       "</div>"
      ],
      "text/plain": [
       "         Date  MonthNumber     Adult  Child/Youth  Concession  Employee  \\\n",
       "0  2016-07-01            1  390433.0      62800.0    136064.0       0.0   \n",
       "1  2016-08-01            2  386386.0      67010.0     73590.0       0.0   \n",
       "2  2016-09-01            3  370068.0      70022.0     61676.0       0.0   \n",
       "3  2016-10-01            4  381402.0      78951.0     60635.0       0.0   \n",
       "4  2016-11-01            5  405245.0      76328.0     57858.0       0.0   \n",
       "..        ...          ...       ...          ...         ...       ...   \n",
       "57 2021-04-01           58  271849.0      52658.0     36117.0    1944.0   \n",
       "58 2021-05-01           59  289229.0      42457.0     42044.0    1967.0   \n",
       "59 2021-06-01           60  259924.0      34715.0     32919.0    1314.0   \n",
       "60 2021-07-01           61  127354.0      11205.0     10461.0     513.0   \n",
       "61 2021-08-01           62  102883.0       6708.0      7436.0     480.0   \n",
       "\n",
       "    Free Travel  School Student  Senior/Pensioner  On Demand       CTP  \\\n",
       "0        1149.0        138642.0          206110.0        0.0       0.0   \n",
       "1        1281.0        296261.0          224668.0        0.0       0.0   \n",
       "2        1320.0        203827.0          218598.0        0.0       0.0   \n",
       "3        1410.0        197558.0          227088.0        0.0       0.0   \n",
       "4        1462.0        255994.0          236965.0        0.0       0.0   \n",
       "..          ...             ...               ...        ...       ...   \n",
       "57       1353.0         69598.0          176368.0     8887.0  101192.0   \n",
       "58       1329.0        132272.0          183225.0    10133.0  106754.0   \n",
       "59       1081.0        102099.0          163825.0     9366.0   97027.0   \n",
       "60        488.0          1276.0           75935.0        0.0   48652.0   \n",
       "61        389.0          1501.0           63463.0        0.0   39328.0   \n",
       "\n",
       "    Day Pass Child/Youth w/o SAF  Day Pass without SAF  Monthly passengers  \n",
       "0                              0                     0            935198.0  \n",
       "1                              0                     0           1049196.0  \n",
       "2                              0                     0            925511.0  \n",
       "3                              0                     0            947044.0  \n",
       "4                              0                     0           1033852.0  \n",
       "..                           ...                   ...                 ...  \n",
       "57                             1                    99            720066.0  \n",
       "58                             0                   147            809557.0  \n",
       "59                             0                    95            702365.0  \n",
       "60                             0                    79            275963.0  \n",
       "61                             1                    81            222270.0  \n",
       "\n",
       "[62 rows x 14 columns]"
      ]
     },
     "execution_count": 4,
     "metadata": {},
     "output_type": "execute_result"
    }
   ],
   "source": [
    "data"
   ]
  },
  {
   "cell_type": "code",
   "execution_count": 5,
   "id": "f4ec6ad8",
   "metadata": {},
   "outputs": [
    {
     "data": {
      "text/plain": [
       "(62, 14)"
      ]
     },
     "execution_count": 5,
     "metadata": {},
     "output_type": "execute_result"
    }
   ],
   "source": [
    "data.shape"
   ]
  },
  {
   "cell_type": "code",
   "execution_count": 6,
   "id": "13db3353",
   "metadata": {},
   "outputs": [
    {
     "data": {
      "text/plain": [
       "<AxesSubplot:xlabel='Date', ylabel='million'>"
      ]
     },
     "execution_count": 6,
     "metadata": {},
     "output_type": "execute_result"
    },
    {
     "data": {
      "image/png": "[encoded data removed]",
      "text/plain": [
       "<Figure size 432x288 with 1 Axes>"
      ]
     },
     "metadata": {
      "needs_background": "light"
     },
     "output_type": "display_data"
    },
    {
     "data": {
      "image/png": "[encoded data removed]",
      "text/plain": [
       "<Figure size 432x288 with 1 Axes>"
      ]
     },
     "metadata": {
      "needs_background": "light"
     },
     "output_type": "display_data"
    },
    {
     "data": {
      "image/png": "[encoded data removed]",
      "text/plain": [
       "<Figure size 432x288 with 1 Axes>"
      ]
     },
     "metadata": {
      "needs_background": "light"
     },
     "output_type": "display_data"
    },
    {
     "data": {
      "image/png": "[encoded data removed]",
      "text/plain": [
       "<Figure size 432x288 with 1 Axes>"
      ]
     },
     "metadata": {
      "needs_background": "light"
     },
     "output_type": "display_data"
    },
    {
     "data": {
      "image/png": "[encoded data removed]",
      "text/plain": [
       "<Figure size 432x288 with 1 Axes>"
      ]
     },
     "metadata": {
      "needs_background": "light"
     },
     "output_type": "display_data"
    }
   ],
   "source": [
    "data.plot('Date','Adult')\n",
    "data.plot(x='Date',y='Child/Youth')\n",
    "data.plot(x='Date',y='Concession')\n",
    "data.plot(x='Date',y='Employee')\n",
    "data.plot(ylabel='million',x='Date',y='Monthly passengers')"
   ]
  },
  {
   "cell_type": "code",
   "execution_count": 7,
   "id": "3353fe24",
   "metadata": {},
   "outputs": [
    {
     "data": {
      "text/plain": [
       "<AxesSubplot:xlabel='MonthNumber'>"
      ]
     },
     "execution_count": 7,
     "metadata": {},
     "output_type": "execute_result"
    },
    {
     "data": {
      "image/png": "[encoded data removed]",
      "text/plain": [
       "<Figure size 432x288 with 1 Axes>"
      ]
     },
     "metadata": {
      "needs_background": "light"
     },
     "output_type": "display_data"
    }
   ],
   "source": [
    "data.plot.line(x='MonthNumber',y='Adult', c='Black')"
   ]
  },
  {
   "cell_type": "markdown",
   "id": "32c3e2a1",
   "metadata": {},
   "source": [
    "#### The lock down  in 2020 happened at March, which means that from July 2016 till March 2020 there are 45 months in between, and there are 17 months after the lock down (until July 2021)."
   ]
  },
  {
   "cell_type": "code",
   "execution_count": 8,
   "id": "2f1c9b26",
   "metadata": {},
   "outputs": [
    {
     "name": "stdout",
     "output_type": "stream",
     "text": [
      "(45, 14)\n",
      "(17, 14)\n"
     ]
    }
   ],
   "source": [
    "# Split the data into two part, train(the month that before COVID-19 happen) and test(what are we going to predict, the month after COVID-19 happen)\n",
    "train, test = train_test_split(data, test_size=0.27, random_state=142)\n",
    "print(train.shape)\n",
    "print(test.shape)"
   ]
  },
  {
   "cell_type": "code",
   "execution_count": null,
   "id": "39fb3691",
   "metadata": {},
   "outputs": [],
   "source": []
  },
  {
   "cell_type": "code",
   "execution_count": null,
   "id": "46e801dc",
   "metadata": {},
   "outputs": [],
   "source": []
  },
  {
   "cell_type": "code",
   "execution_count": null,
   "id": "b7187702",
   "metadata": {},
   "outputs": [],
   "source": []
  },
  {
   "cell_type": "code",
   "execution_count": null,
   "id": "c0104f57",
   "metadata": {},
   "outputs": [],
   "source": []
  },
  {
   "cell_type": "markdown",
   "id": "bf7e6c0c",
   "metadata": {},
   "source": [
    "data: bus passengers from July 2016 - Aug 2020\n",
    "\n",
    "before COVID: July 2016 - March 2020 (0-45) 45 months\n",
    "After lock down: April 2020 - August 2021 (45-62) 17 months\n",
    "\n",
    "prediction:\n",
    "    what the data will be like if there will no lock down for the after lock down period"
   ]
  },
  {
   "cell_type": "code",
   "execution_count": 9,
   "id": "aadfc986",
   "metadata": {},
   "outputs": [
    {
     "name": "stdout",
     "output_type": "stream",
     "text": [
      "0   2016-07-01\n",
      "1   2016-08-01\n",
      "2   2016-09-01\n",
      "3   2016-10-01\n",
      "4   2016-11-01\n",
      "Name: Date, dtype: datetime64[ns]\n"
     ]
    }
   ],
   "source": [
    "x = data['Date'][:45]\n",
    "print(x.head())"
   ]
  },
  {
   "cell_type": "code",
   "execution_count": 10,
   "id": "a0ae383f",
   "metadata": {},
   "outputs": [
    {
     "name": "stdout",
     "output_type": "stream",
     "text": [
      "y = x * [3121.70065876] + 377651.1737373737\n"
     ]
    }
   ],
   "source": [
    "reg = linear_model.LinearRegression()\n",
    "x = data[['MonthNumber']]\n",
    "y = data['Adult']\n",
    "reg.fit(x[:45], y[:45])\n",
    "print(\"y = x *\", reg.coef_, \"+\", reg.intercept_)\n"
   ]
  },
  {
   "cell_type": "code",
   "execution_count": 11,
   "id": "269ee09f",
   "metadata": {},
   "outputs": [],
   "source": [
    "predicted = reg.predict(x[45:62])"
   ]
  },
  {
   "cell_type": "code",
   "execution_count": 12,
   "id": "bdaa3b6e",
   "metadata": {},
   "outputs": [
    {
     "name": "stdout",
     "output_type": "stream",
     "text": [
      "17\n"
     ]
    }
   ],
   "source": [
    "print(len(predicted))"
   ]
  },
  {
   "cell_type": "code",
   "execution_count": 13,
   "id": "72c14a43",
   "metadata": {},
   "outputs": [
    {
     "name": "stdout",
     "output_type": "stream",
     "text": [
      "MSE: 95294531840.65356\n",
      "R Squared: -29.90515870342765\n"
     ]
    }
   ],
   "source": [
    "mse = ((np.array(y[45:62])-predicted)**2).sum()/len(y[45:62])\n",
    "r2 = r2_score(y[45:62], predicted)\n",
    "print(\"MSE:\", mse)\n",
    "print(\"R Squared:\", r2)"
   ]
  },
  {
   "cell_type": "code",
   "execution_count": 14,
   "id": "c752db03",
   "metadata": {},
   "outputs": [
    {
     "name": "stdout",
     "output_type": "stream",
     "text": [
      "[521249.4040404  524371.10469917 527492.80535793 530614.50601669\n",
      " 533736.20667545 536857.90733421 539979.60799297 543101.30865173\n",
      " 546223.0093105  549344.70996926 552466.41062802 555588.11128678\n",
      " 558709.81194554 561831.5126043  564953.21326307 568074.91392183\n",
      " 571196.61458059]\n"
     ]
    }
   ],
   "source": [
    "print(predicted)"
   ]
  },
  {
   "cell_type": "code",
   "execution_count": 21,
   "id": "a91a350a",
   "metadata": {},
   "outputs": [
    {
     "data": {
      "text/plain": [
       "array([[521249.4040404 , 524371.10469917, 527492.80535793,\n",
       "        530614.50601669, 533736.20667545, 536857.90733421,\n",
       "        539979.60799297, 543101.30865173, 546223.0093105 ,\n",
       "        549344.70996926, 552466.41062802, 555588.11128678,\n",
       "        558709.81194554, 561831.5126043 , 564953.21326307,\n",
       "        568074.91392183, 571196.61458059]])"
      ]
     },
     "execution_count": 21,
     "metadata": {},
     "output_type": "execute_result"
    }
   ],
   "source": [
    "predicted_Adult = np.array([predicted])\n",
    "predicted_Adult"
   ]
  },
  {
   "cell_type": "code",
   "execution_count": 28,
   "id": "c7e40a9d",
   "metadata": {},
   "outputs": [
    {
     "data": {
      "text/plain": [
       "45    171160.0\n",
       "46    216827.0\n",
       "47    260477.0\n",
       "48    288798.0\n",
       "49    270591.0\n",
       "50    278146.0\n",
       "51    275385.0\n",
       "52    278318.0\n",
       "53    261170.0\n",
       "54    230528.0\n",
       "55    265311.0\n",
       "56    294367.0\n",
       "57    271849.0\n",
       "58    289229.0\n",
       "59    259924.0\n",
       "60    127354.0\n",
       "61    102883.0\n",
       "Name: Adult, dtype: float64"
      ]
     },
     "execution_count": 28,
     "metadata": {},
     "output_type": "execute_result"
    }
   ],
   "source": [
    "actual_Adult = data['Adult'][45:]\n",
    "actual_Adult"
   ]
  },
  {
   "cell_type": "code",
   "execution_count": 29,
   "id": "338f1acc",
   "metadata": {},
   "outputs": [
    {
     "data": {
      "text/html": [
       "<div>\n",
       "<style scoped>\n",
       "    .dataframe tbody tr th:only-of-type {\n",
       "        vertical-align: middle;\n",
       "    }\n",
       "\n",
       "    .dataframe tbody tr th {\n",
       "        vertical-align: top;\n",
       "    }\n",
       "\n",
       "    .dataframe thead th {\n",
       "        text-align: right;\n",
       "    }\n",
       "</style>\n",
       "<table border=\"1\" class=\"dataframe\">\n",
       "  <thead>\n",
       "    <tr style=\"text-align: right;\">\n",
       "      <th></th>\n",
       "      <th>Predicted Adult(No COVID)</th>\n",
       "      <th>Have COVID</th>\n",
       "    </tr>\n",
       "  </thead>\n",
       "  <tbody>\n",
       "    <tr>\n",
       "      <th>0</th>\n",
       "      <td>521249.404040</td>\n",
       "      <td>NaN</td>\n",
       "    </tr>\n",
       "    <tr>\n",
       "      <th>1</th>\n",
       "      <td>524371.104699</td>\n",
       "      <td>NaN</td>\n",
       "    </tr>\n",
       "    <tr>\n",
       "      <th>2</th>\n",
       "      <td>527492.805358</td>\n",
       "      <td>NaN</td>\n",
       "    </tr>\n",
       "    <tr>\n",
       "      <th>3</th>\n",
       "      <td>530614.506017</td>\n",
       "      <td>NaN</td>\n",
       "    </tr>\n",
       "    <tr>\n",
       "      <th>4</th>\n",
       "      <td>533736.206675</td>\n",
       "      <td>NaN</td>\n",
       "    </tr>\n",
       "    <tr>\n",
       "      <th>5</th>\n",
       "      <td>536857.907334</td>\n",
       "      <td>NaN</td>\n",
       "    </tr>\n",
       "    <tr>\n",
       "      <th>6</th>\n",
       "      <td>539979.607993</td>\n",
       "      <td>NaN</td>\n",
       "    </tr>\n",
       "    <tr>\n",
       "      <th>7</th>\n",
       "      <td>543101.308652</td>\n",
       "      <td>NaN</td>\n",
       "    </tr>\n",
       "    <tr>\n",
       "      <th>8</th>\n",
       "      <td>546223.009310</td>\n",
       "      <td>NaN</td>\n",
       "    </tr>\n",
       "    <tr>\n",
       "      <th>9</th>\n",
       "      <td>549344.709969</td>\n",
       "      <td>NaN</td>\n",
       "    </tr>\n",
       "    <tr>\n",
       "      <th>10</th>\n",
       "      <td>552466.410628</td>\n",
       "      <td>NaN</td>\n",
       "    </tr>\n",
       "    <tr>\n",
       "      <th>11</th>\n",
       "      <td>555588.111287</td>\n",
       "      <td>NaN</td>\n",
       "    </tr>\n",
       "    <tr>\n",
       "      <th>12</th>\n",
       "      <td>558709.811946</td>\n",
       "      <td>NaN</td>\n",
       "    </tr>\n",
       "    <tr>\n",
       "      <th>13</th>\n",
       "      <td>561831.512604</td>\n",
       "      <td>NaN</td>\n",
       "    </tr>\n",
       "    <tr>\n",
       "      <th>14</th>\n",
       "      <td>564953.213263</td>\n",
       "      <td>NaN</td>\n",
       "    </tr>\n",
       "    <tr>\n",
       "      <th>15</th>\n",
       "      <td>568074.913922</td>\n",
       "      <td>NaN</td>\n",
       "    </tr>\n",
       "    <tr>\n",
       "      <th>16</th>\n",
       "      <td>571196.614581</td>\n",
       "      <td>NaN</td>\n",
       "    </tr>\n",
       "  </tbody>\n",
       "</table>\n",
       "</div>"
      ],
      "text/plain": [
       "    Predicted Adult(No COVID)  Have COVID\n",
       "0               521249.404040         NaN\n",
       "1               524371.104699         NaN\n",
       "2               527492.805358         NaN\n",
       "3               530614.506017         NaN\n",
       "4               533736.206675         NaN\n",
       "5               536857.907334         NaN\n",
       "6               539979.607993         NaN\n",
       "7               543101.308652         NaN\n",
       "8               546223.009310         NaN\n",
       "9               549344.709969         NaN\n",
       "10              552466.410628         NaN\n",
       "11              555588.111287         NaN\n",
       "12              558709.811946         NaN\n",
       "13              561831.512604         NaN\n",
       "14              564953.213263         NaN\n",
       "15              568074.913922         NaN\n",
       "16              571196.614581         NaN"
      ]
     },
     "execution_count": 29,
     "metadata": {},
     "output_type": "execute_result"
    }
   ],
   "source": [
    "Adult = pd.DataFrame(predicted_Adult.T)\n",
    "Adult.columns =['Predicted Adult(No COVID)']\n",
    "Adult[\"Have COVID\"] = actual_Adult\n",
    "Adult"
   ]
  },
  {
   "cell_type": "code",
   "execution_count": null,
   "id": "ae73d86f",
   "metadata": {},
   "outputs": [],
   "source": []
  }
 ],
 "metadata": {
  "kernelspec": {
   "display_name": "Python 3",
   "language": "python",
   "name": "python3"
  },
  "language_info": {
   "codemirror_mode": {
    "name": "ipython",
    "version": 3
   },
   "file_extension": ".py",
   "mimetype": "text/x-python",
   "name": "python",
   "nbconvert_exporter": "python",
   "pygments_lexer": "ipython3",
   "version": "3.8.8"
  }
 },
 "nbformat": 4,
 "nbformat_minor": 5
}
