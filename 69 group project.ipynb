{
 "cells": [
  {
   "cell_type": "markdown",
   "id": "02e8396d",
   "metadata": {},
   "source": [
    "## Data science group project \n",
    "\n",
    "## Data:  \n",
    "Number of transports by different types of passengers"
   ]
  },
  {
   "cell_type": "code",
   "execution_count": 18,
   "id": "b4b2a72b",
   "metadata": {},
   "outputs": [],
   "source": [
    "import pandas as pd\n",
    "import numpy as np\n",
    "import seaborn as sns\n",
    "import matplotlib.pyplot as plt\n",
    "%matplotlib inline\n",
    "from sklearn.model_selection import train_test_split\n",
    "from sklearn import linear_model\n",
    "from sklearn.metrics import r2_score\n",
    "from sklearn.linear_model import LogisticRegression\n",
    "from sklearn.metrics import confusion_matrix, accuracy_score\n",
    "from sklearn.feature_selection import RFE\n"
   ]
  },
  {
   "cell_type": "code",
   "execution_count": 147,
   "id": "f7f7e10c",
   "metadata": {},
   "outputs": [
    {
     "data": {
      "text/html": [
       "<div>\n",
       "<style scoped>\n",
       "    .dataframe tbody tr th:only-of-type {\n",
       "        vertical-align: middle;\n",
       "    }\n",
       "\n",
       "    .dataframe tbody tr th {\n",
       "        vertical-align: top;\n",
       "    }\n",
       "\n",
       "    .dataframe thead th {\n",
       "        text-align: right;\n",
       "    }\n",
       "</style>\n",
       "<table border=\"1\" class=\"dataframe\">\n",
       "  <thead>\n",
       "    <tr style=\"text-align: right;\">\n",
       "      <th></th>\n",
       "      <th>Month number</th>\n",
       "      <th>Date</th>\n",
       "      <th>Adult</th>\n",
       "      <th>Child/Youth</th>\n",
       "      <th>Concession</th>\n",
       "      <th>Employee</th>\n",
       "      <th>Free Travel</th>\n",
       "      <th>School Student</th>\n",
       "      <th>Senior/Pensioner</th>\n",
       "      <th>On Demand</th>\n",
       "      <th>CTP</th>\n",
       "      <th>Day Pass Child/Youth w/o SAF</th>\n",
       "      <th>Day Pass without SAF</th>\n",
       "      <th>Monthly passengers</th>\n",
       "    </tr>\n",
       "  </thead>\n",
       "  <tbody>\n",
       "    <tr>\n",
       "      <th>0</th>\n",
       "      <td>0</td>\n",
       "      <td>16-Jul</td>\n",
       "      <td>390433</td>\n",
       "      <td>62800</td>\n",
       "      <td>136064</td>\n",
       "      <td>0</td>\n",
       "      <td>1149</td>\n",
       "      <td>138642</td>\n",
       "      <td>206110</td>\n",
       "      <td>0</td>\n",
       "      <td>0</td>\n",
       "      <td>0</td>\n",
       "      <td>0</td>\n",
       "      <td>935198</td>\n",
       "    </tr>\n",
       "    <tr>\n",
       "      <th>1</th>\n",
       "      <td>1</td>\n",
       "      <td>16-Aug</td>\n",
       "      <td>386386</td>\n",
       "      <td>67010</td>\n",
       "      <td>73590</td>\n",
       "      <td>0</td>\n",
       "      <td>1281</td>\n",
       "      <td>296261</td>\n",
       "      <td>224668</td>\n",
       "      <td>0</td>\n",
       "      <td>0</td>\n",
       "      <td>0</td>\n",
       "      <td>0</td>\n",
       "      <td>1049196</td>\n",
       "    </tr>\n",
       "    <tr>\n",
       "      <th>2</th>\n",
       "      <td>2</td>\n",
       "      <td>16-Sep</td>\n",
       "      <td>370068</td>\n",
       "      <td>70022</td>\n",
       "      <td>61676</td>\n",
       "      <td>0</td>\n",
       "      <td>1320</td>\n",
       "      <td>203827</td>\n",
       "      <td>218598</td>\n",
       "      <td>0</td>\n",
       "      <td>0</td>\n",
       "      <td>0</td>\n",
       "      <td>0</td>\n",
       "      <td>925511</td>\n",
       "    </tr>\n",
       "    <tr>\n",
       "      <th>3</th>\n",
       "      <td>3</td>\n",
       "      <td>16-Oct</td>\n",
       "      <td>381402</td>\n",
       "      <td>78951</td>\n",
       "      <td>60635</td>\n",
       "      <td>0</td>\n",
       "      <td>1410</td>\n",
       "      <td>197558</td>\n",
       "      <td>227088</td>\n",
       "      <td>0</td>\n",
       "      <td>0</td>\n",
       "      <td>0</td>\n",
       "      <td>0</td>\n",
       "      <td>947044</td>\n",
       "    </tr>\n",
       "    <tr>\n",
       "      <th>4</th>\n",
       "      <td>4</td>\n",
       "      <td>16-Nov</td>\n",
       "      <td>405245</td>\n",
       "      <td>76328</td>\n",
       "      <td>57858</td>\n",
       "      <td>0</td>\n",
       "      <td>1462</td>\n",
       "      <td>255994</td>\n",
       "      <td>236965</td>\n",
       "      <td>0</td>\n",
       "      <td>0</td>\n",
       "      <td>0</td>\n",
       "      <td>0</td>\n",
       "      <td>1033852</td>\n",
       "    </tr>\n",
       "  </tbody>\n",
       "</table>\n",
       "</div>"
      ],
      "text/plain": [
       "   Month number    Date   Adult  Child/Youth  Concession  Employee  \\\n",
       "0             0  16-Jul  390433        62800      136064         0   \n",
       "1             1  16-Aug  386386        67010       73590         0   \n",
       "2             2  16-Sep  370068        70022       61676         0   \n",
       "3             3  16-Oct  381402        78951       60635         0   \n",
       "4             4  16-Nov  405245        76328       57858         0   \n",
       "\n",
       "   Free Travel  School Student  Senior/Pensioner  On Demand  CTP  \\\n",
       "0         1149          138642            206110          0    0   \n",
       "1         1281          296261            224668          0    0   \n",
       "2         1320          203827            218598          0    0   \n",
       "3         1410          197558            227088          0    0   \n",
       "4         1462          255994            236965          0    0   \n",
       "\n",
       "   Day Pass Child/Youth w/o SAF  Day Pass without SAF  Monthly passengers  \n",
       "0                             0                     0              935198  \n",
       "1                             0                     0             1049196  \n",
       "2                             0                     0              925511  \n",
       "3                             0                     0              947044  \n",
       "4                             0                     0             1033852  "
      ]
     },
     "execution_count": 147,
     "metadata": {},
     "output_type": "execute_result"
    }
   ],
   "source": [
    "data = pd.read_csv(\"Untitled Folder/Bus Card Type.xlsx - Bus Card Type.csv.csv\")\n",
    "data.head()"
   ]
  },
  {
   "cell_type": "code",
   "execution_count": 20,
   "id": "60bb0427",
   "metadata": {},
   "outputs": [
    {
     "data": {
      "text/plain": [
       "(62, 14)"
      ]
     },
     "execution_count": 20,
     "metadata": {},
     "output_type": "execute_result"
    }
   ],
   "source": [
    "data.shape"
   ]
  },
  {
   "cell_type": "code",
   "execution_count": 131,
   "id": "81d5c783",
   "metadata": {
    "scrolled": false
   },
   "outputs": [
    {
     "data": {
      "text/html": [
       "<div>\n",
       "<style scoped>\n",
       "    .dataframe tbody tr th:only-of-type {\n",
       "        vertical-align: middle;\n",
       "    }\n",
       "\n",
       "    .dataframe tbody tr th {\n",
       "        vertical-align: top;\n",
       "    }\n",
       "\n",
       "    .dataframe thead th {\n",
       "        text-align: right;\n",
       "    }\n",
       "</style>\n",
       "<table border=\"1\" class=\"dataframe\">\n",
       "  <thead>\n",
       "    <tr style=\"text-align: right;\">\n",
       "      <th></th>\n",
       "      <th>Month number</th>\n",
       "      <th>Date</th>\n",
       "      <th>Adult</th>\n",
       "      <th>Child/Youth</th>\n",
       "      <th>Concession</th>\n",
       "      <th>Employee</th>\n",
       "      <th>Free Travel</th>\n",
       "      <th>School Student</th>\n",
       "      <th>Senior/Pensioner</th>\n",
       "      <th>On Demand</th>\n",
       "      <th>CTP</th>\n",
       "      <th>Day Pass Child/Youth w/o SAF</th>\n",
       "      <th>Day Pass without SAF</th>\n",
       "      <th>Monthly passengers</th>\n",
       "    </tr>\n",
       "  </thead>\n",
       "  <tbody>\n",
       "    <tr>\n",
       "      <th>57</th>\n",
       "      <td>57</td>\n",
       "      <td>21-Apr</td>\n",
       "      <td>271849</td>\n",
       "      <td>52658</td>\n",
       "      <td>36117</td>\n",
       "      <td>1944</td>\n",
       "      <td>1353</td>\n",
       "      <td>69598</td>\n",
       "      <td>176368</td>\n",
       "      <td>8887</td>\n",
       "      <td>101192</td>\n",
       "      <td>1</td>\n",
       "      <td>99</td>\n",
       "      <td>720066</td>\n",
       "    </tr>\n",
       "    <tr>\n",
       "      <th>58</th>\n",
       "      <td>58</td>\n",
       "      <td>21-May</td>\n",
       "      <td>289229</td>\n",
       "      <td>42457</td>\n",
       "      <td>42044</td>\n",
       "      <td>1967</td>\n",
       "      <td>1329</td>\n",
       "      <td>132272</td>\n",
       "      <td>183225</td>\n",
       "      <td>10133</td>\n",
       "      <td>106754</td>\n",
       "      <td>0</td>\n",
       "      <td>147</td>\n",
       "      <td>809557</td>\n",
       "    </tr>\n",
       "    <tr>\n",
       "      <th>59</th>\n",
       "      <td>59</td>\n",
       "      <td>21-Jun</td>\n",
       "      <td>259924</td>\n",
       "      <td>34715</td>\n",
       "      <td>32919</td>\n",
       "      <td>1314</td>\n",
       "      <td>1081</td>\n",
       "      <td>102099</td>\n",
       "      <td>163825</td>\n",
       "      <td>9366</td>\n",
       "      <td>97027</td>\n",
       "      <td>0</td>\n",
       "      <td>95</td>\n",
       "      <td>702365</td>\n",
       "    </tr>\n",
       "    <tr>\n",
       "      <th>60</th>\n",
       "      <td>60</td>\n",
       "      <td>21-Jul</td>\n",
       "      <td>127354</td>\n",
       "      <td>11205</td>\n",
       "      <td>10461</td>\n",
       "      <td>513</td>\n",
       "      <td>488</td>\n",
       "      <td>1276</td>\n",
       "      <td>75935</td>\n",
       "      <td>0</td>\n",
       "      <td>48652</td>\n",
       "      <td>0</td>\n",
       "      <td>79</td>\n",
       "      <td>275963</td>\n",
       "    </tr>\n",
       "    <tr>\n",
       "      <th>61</th>\n",
       "      <td>61</td>\n",
       "      <td>21-Aug</td>\n",
       "      <td>102883</td>\n",
       "      <td>6708</td>\n",
       "      <td>7436</td>\n",
       "      <td>480</td>\n",
       "      <td>389</td>\n",
       "      <td>1501</td>\n",
       "      <td>63463</td>\n",
       "      <td>0</td>\n",
       "      <td>39328</td>\n",
       "      <td>1</td>\n",
       "      <td>81</td>\n",
       "      <td>222270</td>\n",
       "    </tr>\n",
       "  </tbody>\n",
       "</table>\n",
       "</div>"
      ],
      "text/plain": [
       "    Month number    Date   Adult  Child/Youth  Concession  Employee  \\\n",
       "57            57  21-Apr  271849        52658       36117      1944   \n",
       "58            58  21-May  289229        42457       42044      1967   \n",
       "59            59  21-Jun  259924        34715       32919      1314   \n",
       "60            60  21-Jul  127354        11205       10461       513   \n",
       "61            61  21-Aug  102883         6708        7436       480   \n",
       "\n",
       "    Free Travel  School Student  Senior/Pensioner  On Demand     CTP  \\\n",
       "57         1353           69598            176368       8887  101192   \n",
       "58         1329          132272            183225      10133  106754   \n",
       "59         1081          102099            163825       9366   97027   \n",
       "60          488            1276             75935          0   48652   \n",
       "61          389            1501             63463          0   39328   \n",
       "\n",
       "    Day Pass Child/Youth w/o SAF  Day Pass without SAF  Monthly passengers  \n",
       "57                             1                    99              720066  \n",
       "58                             0                   147              809557  \n",
       "59                             0                    95              702365  \n",
       "60                             0                    79              275963  \n",
       "61                             1                    81              222270  "
      ]
     },
     "execution_count": 131,
     "metadata": {},
     "output_type": "execute_result"
    }
   ],
   "source": [
    "data.tail()"
   ]
  },
  {
   "cell_type": "code",
   "execution_count": 22,
   "id": "2faf58fa",
   "metadata": {},
   "outputs": [
    {
     "data": {
      "text/plain": [
       "<AxesSubplot:xlabel='Date', ylabel='million'>"
      ]
     },
     "execution_count": 22,
     "metadata": {},
     "output_type": "execute_result"
    },
    {
     "data": {
      "image/png": "[encoded data removed]",
      "text/plain": [
       "<Figure size 432x288 with 1 Axes>"
      ]
     },
     "metadata": {
      "needs_background": "light"
     },
     "output_type": "display_data"
    }
   ],
   "source": [
    "data.plot(ylabel='million',x='Date',y='Monthly passengers')\n"
   ]
  },
  {
   "cell_type": "code",
   "execution_count": 129,
   "id": "6635c2f1",
   "metadata": {},
   "outputs": [
    {
     "data": {
      "text/plain": [
       "<AxesSubplot:xlabel='Date'>"
      ]
     },
     "execution_count": 129,
     "metadata": {},
     "output_type": "execute_result"
    },
    {
     "data": {
      "image/png": "[encoded data removed]",
      "text/plain": [
       "<Figure size 432x288 with 1 Axes>"
      ]
     },
     "metadata": {
      "needs_background": "light"
     },
     "output_type": "display_data"
    }
   ],
   "source": [
    "data.plot(x='Date',y='Adult')"
   ]
  },
  {
   "cell_type": "code",
   "execution_count": 24,
   "id": "4c21d507",
   "metadata": {},
   "outputs": [
    {
     "data": {
      "text/plain": [
       "<AxesSubplot:xlabel='Date'>"
      ]
     },
     "execution_count": 24,
     "metadata": {},
     "output_type": "execute_result"
    },
    {
     "data": {
      "image/png": "[encoded data removed]",
      "text/plain": [
       "<Figure size 432x288 with 1 Axes>"
      ]
     },
     "metadata": {
      "needs_background": "light"
     },
     "output_type": "display_data"
    }
   ],
   "source": [
    "data.plot(x='Date',y='Child/Youth')"
   ]
  },
  {
   "cell_type": "markdown",
   "id": "15e89f69",
   "metadata": {},
   "source": [
    "### Number Forty-four is the month number before the implementation of first lockdown in 2020"
   ]
  },
  {
   "cell_type": "code",
   "execution_count": 158,
   "id": "6bfa24f4",
   "metadata": {},
   "outputs": [
    {
     "name": "stdout",
     "output_type": "stream",
     "text": [
      "y = x * [5546.41254405] + 920820.7666666667\n"
     ]
    }
   ],
   "source": [
    "reg = linear_model.LinearRegression()\n",
    "x = data[['Month number']]\n",
    "y = data['Monthly passengers']\n",
    "reg.fit(x[:44], y[:44])\n",
    "print(\"y = x *\", reg.coef_, \"+\", reg.intercept_)\n"
   ]
  },
  {
   "cell_type": "code",
   "execution_count": 197,
   "id": "81cba5ff",
   "metadata": {},
   "outputs": [],
   "source": [
    "## Linear model built by using the Monthly passengers data before the lockdown\n",
    "m,b = np.polyfit(X[:44], y[:44], 1)\n"
   ]
  },
  {
   "cell_type": "code",
   "execution_count": 202,
   "id": "beb0d280",
   "metadata": {},
   "outputs": [
    {
     "data": {
      "text/plain": [
       "[<matplotlib.lines.Line2D at 0x152d3dfb310>]"
      ]
     },
     "execution_count": 202,
     "metadata": {},
     "output_type": "execute_result"
    },
    {
     "data": {
      "image/png": "[encoded data removed]",
      "text/plain": [
       "<Figure size 432x288 with 1 Axes>"
      ]
     },
     "metadata": {
      "needs_background": "light"
     },
     "output_type": "display_data"
    }
   ],
   "source": [
    "## The number of Monthly passengers before the lockdown (Month number 44, Mar-20)\n",
    "plt.plot(x[:44], y[:44], 'o')\n",
    "\n",
    "\n"
   ]
  },
  {
   "cell_type": "code",
   "execution_count": 209,
   "id": "305a932d",
   "metadata": {},
   "outputs": [
    {
     "data": {
      "text/plain": [
       "[<matplotlib.lines.Line2D at 0x152d4fb6c10>]"
      ]
     },
     "execution_count": 209,
     "metadata": {},
     "output_type": "execute_result"
    },
    {
     "data": {
      "image/png": "[encoded data removed]",
      "text/plain": [
       "<Figure size 432x288 with 1 Axes>"
      ]
     },
     "metadata": {
      "needs_background": "light"
     },
     "output_type": "display_data"
    }
   ],
   "source": [
    "## The line of best fit for the graph above\n",
    "plt.plot(x[:44], m*x[:44] + b)\n"
   ]
  },
  {
   "cell_type": "code",
   "execution_count": 210,
   "id": "529151f3",
   "metadata": {},
   "outputs": [
    {
     "data": {
      "text/plain": [
       "[<matplotlib.lines.Line2D at 0x152d500ba60>]"
      ]
     },
     "execution_count": 210,
     "metadata": {},
     "output_type": "execute_result"
    },
    {
     "data": {
      "image/png": "[encoded data removed]",
      "text/plain": [
       "<Figure size 432x288 with 1 Axes>"
      ]
     },
     "metadata": {
      "needs_background": "light"
     },
     "output_type": "display_data"
    }
   ],
   "source": [
    "## The theorectical trend of Monthly passengers number if there's no covid-19\n",
    "plt.plot(x[44:], m*x[44:] + b)"
   ]
  },
  {
   "cell_type": "code",
   "execution_count": 211,
   "id": "e53500ad",
   "metadata": {},
   "outputs": [
    {
     "data": {
      "text/plain": [
       "array([1164862.91860465, 1170409.3311487 , 1175955.74369274,\n",
       "       1181502.15623679, 1187048.56878083, 1192594.98132488,\n",
       "       1198141.39386892, 1203687.80641297, 1209234.21895701,\n",
       "       1214780.63150106, 1220327.0440451 , 1225873.45658915,\n",
       "       1231419.86913319, 1236966.28167724, 1242512.69422128,\n",
       "       1248059.10676533, 1253605.51930937, 1259151.93185342])"
      ]
     },
     "execution_count": 211,
     "metadata": {},
     "output_type": "execute_result"
    }
   ],
   "source": [
    "##Linear to predict the total number of monthly passengers if there's no covid-19\n",
    "no_covid=reg.predict(x[44:])\n",
    "no_covid"
   ]
  },
  {
   "cell_type": "code",
   "execution_count": 168,
   "id": "ca4a69e9",
   "metadata": {},
   "outputs": [
    {
     "data": {
      "text/plain": [
       "21816133.65412262"
      ]
     },
     "execution_count": 168,
     "metadata": {},
     "output_type": "execute_result"
    }
   ],
   "source": [
    "no_covid.sum()"
   ]
  },
  {
   "cell_type": "code",
   "execution_count": 181,
   "id": "b5f61747",
   "metadata": {},
   "outputs": [
    {
     "data": {
      "text/plain": [
       "11595381"
      ]
     },
     "execution_count": 181,
     "metadata": {},
     "output_type": "execute_result"
    }
   ],
   "source": [
    "yes_covid=(data['Monthly passengers'][44:])\n",
    "yes_covid.sum()"
   ]
  },
  {
   "cell_type": "code",
   "execution_count": 172,
   "id": "fe5045ff",
   "metadata": {},
   "outputs": [
    {
     "name": "stdout",
     "output_type": "stream",
     "text": [
      "Therefore, the estimated loss of  passengers due to covid-19 in Sydney bus sector is:  10220752.65412262 after the implementation of the first lockdown in 2020.\n"
     ]
    }
   ],
   "source": [
    "print('Therefore, the theorectical estimated loss of  passengers due to covid-19 in Sydney bus sector is: ',(no_covid.sum())-(yes_covid.sum()), 'after the implementation of the first lockdown in 2020.')"
   ]
  },
  {
   "cell_type": "markdown",
   "id": "ae4f0b44",
   "metadata": {},
   "source": [
    "## WE SHOULD make a lot of changes to THE PART BELOW, since X and Y of the linear model have been assigned  values\n",
    "\n",
    "# IGNORE WHAT'S BELOW FOR NOW"
   ]
  },
  {
   "cell_type": "code",
   "execution_count": 128,
   "id": "59de5a26",
   "metadata": {},
   "outputs": [
    {
     "name": "stdout",
     "output_type": "stream",
     "text": [
      "MSE: 117892683779.51591\n",
      "R Squared: -0.9979454398424579\n"
     ]
    }
   ],
   "source": [
    "predicted = reg.predict(X)\n",
    "mse = ((np.array(y)-predicted)**2).sum()/len(y)\n",
    "r2 = r2_score(y, predicted)\n",
    "\n",
    "print(\"MSE:\", mse)\n",
    "print(\"R Squared:\", r2)"
   ]
  },
  {
   "cell_type": "code",
   "execution_count": 50,
   "id": "4f056203",
   "metadata": {},
   "outputs": [
    {
     "name": "stdout",
     "output_type": "stream",
     "text": [
      "y =X * [-316.21102035    0.40868006] + 24585.49152298912\n"
     ]
    }
   ],
   "source": [
    "reg = linear_model.LinearRegression()\n",
    "X = data[['Month number','Monthly passengers']]\n",
    "y = data['Adult']\n",
    "reg.fit(X, y)\n",
    "\n",
    "print(\"y =X *\", reg.coef_, \"+\", reg.intercept_)"
   ]
  },
  {
   "cell_type": "code",
   "execution_count": 32,
   "id": "7d974c98",
   "metadata": {},
   "outputs": [
    {
     "name": "stdout",
     "output_type": "stream",
     "text": [
      "(49, 14)\n",
      "(13, 14)\n"
     ]
    }
   ],
   "source": [
    "train, test = train_test_split(data, test_size=0.2, random_state=142)\n",
    "print(train.shape)\n",
    "print(test.shape)"
   ]
  },
  {
   "cell_type": "code",
   "execution_count": 33,
   "id": "37f4ed65",
   "metadata": {},
   "outputs": [
    {
     "name": "stdout",
     "output_type": "stream",
     "text": [
      "y = x * [-316.21102035    0.40868006] + 24585.49152298912\n"
     ]
    }
   ],
   "source": [
    "x_train = data[['Month number','Monthly passengers']]\n",
    "y_train = data['Adult']\n",
    "x_test = data[['Month number','Monthly passengers']]\n",
    "y_test = data['Adult']\n",
    "reg = linear_model.LinearRegression()\n",
    "reg.fit(x_train,y_train)\n",
    "print(\"y = x *\", reg.coef_, \"+\", reg.intercept_)"
   ]
  },
  {
   "cell_type": "code",
   "execution_count": 157,
   "id": "14d4776a",
   "metadata": {},
   "outputs": [
    {
     "name": "stdout",
     "output_type": "stream",
     "text": [
      "MSE: 1228802316.7393878\n",
      "R Squared: 0.8943003617196154\n"
     ]
    }
   ],
   "source": [
    "predicted=reg.predict(x_train)\n",
    "mse = ((np.array(y_train)-predicted)**2).sum()/len(y_train)\n",
    "r2 = r2_score(y_train, predicted)\n",
    "print(\"MSE:\", mse)\n",
    "print(\"R Squared:\", r2)"
   ]
  },
  {
   "cell_type": "code",
   "execution_count": 162,
   "id": "da4fe6f0",
   "metadata": {},
   "outputs": [
    {
     "data": {
      "text/plain": [
       "array([406782.26306095, 453054.76112871, 402190.95731231])"
      ]
     },
     "execution_count": 162,
     "metadata": {},
     "output_type": "execute_result"
    }
   ],
   "source": [
    "reg.predict(x_train[:3])"
   ]
  },
  {
   "cell_type": "markdown",
   "id": "a75b7626",
   "metadata": {},
   "source": [
    "# Questions:\n",
    "1.\n",
    "\n",
    "2."
   ]
  },
  {
   "cell_type": "code",
   "execution_count": null,
   "id": "4beee791",
   "metadata": {},
   "outputs": [],
   "source": []
  },
  {
   "cell_type": "code",
   "execution_count": null,
   "id": "91b022ef",
   "metadata": {},
   "outputs": [],
   "source": []
  },
  {
   "cell_type": "code",
   "execution_count": null,
   "id": "9343e728",
   "metadata": {},
   "outputs": [],
   "source": []
  }
 ],
 "metadata": {
  "kernelspec": {
   "display_name": "Python 3",
   "language": "python",
   "name": "python3"
  },
  "language_info": {
   "codemirror_mode": {
    "name": "ipython",
    "version": 3
   },
   "file_extension": ".py",
   "mimetype": "text/x-python",
   "name": "python",
   "nbconvert_exporter": "python",
   "pygments_lexer": "ipython3",
   "version": "3.8.8"
  }
 },
 "nbformat": 4,
 "nbformat_minor": 5
}
