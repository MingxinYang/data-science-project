{
 "cells": [
  {
   "cell_type": "markdown",
   "id": "02e8396d",
   "metadata": {},
   "source": [
    "## Data science group project \n",
    "\n",
    "## Data:  \n",
    "Number of transports by different types of passengers"
   ]
  },
  {
   "cell_type": "code",
   "execution_count": 6,
   "id": "b4b2a72b",
   "metadata": {},
   "outputs": [],
   "source": [
    "import pandas as pd\n",
    "import numpy as np\n",
    "import seaborn as sns\n",
    "import matplotlib.pyplot as plt\n",
    "%matplotlib inline\n",
    "from sklearn.model_selection import train_test_split\n",
    "from sklearn import linear_model\n",
    "from sklearn.metrics import r2_score\n",
    "from sklearn.linear_model import LogisticRegression\n",
    "from sklearn.metrics import confusion_matrix, accuracy_score\n",
    "from sklearn.feature_selection import RFE\n"
   ]
  },
  {
   "cell_type": "code",
   "execution_count": 7,
   "id": "f7f7e10c",
   "metadata": {},
   "outputs": [
    {
     "data": {
      "text/html": [
       "<div>\n",
       "<style scoped>\n",
       "    .dataframe tbody tr th:only-of-type {\n",
       "        vertical-align: middle;\n",
       "    }\n",
       "\n",
       "    .dataframe tbody tr th {\n",
       "        vertical-align: top;\n",
       "    }\n",
       "\n",
       "    .dataframe thead th {\n",
       "        text-align: right;\n",
       "    }\n",
       "</style>\n",
       "<table border=\"1\" class=\"dataframe\">\n",
       "  <thead>\n",
       "    <tr style=\"text-align: right;\">\n",
       "      <th></th>\n",
       "      <th>Date</th>\n",
       "      <th>Adult</th>\n",
       "      <th>Child/Youth</th>\n",
       "      <th>Concession</th>\n",
       "      <th>Employee</th>\n",
       "      <th>Free Travel</th>\n",
       "      <th>School Student</th>\n",
       "      <th>Senior/Pensioner</th>\n",
       "      <th>On Demand</th>\n",
       "      <th>CTP</th>\n",
       "      <th>Day Pass Child/Youth w/o SAF</th>\n",
       "      <th>Day Pass without SAF</th>\n",
       "      <th>Monthly passengers</th>\n",
       "    </tr>\n",
       "  </thead>\n",
       "  <tbody>\n",
       "    <tr>\n",
       "      <th>0</th>\n",
       "      <td>16-Jul</td>\n",
       "      <td>390,433</td>\n",
       "      <td>62,800</td>\n",
       "      <td>136,064</td>\n",
       "      <td>0</td>\n",
       "      <td>1,149</td>\n",
       "      <td>138,642</td>\n",
       "      <td>206,110</td>\n",
       "      <td>0</td>\n",
       "      <td>0</td>\n",
       "      <td>0</td>\n",
       "      <td>0</td>\n",
       "      <td>935,198</td>\n",
       "    </tr>\n",
       "    <tr>\n",
       "      <th>1</th>\n",
       "      <td>16-Aug</td>\n",
       "      <td>386,386</td>\n",
       "      <td>67,010</td>\n",
       "      <td>73,590</td>\n",
       "      <td>0</td>\n",
       "      <td>1,281</td>\n",
       "      <td>296,261</td>\n",
       "      <td>224,668</td>\n",
       "      <td>0</td>\n",
       "      <td>0</td>\n",
       "      <td>0</td>\n",
       "      <td>0</td>\n",
       "      <td>1,049,196</td>\n",
       "    </tr>\n",
       "    <tr>\n",
       "      <th>2</th>\n",
       "      <td>16-Sep</td>\n",
       "      <td>370,068</td>\n",
       "      <td>70,022</td>\n",
       "      <td>61,676</td>\n",
       "      <td>0</td>\n",
       "      <td>1,320</td>\n",
       "      <td>203,827</td>\n",
       "      <td>218,598</td>\n",
       "      <td>0</td>\n",
       "      <td>0</td>\n",
       "      <td>0</td>\n",
       "      <td>0</td>\n",
       "      <td>925,511</td>\n",
       "    </tr>\n",
       "    <tr>\n",
       "      <th>3</th>\n",
       "      <td>16-Oct</td>\n",
       "      <td>381,402</td>\n",
       "      <td>78,951</td>\n",
       "      <td>60,635</td>\n",
       "      <td>0</td>\n",
       "      <td>1,410</td>\n",
       "      <td>197,558</td>\n",
       "      <td>227,088</td>\n",
       "      <td>0</td>\n",
       "      <td>0</td>\n",
       "      <td>0</td>\n",
       "      <td>0</td>\n",
       "      <td>947,044</td>\n",
       "    </tr>\n",
       "    <tr>\n",
       "      <th>4</th>\n",
       "      <td>16-Nov</td>\n",
       "      <td>405,245</td>\n",
       "      <td>76,328</td>\n",
       "      <td>57,858</td>\n",
       "      <td>0</td>\n",
       "      <td>1,462</td>\n",
       "      <td>255,994</td>\n",
       "      <td>236,965</td>\n",
       "      <td>0</td>\n",
       "      <td>0</td>\n",
       "      <td>0</td>\n",
       "      <td>0</td>\n",
       "      <td>1,033,852</td>\n",
       "    </tr>\n",
       "  </tbody>\n",
       "</table>\n",
       "</div>"
      ],
      "text/plain": [
       "     Date    Adult Child/Youth Concession Employee Free Travel School Student  \\\n",
       "0  16-Jul  390,433      62,800    136,064        0       1,149        138,642   \n",
       "1  16-Aug  386,386      67,010     73,590        0       1,281        296,261   \n",
       "2  16-Sep  370,068      70,022     61,676        0       1,320        203,827   \n",
       "3  16-Oct  381,402      78,951     60,635        0       1,410        197,558   \n",
       "4  16-Nov  405,245      76,328     57,858        0       1,462        255,994   \n",
       "\n",
       "  Senior/Pensioner On Demand CTP  Day Pass Child/Youth w/o SAF  \\\n",
       "0          206,110         0   0                             0   \n",
       "1          224,668         0   0                             0   \n",
       "2          218,598         0   0                             0   \n",
       "3          227,088         0   0                             0   \n",
       "4          236,965         0   0                             0   \n",
       "\n",
       "   Day Pass without SAF Monthly passengers  \n",
       "0                     0            935,198  \n",
       "1                     0          1,049,196  \n",
       "2                     0            925,511  \n",
       "3                     0            947,044  \n",
       "4                     0          1,033,852  "
      ]
     },
     "execution_count": 7,
     "metadata": {},
     "output_type": "execute_result"
    }
   ],
   "source": [
    "data = pd.read_csv(\"Untitled Folder/Bus Card Type.xlsx - Bus Card Type.csv.csv\")\n",
    "data.head()"
   ]
  },
  {
   "cell_type": "code",
   "execution_count": 8,
   "id": "60bb0427",
   "metadata": {},
   "outputs": [
    {
     "data": {
      "text/plain": [
       "(62, 13)"
      ]
     },
     "execution_count": 8,
     "metadata": {},
     "output_type": "execute_result"
    }
   ],
   "source": [
    "data.shape"
   ]
  },
  {
   "cell_type": "code",
   "execution_count": 9,
   "id": "81d5c783",
   "metadata": {
    "scrolled": false
   },
   "outputs": [
    {
     "data": {
      "text/html": [
       "<div>\n",
       "<style scoped>\n",
       "    .dataframe tbody tr th:only-of-type {\n",
       "        vertical-align: middle;\n",
       "    }\n",
       "\n",
       "    .dataframe tbody tr th {\n",
       "        vertical-align: top;\n",
       "    }\n",
       "\n",
       "    .dataframe thead th {\n",
       "        text-align: right;\n",
       "    }\n",
       "</style>\n",
       "<table border=\"1\" class=\"dataframe\">\n",
       "  <thead>\n",
       "    <tr style=\"text-align: right;\">\n",
       "      <th></th>\n",
       "      <th>Date</th>\n",
       "      <th>Adult</th>\n",
       "      <th>Child/Youth</th>\n",
       "      <th>Concession</th>\n",
       "      <th>Employee</th>\n",
       "      <th>Free Travel</th>\n",
       "      <th>School Student</th>\n",
       "      <th>Senior/Pensioner</th>\n",
       "      <th>On Demand</th>\n",
       "      <th>CTP</th>\n",
       "      <th>Day Pass Child/Youth w/o SAF</th>\n",
       "      <th>Day Pass without SAF</th>\n",
       "      <th>Monthly passengers</th>\n",
       "    </tr>\n",
       "  </thead>\n",
       "  <tbody>\n",
       "    <tr>\n",
       "      <th>57</th>\n",
       "      <td>21-Apr</td>\n",
       "      <td>271,849</td>\n",
       "      <td>52,658</td>\n",
       "      <td>36,117</td>\n",
       "      <td>1,944</td>\n",
       "      <td>1,353</td>\n",
       "      <td>69,598</td>\n",
       "      <td>176,368</td>\n",
       "      <td>8,887</td>\n",
       "      <td>101,192</td>\n",
       "      <td>1</td>\n",
       "      <td>99</td>\n",
       "      <td>720,066</td>\n",
       "    </tr>\n",
       "    <tr>\n",
       "      <th>58</th>\n",
       "      <td>21-May</td>\n",
       "      <td>289,229</td>\n",
       "      <td>42,457</td>\n",
       "      <td>42,044</td>\n",
       "      <td>1,967</td>\n",
       "      <td>1,329</td>\n",
       "      <td>132,272</td>\n",
       "      <td>183,225</td>\n",
       "      <td>10,133</td>\n",
       "      <td>106,754</td>\n",
       "      <td>0</td>\n",
       "      <td>147</td>\n",
       "      <td>809,557</td>\n",
       "    </tr>\n",
       "    <tr>\n",
       "      <th>59</th>\n",
       "      <td>21-Jun</td>\n",
       "      <td>259,924</td>\n",
       "      <td>34,715</td>\n",
       "      <td>32,919</td>\n",
       "      <td>1,314</td>\n",
       "      <td>1,081</td>\n",
       "      <td>102,099</td>\n",
       "      <td>163,825</td>\n",
       "      <td>9,366</td>\n",
       "      <td>97,027</td>\n",
       "      <td>0</td>\n",
       "      <td>95</td>\n",
       "      <td>702,365</td>\n",
       "    </tr>\n",
       "    <tr>\n",
       "      <th>60</th>\n",
       "      <td>21-Jul</td>\n",
       "      <td>127,354</td>\n",
       "      <td>11,205</td>\n",
       "      <td>10,461</td>\n",
       "      <td>513</td>\n",
       "      <td>488</td>\n",
       "      <td>1,276</td>\n",
       "      <td>75,935</td>\n",
       "      <td>0</td>\n",
       "      <td>48,652</td>\n",
       "      <td>0</td>\n",
       "      <td>79</td>\n",
       "      <td>275,963</td>\n",
       "    </tr>\n",
       "    <tr>\n",
       "      <th>61</th>\n",
       "      <td>21-Aug</td>\n",
       "      <td>102,883</td>\n",
       "      <td>6,708</td>\n",
       "      <td>7,436</td>\n",
       "      <td>480</td>\n",
       "      <td>389</td>\n",
       "      <td>1,501</td>\n",
       "      <td>63,463</td>\n",
       "      <td>0</td>\n",
       "      <td>39,328</td>\n",
       "      <td>1</td>\n",
       "      <td>81</td>\n",
       "      <td>222,270</td>\n",
       "    </tr>\n",
       "  </tbody>\n",
       "</table>\n",
       "</div>"
      ],
      "text/plain": [
       "      Date    Adult Child/Youth Concession Employee Free Travel  \\\n",
       "57  21-Apr  271,849      52,658     36,117    1,944       1,353   \n",
       "58  21-May  289,229      42,457     42,044    1,967       1,329   \n",
       "59  21-Jun  259,924      34,715     32,919    1,314       1,081   \n",
       "60  21-Jul  127,354      11,205     10,461      513         488   \n",
       "61  21-Aug  102,883       6,708      7,436      480         389   \n",
       "\n",
       "   School Student Senior/Pensioner On Demand      CTP  \\\n",
       "57         69,598          176,368     8,887  101,192   \n",
       "58        132,272          183,225    10,133  106,754   \n",
       "59        102,099          163,825     9,366   97,027   \n",
       "60          1,276           75,935         0   48,652   \n",
       "61          1,501           63,463         0   39,328   \n",
       "\n",
       "    Day Pass Child/Youth w/o SAF  Day Pass without SAF Monthly passengers  \n",
       "57                             1                    99            720,066  \n",
       "58                             0                   147            809,557  \n",
       "59                             0                    95            702,365  \n",
       "60                             0                    79            275,963  \n",
       "61                             1                    81            222,270  "
      ]
     },
     "execution_count": 9,
     "metadata": {},
     "output_type": "execute_result"
    }
   ],
   "source": [
    "data.tail()"
   ]
  },
  {
   "cell_type": "code",
   "execution_count": 10,
   "id": "fe5bbf08",
   "metadata": {},
   "outputs": [
    {
     "data": {
      "text/plain": [
       "0   2016-07-01\n",
       "1   2016-08-01\n",
       "2   2016-09-01\n",
       "3   2016-10-01\n",
       "4   2016-11-01\n",
       "Name: Date, dtype: datetime64[ns]"
      ]
     },
     "execution_count": 10,
     "metadata": {},
     "output_type": "execute_result"
    }
   ],
   "source": [
    "## converted the Date column to a Data type which can be used for training and testing\n",
    "data['Date'] = pd.to_datetime( data['Date'], \n",
    " format = '%y-%b',errors = 'raise')\n",
    "data.Date.head()"
   ]
  },
  {
   "cell_type": "code",
   "execution_count": 47,
   "id": "6635c2f1",
   "metadata": {},
   "outputs": [
    {
     "data": {
      "text/plain": [
       "<AxesSubplot:xlabel='Date', ylabel='million'>"
      ]
     },
     "execution_count": 47,
     "metadata": {},
     "output_type": "execute_result"
    },
    {
     "data": {
      "image/png": "[encoded data removed]",
      "text/plain": [
       "<Figure size 432x288 with 1 Axes>"
      ]
     },
     "metadata": {
      "needs_background": "light"
     },
     "output_type": "display_data"
    },
    {
     "data": {
      "image/png": "[encoded data removed]",
      "text/plain": [
       "<Figure size 432x288 with 1 Axes>"
      ]
     },
     "metadata": {
      "needs_background": "light"
     },
     "output_type": "display_data"
    },
    {
     "data": {
      "image/png": "[encoded data removed]",
      "text/plain": [
       "<Figure size 432x288 with 1 Axes>"
      ]
     },
     "metadata": {
      "needs_background": "light"
     },
     "output_type": "display_data"
    }
   ],
   "source": [
    "data.plot(x='Date',y='Adult')\n",
    "data.plot(x='Date',y='Child/Youth')\n",
    "data.plot(ylabel='million',x='Date',y='Monthly passengers')"
   ]
  },
  {
   "cell_type": "markdown",
   "id": "15e89f69",
   "metadata": {},
   "source": [
    "### Number Forty-four is the month number before the implementation of first lockdown in 2020"
   ]
  },
  {
   "cell_type": "code",
   "execution_count": 11,
   "id": "6bfa24f4",
   "metadata": {},
   "outputs": [
    {
     "ename": "ValueError",
     "evalue": "could not convert string to float: '935,198'",
     "output_type": "error",
     "traceback": [
      "\u001b[1;31m---------------------------------------------------------------------------\u001b[0m",
      "\u001b[1;31mValueError\u001b[0m                                Traceback (most recent call last)",
      "\u001b[1;32m<ipython-input-11-9dcb36f5549b>\u001b[0m in \u001b[0;36m<module>\u001b[1;34m\u001b[0m\n\u001b[0;32m      2\u001b[0m \u001b[0mx\u001b[0m \u001b[1;33m=\u001b[0m \u001b[0mdata\u001b[0m\u001b[1;33m[\u001b[0m\u001b[1;33m[\u001b[0m\u001b[1;34m'Date'\u001b[0m\u001b[1;33m]\u001b[0m\u001b[1;33m]\u001b[0m\u001b[1;33m\u001b[0m\u001b[1;33m\u001b[0m\u001b[0m\n\u001b[0;32m      3\u001b[0m \u001b[0my\u001b[0m \u001b[1;33m=\u001b[0m \u001b[0mdata\u001b[0m\u001b[1;33m[\u001b[0m\u001b[1;34m'Monthly passengers'\u001b[0m\u001b[1;33m]\u001b[0m\u001b[1;33m\u001b[0m\u001b[1;33m\u001b[0m\u001b[0m\n\u001b[1;32m----> 4\u001b[1;33m \u001b[0mreg\u001b[0m\u001b[1;33m.\u001b[0m\u001b[0mfit\u001b[0m\u001b[1;33m(\u001b[0m\u001b[0mx\u001b[0m\u001b[1;33m[\u001b[0m\u001b[1;33m:\u001b[0m\u001b[1;36m44\u001b[0m\u001b[1;33m]\u001b[0m\u001b[1;33m,\u001b[0m \u001b[0my\u001b[0m\u001b[1;33m[\u001b[0m\u001b[1;33m:\u001b[0m\u001b[1;36m44\u001b[0m\u001b[1;33m]\u001b[0m\u001b[1;33m)\u001b[0m\u001b[1;33m\u001b[0m\u001b[1;33m\u001b[0m\u001b[0m\n\u001b[0m\u001b[0;32m      5\u001b[0m \u001b[0mprint\u001b[0m\u001b[1;33m(\u001b[0m\u001b[1;34m\"y = x *\"\u001b[0m\u001b[1;33m,\u001b[0m \u001b[0mreg\u001b[0m\u001b[1;33m.\u001b[0m\u001b[0mcoef_\u001b[0m\u001b[1;33m,\u001b[0m \u001b[1;34m\"+\"\u001b[0m\u001b[1;33m,\u001b[0m \u001b[0mreg\u001b[0m\u001b[1;33m.\u001b[0m\u001b[0mintercept_\u001b[0m\u001b[1;33m)\u001b[0m\u001b[1;33m\u001b[0m\u001b[1;33m\u001b[0m\u001b[0m\n",
      "\u001b[1;32mW:\\anaconda3\\lib\\site-packages\\sklearn\\linear_model\\_base.py\u001b[0m in \u001b[0;36mfit\u001b[1;34m(self, X, y, sample_weight)\u001b[0m\n\u001b[0;32m    516\u001b[0m         \u001b[0maccept_sparse\u001b[0m \u001b[1;33m=\u001b[0m \u001b[1;32mFalse\u001b[0m \u001b[1;32mif\u001b[0m \u001b[0mself\u001b[0m\u001b[1;33m.\u001b[0m\u001b[0mpositive\u001b[0m \u001b[1;32melse\u001b[0m \u001b[1;33m[\u001b[0m\u001b[1;34m'csr'\u001b[0m\u001b[1;33m,\u001b[0m \u001b[1;34m'csc'\u001b[0m\u001b[1;33m,\u001b[0m \u001b[1;34m'coo'\u001b[0m\u001b[1;33m]\u001b[0m\u001b[1;33m\u001b[0m\u001b[1;33m\u001b[0m\u001b[0m\n\u001b[0;32m    517\u001b[0m \u001b[1;33m\u001b[0m\u001b[0m\n\u001b[1;32m--> 518\u001b[1;33m         X, y = self._validate_data(X, y, accept_sparse=accept_sparse,\n\u001b[0m\u001b[0;32m    519\u001b[0m                                    y_numeric=True, multi_output=True)\n\u001b[0;32m    520\u001b[0m \u001b[1;33m\u001b[0m\u001b[0m\n",
      "\u001b[1;32mW:\\anaconda3\\lib\\site-packages\\sklearn\\base.py\u001b[0m in \u001b[0;36m_validate_data\u001b[1;34m(self, X, y, reset, validate_separately, **check_params)\u001b[0m\n\u001b[0;32m    431\u001b[0m                 \u001b[0my\u001b[0m \u001b[1;33m=\u001b[0m \u001b[0mcheck_array\u001b[0m\u001b[1;33m(\u001b[0m\u001b[0my\u001b[0m\u001b[1;33m,\u001b[0m \u001b[1;33m**\u001b[0m\u001b[0mcheck_y_params\u001b[0m\u001b[1;33m)\u001b[0m\u001b[1;33m\u001b[0m\u001b[1;33m\u001b[0m\u001b[0m\n\u001b[0;32m    432\u001b[0m             \u001b[1;32melse\u001b[0m\u001b[1;33m:\u001b[0m\u001b[1;33m\u001b[0m\u001b[1;33m\u001b[0m\u001b[0m\n\u001b[1;32m--> 433\u001b[1;33m                 \u001b[0mX\u001b[0m\u001b[1;33m,\u001b[0m \u001b[0my\u001b[0m \u001b[1;33m=\u001b[0m \u001b[0mcheck_X_y\u001b[0m\u001b[1;33m(\u001b[0m\u001b[0mX\u001b[0m\u001b[1;33m,\u001b[0m \u001b[0my\u001b[0m\u001b[1;33m,\u001b[0m \u001b[1;33m**\u001b[0m\u001b[0mcheck_params\u001b[0m\u001b[1;33m)\u001b[0m\u001b[1;33m\u001b[0m\u001b[1;33m\u001b[0m\u001b[0m\n\u001b[0m\u001b[0;32m    434\u001b[0m             \u001b[0mout\u001b[0m \u001b[1;33m=\u001b[0m \u001b[0mX\u001b[0m\u001b[1;33m,\u001b[0m \u001b[0my\u001b[0m\u001b[1;33m\u001b[0m\u001b[1;33m\u001b[0m\u001b[0m\n\u001b[0;32m    435\u001b[0m \u001b[1;33m\u001b[0m\u001b[0m\n",
      "\u001b[1;32mW:\\anaconda3\\lib\\site-packages\\sklearn\\utils\\validation.py\u001b[0m in \u001b[0;36minner_f\u001b[1;34m(*args, **kwargs)\u001b[0m\n\u001b[0;32m     61\u001b[0m             \u001b[0mextra_args\u001b[0m \u001b[1;33m=\u001b[0m \u001b[0mlen\u001b[0m\u001b[1;33m(\u001b[0m\u001b[0margs\u001b[0m\u001b[1;33m)\u001b[0m \u001b[1;33m-\u001b[0m \u001b[0mlen\u001b[0m\u001b[1;33m(\u001b[0m\u001b[0mall_args\u001b[0m\u001b[1;33m)\u001b[0m\u001b[1;33m\u001b[0m\u001b[1;33m\u001b[0m\u001b[0m\n\u001b[0;32m     62\u001b[0m             \u001b[1;32mif\u001b[0m \u001b[0mextra_args\u001b[0m \u001b[1;33m<=\u001b[0m \u001b[1;36m0\u001b[0m\u001b[1;33m:\u001b[0m\u001b[1;33m\u001b[0m\u001b[1;33m\u001b[0m\u001b[0m\n\u001b[1;32m---> 63\u001b[1;33m                 \u001b[1;32mreturn\u001b[0m \u001b[0mf\u001b[0m\u001b[1;33m(\u001b[0m\u001b[1;33m*\u001b[0m\u001b[0margs\u001b[0m\u001b[1;33m,\u001b[0m \u001b[1;33m**\u001b[0m\u001b[0mkwargs\u001b[0m\u001b[1;33m)\u001b[0m\u001b[1;33m\u001b[0m\u001b[1;33m\u001b[0m\u001b[0m\n\u001b[0m\u001b[0;32m     64\u001b[0m \u001b[1;33m\u001b[0m\u001b[0m\n\u001b[0;32m     65\u001b[0m             \u001b[1;31m# extra_args > 0\u001b[0m\u001b[1;33m\u001b[0m\u001b[1;33m\u001b[0m\u001b[1;33m\u001b[0m\u001b[0m\n",
      "\u001b[1;32mW:\\anaconda3\\lib\\site-packages\\sklearn\\utils\\validation.py\u001b[0m in \u001b[0;36mcheck_X_y\u001b[1;34m(X, y, accept_sparse, accept_large_sparse, dtype, order, copy, force_all_finite, ensure_2d, allow_nd, multi_output, ensure_min_samples, ensure_min_features, y_numeric, estimator)\u001b[0m\n\u001b[0;32m    827\u001b[0m         \u001b[0m_assert_all_finite\u001b[0m\u001b[1;33m(\u001b[0m\u001b[0my\u001b[0m\u001b[1;33m)\u001b[0m\u001b[1;33m\u001b[0m\u001b[1;33m\u001b[0m\u001b[0m\n\u001b[0;32m    828\u001b[0m     \u001b[1;32mif\u001b[0m \u001b[0my_numeric\u001b[0m \u001b[1;32mand\u001b[0m \u001b[0my\u001b[0m\u001b[1;33m.\u001b[0m\u001b[0mdtype\u001b[0m\u001b[1;33m.\u001b[0m\u001b[0mkind\u001b[0m \u001b[1;33m==\u001b[0m \u001b[1;34m'O'\u001b[0m\u001b[1;33m:\u001b[0m\u001b[1;33m\u001b[0m\u001b[1;33m\u001b[0m\u001b[0m\n\u001b[1;32m--> 829\u001b[1;33m         \u001b[0my\u001b[0m \u001b[1;33m=\u001b[0m \u001b[0my\u001b[0m\u001b[1;33m.\u001b[0m\u001b[0mastype\u001b[0m\u001b[1;33m(\u001b[0m\u001b[0mnp\u001b[0m\u001b[1;33m.\u001b[0m\u001b[0mfloat64\u001b[0m\u001b[1;33m)\u001b[0m\u001b[1;33m\u001b[0m\u001b[1;33m\u001b[0m\u001b[0m\n\u001b[0m\u001b[0;32m    830\u001b[0m \u001b[1;33m\u001b[0m\u001b[0m\n\u001b[0;32m    831\u001b[0m     \u001b[0mcheck_consistent_length\u001b[0m\u001b[1;33m(\u001b[0m\u001b[0mX\u001b[0m\u001b[1;33m,\u001b[0m \u001b[0my\u001b[0m\u001b[1;33m)\u001b[0m\u001b[1;33m\u001b[0m\u001b[1;33m\u001b[0m\u001b[0m\n",
      "\u001b[1;31mValueError\u001b[0m: could not convert string to float: '935,198'"
     ]
    }
   ],
   "source": [
    "reg = linear_model.LinearRegression()\n",
    "x = data[['Date']]\n",
    "y = data['Monthly passengers']\n",
    "reg.fit(x[:44], y[:44])\n",
    "print(\"y = x *\", reg.coef_, \"+\", reg.intercept_)\n"
   ]
  },
  {
   "cell_type": "code",
   "execution_count": 61,
   "id": "beb0d280",
   "metadata": {},
   "outputs": [
    {
     "data": {
      "text/plain": [
       "[<matplotlib.lines.Line2D at 0x25b3abd08b0>]"
      ]
     },
     "execution_count": 61,
     "metadata": {},
     "output_type": "execute_result"
    },
    {
     "data": {
      "image/png": "[encoded data removed]",
      "text/plain": [
       "<Figure size 432x288 with 1 Axes>"
      ]
     },
     "metadata": {
      "needs_background": "light"
     },
     "output_type": "display_data"
    }
   ],
   "source": [
    "## The number of Monthly passengers before the lockdown (Month number 44, Mar-20)\n",
    "plt.plot(x[:44], y[:44], 'o')\n",
    "\n",
    "\n"
   ]
  },
  {
   "cell_type": "code",
   "execution_count": 78,
   "id": "ca4a69e9",
   "metadata": {},
   "outputs": [
    {
     "data": {
      "text/plain": [
       "45763020"
      ]
     },
     "execution_count": 78,
     "metadata": {},
     "output_type": "execute_result"
    }
   ],
   "source": [
    "no_covid=(data['Monthly passengers'][:44])\n",
    "no_covid.sum()"
   ]
  },
  {
   "cell_type": "code",
   "execution_count": 70,
   "id": "b5f61747",
   "metadata": {},
   "outputs": [
    {
     "data": {
      "text/plain": [
       "11595381"
      ]
     },
     "execution_count": 70,
     "metadata": {},
     "output_type": "execute_result"
    }
   ],
   "source": [
    "yes_covid=(data['Monthly passengers'][44:])\n",
    "yes_covid.sum()"
   ]
  },
  {
   "cell_type": "code",
   "execution_count": null,
   "id": "fe5045ff",
   "metadata": {},
   "outputs": [],
   "source": []
  },
  {
   "cell_type": "markdown",
   "id": "ae4f0b44",
   "metadata": {},
   "source": [
    "## WE SHOULD make a lot of changes to THE PART BELOW, since X and Y of the linear model have been assigned  values\n",
    "\n",
    "# IGNORE WHAT'S BELOW FOR NOW"
   ]
  },
  {
   "cell_type": "code",
   "execution_count": 128,
   "id": "59de5a26",
   "metadata": {},
   "outputs": [
    {
     "name": "stdout",
     "output_type": "stream",
     "text": [
      "MSE: 117892683779.51591\n",
      "R Squared: -0.9979454398424579\n"
     ]
    }
   ],
   "source": [
    "predicted = reg.predict(X)\n",
    "mse = ((np.array(y)-predicted)**2).sum()/len(y)\n",
    "r2 = r2_score(y, predicted)\n",
    "\n",
    "print(\"MSE:\", mse)\n",
    "print(\"R Squared:\", r2)"
   ]
  },
  {
   "cell_type": "code",
   "execution_count": 50,
   "id": "4f056203",
   "metadata": {},
   "outputs": [
    {
     "name": "stdout",
     "output_type": "stream",
     "text": [
      "y =X * [-316.21102035    0.40868006] + 24585.49152298912\n"
     ]
    }
   ],
   "source": [
    "reg = linear_model.LinearRegression()\n",
    "X = data[['Month number','Monthly passengers']]\n",
    "y = data['Adult']\n",
    "reg.fit(X, y)\n",
    "\n",
    "print(\"y =X *\", reg.coef_, \"+\", reg.intercept_)"
   ]
  },
  {
   "cell_type": "code",
   "execution_count": 32,
   "id": "7d974c98",
   "metadata": {},
   "outputs": [
    {
     "name": "stdout",
     "output_type": "stream",
     "text": [
      "(49, 14)\n",
      "(13, 14)\n"
     ]
    }
   ],
   "source": [
    "train, test = train_test_split(data, test_size=0.2, random_state=142)\n",
    "print(train.shape)\n",
    "print(test.shape)"
   ]
  },
  {
   "cell_type": "code",
   "execution_count": 33,
   "id": "37f4ed65",
   "metadata": {},
   "outputs": [
    {
     "name": "stdout",
     "output_type": "stream",
     "text": [
      "y = x * [-316.21102035    0.40868006] + 24585.49152298912\n"
     ]
    }
   ],
   "source": [
    "x_train = data[['Month number','Monthly passengers']]\n",
    "y_train = data['Adult']\n",
    "x_test = data[['Month number','Monthly passengers']]\n",
    "y_test = data['Adult']\n",
    "reg = linear_model.LinearRegression()\n",
    "reg.fit(x_train,y_train)\n",
    "print(\"y = x *\", reg.coef_, \"+\", reg.intercept_)"
   ]
  },
  {
   "cell_type": "code",
   "execution_count": 157,
   "id": "14d4776a",
   "metadata": {},
   "outputs": [
    {
     "name": "stdout",
     "output_type": "stream",
     "text": [
      "MSE: 1228802316.7393878\n",
      "R Squared: 0.8943003617196154\n"
     ]
    }
   ],
   "source": [
    "predicted=reg.predict(x_train)\n",
    "mse = ((np.array(y_train)-predicted)**2).sum()/len(y_train)\n",
    "r2 = r2_score(y_train, predicted)\n",
    "print(\"MSE:\", mse)\n",
    "print(\"R Squared:\", r2)"
   ]
  },
  {
   "cell_type": "code",
   "execution_count": 162,
   "id": "da4fe6f0",
   "metadata": {},
   "outputs": [
    {
     "data": {
      "text/plain": [
       "array([406782.26306095, 453054.76112871, 402190.95731231])"
      ]
     },
     "execution_count": 162,
     "metadata": {},
     "output_type": "execute_result"
    }
   ],
   "source": [
    "reg.predict(x_train[:3])"
   ]
  },
  {
   "cell_type": "markdown",
   "id": "a75b7626",
   "metadata": {},
   "source": [
    "# Questions:\n",
    "1.\n",
    "\n",
    "2."
   ]
  },
  {
   "cell_type": "code",
   "execution_count": null,
   "id": "4beee791",
   "metadata": {},
   "outputs": [],
   "source": []
  },
  {
   "cell_type": "code",
   "execution_count": null,
   "id": "91b022ef",
   "metadata": {},
   "outputs": [],
   "source": []
  },
  {
   "cell_type": "code",
   "execution_count": null,
   "id": "9343e728",
   "metadata": {},
   "outputs": [],
   "source": []
  }
 ],
 "metadata": {
  "kernelspec": {
   "display_name": "Python 3",
   "language": "python",
   "name": "python3"
  },
  "language_info": {
   "codemirror_mode": {
    "name": "ipython",
    "version": 3
   },
   "file_extension": ".py",
   "mimetype": "text/x-python",
   "name": "python",
   "nbconvert_exporter": "python",
   "pygments_lexer": "ipython3",
   "version": "3.8.8"
  }
 },
 "nbformat": 4,
 "nbformat_minor": 5
}
