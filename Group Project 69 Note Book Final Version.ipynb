{
 "cells": [
  {
   "cell_type": "markdown",
   "id": "7cf8e2ac",
   "metadata": {},
   "source": [
    "# Data science group 69 project \n",
    "\n",
    "### Project Goal:\n",
    "To predict what would happen with bus trip data if there is no COVID-19. This data will be predicted from March 2020, the approximate start of the COVID-19 impact in Australia.\n",
    "\n",
    "### Data Source and Background:\n",
    "The dataset we will be using comes from the Transport for NSW website, which has several different types of data available about its services. We will be using the Monthly Opal Bus Trips by Contract Area data, which contains information about opal card usage within the bus system throughout Sydney. "
   ]
  },
  {
   "cell_type": "code",
   "execution_count": null,
   "id": "3a16db60",
   "metadata": {},
   "outputs": [],
   "source": []
  }
 ],
 "metadata": {
  "kernelspec": {
   "display_name": "Python 3",
   "language": "python",
   "name": "python3"
  },
  "language_info": {
   "codemirror_mode": {
    "name": "ipython",
    "version": 3
   },
   "file_extension": ".py",
   "mimetype": "text/x-python",
   "name": "python",
   "nbconvert_exporter": "python",
   "pygments_lexer": "ipython3",
   "version": "3.8.8"
  }
 },
 "nbformat": 4,
 "nbformat_minor": 5
}
