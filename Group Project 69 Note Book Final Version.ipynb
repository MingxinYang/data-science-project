{
 "cells": [
  {
   "cell_type": "markdown",
   "id": "7cf8e2ac",
   "metadata": {},
   "source": [
    "# Data science group 69 project \n",
    "\n",
    "## Project Goal:\n",
    "We are going to use the bus opal data from Transport NSW to predict the number of passengers for each month if COVID-19 did not happen. We will also then compare this data with the actual number of passengers during the COVID-19 period.\n",
    "\n",
    "## Data Source and Background:\n",
    "The dataset we will be using comes from the Transport for NSW website, which has several different types of data available about its services. We will be using the Monthly Opal Bus Trips by Contract Area data, which contains information about opal card usage within the bus system throughout Sydney. "
   ]
  },
  {
   "cell_type": "markdown",
   "id": "2b4670ca",
   "metadata": {},
   "source": [
    "#### Import the methods"
   ]
  },
  {
   "cell_type": "code",
   "execution_count": 1,
   "id": "c0546d2f",
   "metadata": {},
   "outputs": [],
   "source": [
    "import pandas as pd\n",
    "import numpy as np\n",
    "import seaborn as sns\n",
    "import matplotlib.pyplot as plt\n",
    "%matplotlib inline\n",
    "from sklearn.model_selection import train_test_split\n",
    "from sklearn import linear_model\n",
    "from sklearn.metrics import r2_score\n",
    "from sklearn.linear_model import LogisticRegression\n",
    "from sklearn.metrics import confusion_matrix, accuracy_score\n",
    "from sklearn.feature_selection import RFE\n",
    "import warnings\n",
    "warnings.filterwarnings(\"ignore\")\n"
   ]
  },
  {
   "cell_type": "markdown",
   "id": "49ab0acf",
   "metadata": {},
   "source": [
    "#### Data Cleaning"
   ]
  },
  {
   "cell_type": "code",
   "execution_count": 2,
   "id": "bf9d82bf",
   "metadata": {},
   "outputs": [],
   "source": [
    "# read the dataset\n",
    "data = pd.read_csv(\"Untitled Folder/Bus Card Type.xlsx - Bus Card Type.csv.csv\")"
   ]
  },
  {
   "cell_type": "code",
   "execution_count": 3,
   "id": "6ccc97d4",
   "metadata": {},
   "outputs": [],
   "source": [
    "## fill the null values with zero, in order to establish the model and plot graphs\n",
    "data=data.fillna(0)"
   ]
  },
  {
   "cell_type": "code",
   "execution_count": 4,
   "id": "466c8041",
   "metadata": {},
   "outputs": [
    {
     "data": {
      "text/plain": [
       "0   2016-07-01\n",
       "1   2016-08-01\n",
       "2   2016-09-01\n",
       "3   2016-10-01\n",
       "4   2016-11-01\n",
       "Name: Date, dtype: datetime64[ns]"
      ]
     },
     "execution_count": 4,
     "metadata": {},
     "output_type": "execute_result"
    }
   ],
   "source": [
    "## converted the Categorical data type of date to a Date type in the Date column \n",
    "data['Date'] = pd.to_datetime( data['Date'], \n",
    " format = '%Y-%m',errors = 'coerce')\n",
    "data.Date.head()"
   ]
  },
  {
   "cell_type": "code",
   "execution_count": 5,
   "id": "4bf4b9b5",
   "metadata": {},
   "outputs": [
    {
     "data": {
      "text/html": [
       "<div>\n",
       "<style scoped>\n",
       "    .dataframe tbody tr th:only-of-type {\n",
       "        vertical-align: middle;\n",
       "    }\n",
       "\n",
       "    .dataframe tbody tr th {\n",
       "        vertical-align: top;\n",
       "    }\n",
       "\n",
       "    .dataframe thead th {\n",
       "        text-align: right;\n",
       "    }\n",
       "</style>\n",
       "<table border=\"1\" class=\"dataframe\">\n",
       "  <thead>\n",
       "    <tr style=\"text-align: right;\">\n",
       "      <th></th>\n",
       "      <th>Month number</th>\n",
       "      <th>Date</th>\n",
       "      <th>Adult</th>\n",
       "      <th>Child/Youth</th>\n",
       "      <th>Concession</th>\n",
       "      <th>Employee</th>\n",
       "      <th>Free Travel</th>\n",
       "      <th>School Student</th>\n",
       "      <th>Senior/Pensioner</th>\n",
       "      <th>On Demand</th>\n",
       "      <th>CTP</th>\n",
       "      <th>Day Pass Child/Youth w/o SAF</th>\n",
       "      <th>Day Pass without SAF</th>\n",
       "      <th>Day Pass without SAF.1</th>\n",
       "      <th>Monthly passengers</th>\n",
       "    </tr>\n",
       "  </thead>\n",
       "  <tbody>\n",
       "    <tr>\n",
       "      <th>0</th>\n",
       "      <td>1</td>\n",
       "      <td>2016-07-01</td>\n",
       "      <td>390433</td>\n",
       "      <td>62800</td>\n",
       "      <td>136064</td>\n",
       "      <td>0.0</td>\n",
       "      <td>1149</td>\n",
       "      <td>138642</td>\n",
       "      <td>206110</td>\n",
       "      <td>0.0</td>\n",
       "      <td>0.0</td>\n",
       "      <td>0.0</td>\n",
       "      <td>0.0</td>\n",
       "      <td>0</td>\n",
       "      <td>935198</td>\n",
       "    </tr>\n",
       "    <tr>\n",
       "      <th>1</th>\n",
       "      <td>2</td>\n",
       "      <td>2016-08-01</td>\n",
       "      <td>386386</td>\n",
       "      <td>67010</td>\n",
       "      <td>73590</td>\n",
       "      <td>0.0</td>\n",
       "      <td>1281</td>\n",
       "      <td>296261</td>\n",
       "      <td>224668</td>\n",
       "      <td>0.0</td>\n",
       "      <td>0.0</td>\n",
       "      <td>0.0</td>\n",
       "      <td>0.0</td>\n",
       "      <td>0</td>\n",
       "      <td>1049196</td>\n",
       "    </tr>\n",
       "    <tr>\n",
       "      <th>2</th>\n",
       "      <td>3</td>\n",
       "      <td>2016-09-01</td>\n",
       "      <td>370068</td>\n",
       "      <td>70022</td>\n",
       "      <td>61676</td>\n",
       "      <td>0.0</td>\n",
       "      <td>1320</td>\n",
       "      <td>203827</td>\n",
       "      <td>218598</td>\n",
       "      <td>0.0</td>\n",
       "      <td>0.0</td>\n",
       "      <td>0.0</td>\n",
       "      <td>0.0</td>\n",
       "      <td>0</td>\n",
       "      <td>925511</td>\n",
       "    </tr>\n",
       "    <tr>\n",
       "      <th>3</th>\n",
       "      <td>4</td>\n",
       "      <td>2016-10-01</td>\n",
       "      <td>381402</td>\n",
       "      <td>78951</td>\n",
       "      <td>60635</td>\n",
       "      <td>0.0</td>\n",
       "      <td>1410</td>\n",
       "      <td>197558</td>\n",
       "      <td>227088</td>\n",
       "      <td>0.0</td>\n",
       "      <td>0.0</td>\n",
       "      <td>0.0</td>\n",
       "      <td>0.0</td>\n",
       "      <td>0</td>\n",
       "      <td>947044</td>\n",
       "    </tr>\n",
       "    <tr>\n",
       "      <th>4</th>\n",
       "      <td>5</td>\n",
       "      <td>2016-11-01</td>\n",
       "      <td>405245</td>\n",
       "      <td>76328</td>\n",
       "      <td>57858</td>\n",
       "      <td>0.0</td>\n",
       "      <td>1462</td>\n",
       "      <td>255994</td>\n",
       "      <td>236965</td>\n",
       "      <td>0.0</td>\n",
       "      <td>0.0</td>\n",
       "      <td>0.0</td>\n",
       "      <td>0.0</td>\n",
       "      <td>0</td>\n",
       "      <td>1033852</td>\n",
       "    </tr>\n",
       "  </tbody>\n",
       "</table>\n",
       "</div>"
      ],
      "text/plain": [
       "   Month number       Date   Adult  Child/Youth  Concession  Employee  \\\n",
       "0             1 2016-07-01  390433        62800      136064       0.0   \n",
       "1             2 2016-08-01  386386        67010       73590       0.0   \n",
       "2             3 2016-09-01  370068        70022       61676       0.0   \n",
       "3             4 2016-10-01  381402        78951       60635       0.0   \n",
       "4             5 2016-11-01  405245        76328       57858       0.0   \n",
       "\n",
       "   Free Travel  School Student  Senior/Pensioner  On Demand  CTP  \\\n",
       "0         1149          138642            206110        0.0  0.0   \n",
       "1         1281          296261            224668        0.0  0.0   \n",
       "2         1320          203827            218598        0.0  0.0   \n",
       "3         1410          197558            227088        0.0  0.0   \n",
       "4         1462          255994            236965        0.0  0.0   \n",
       "\n",
       "   Day Pass Child/Youth w/o SAF  Day Pass without SAF  Day Pass without SAF.1  \\\n",
       "0                           0.0                   0.0                       0   \n",
       "1                           0.0                   0.0                       0   \n",
       "2                           0.0                   0.0                       0   \n",
       "3                           0.0                   0.0                       0   \n",
       "4                           0.0                   0.0                       0   \n",
       "\n",
       "   Monthly passengers  \n",
       "0              935198  \n",
       "1             1049196  \n",
       "2              925511  \n",
       "3              947044  \n",
       "4             1033852  "
      ]
     },
     "execution_count": 5,
     "metadata": {},
     "output_type": "execute_result"
    }
   ],
   "source": [
    "data.head()"
   ]
  },
  {
   "cell_type": "code",
   "execution_count": 6,
   "id": "4bfdb441",
   "metadata": {},
   "outputs": [
    {
     "data": {
      "text/plain": [
       "(62, 15)"
      ]
     },
     "execution_count": 6,
     "metadata": {},
     "output_type": "execute_result"
    }
   ],
   "source": [
    "data.shape"
   ]
  },
  {
   "cell_type": "code",
   "execution_count": 7,
   "id": "e0d65b87",
   "metadata": {},
   "outputs": [
    {
     "data": {
      "text/html": [
       "<div>\n",
       "<style scoped>\n",
       "    .dataframe tbody tr th:only-of-type {\n",
       "        vertical-align: middle;\n",
       "    }\n",
       "\n",
       "    .dataframe tbody tr th {\n",
       "        vertical-align: top;\n",
       "    }\n",
       "\n",
       "    .dataframe thead th {\n",
       "        text-align: right;\n",
       "    }\n",
       "</style>\n",
       "<table border=\"1\" class=\"dataframe\">\n",
       "  <thead>\n",
       "    <tr style=\"text-align: right;\">\n",
       "      <th></th>\n",
       "      <th>Month number</th>\n",
       "      <th>Date</th>\n",
       "      <th>Adult</th>\n",
       "      <th>Child/Youth</th>\n",
       "      <th>Concession</th>\n",
       "      <th>Employee</th>\n",
       "      <th>Free Travel</th>\n",
       "      <th>School Student</th>\n",
       "      <th>Senior/Pensioner</th>\n",
       "      <th>On Demand</th>\n",
       "      <th>CTP</th>\n",
       "      <th>Day Pass Child/Youth w/o SAF</th>\n",
       "      <th>Day Pass without SAF</th>\n",
       "      <th>Day Pass without SAF.1</th>\n",
       "      <th>Monthly passengers</th>\n",
       "    </tr>\n",
       "  </thead>\n",
       "  <tbody>\n",
       "    <tr>\n",
       "      <th>42</th>\n",
       "      <td>43</td>\n",
       "      <td>2020-01-01</td>\n",
       "      <td>452466</td>\n",
       "      <td>95311</td>\n",
       "      <td>41589</td>\n",
       "      <td>3015.0</td>\n",
       "      <td>1955</td>\n",
       "      <td>26904</td>\n",
       "      <td>215635</td>\n",
       "      <td>10190.0</td>\n",
       "      <td>72400.0</td>\n",
       "      <td>9.0</td>\n",
       "      <td>120.0</td>\n",
       "      <td>120</td>\n",
       "      <td>919594</td>\n",
       "    </tr>\n",
       "    <tr>\n",
       "      <th>43</th>\n",
       "      <td>44</td>\n",
       "      <td>2020-02-01</td>\n",
       "      <td>467925</td>\n",
       "      <td>82827</td>\n",
       "      <td>54455</td>\n",
       "      <td>2941.0</td>\n",
       "      <td>1957</td>\n",
       "      <td>248840</td>\n",
       "      <td>221171</td>\n",
       "      <td>10801.0</td>\n",
       "      <td>79982.0</td>\n",
       "      <td>16.0</td>\n",
       "      <td>150.0</td>\n",
       "      <td>150</td>\n",
       "      <td>1171065</td>\n",
       "    </tr>\n",
       "    <tr>\n",
       "      <th>44</th>\n",
       "      <td>45</td>\n",
       "      <td>2020-03-01</td>\n",
       "      <td>392860</td>\n",
       "      <td>59296</td>\n",
       "      <td>58725</td>\n",
       "      <td>2745.0</td>\n",
       "      <td>1535</td>\n",
       "      <td>193275</td>\n",
       "      <td>186468</td>\n",
       "      <td>7789.0</td>\n",
       "      <td>72009.0</td>\n",
       "      <td>24.0</td>\n",
       "      <td>150.0</td>\n",
       "      <td>150</td>\n",
       "      <td>974876</td>\n",
       "    </tr>\n",
       "    <tr>\n",
       "      <th>45</th>\n",
       "      <td>46</td>\n",
       "      <td>2020-04-01</td>\n",
       "      <td>171160</td>\n",
       "      <td>16162</td>\n",
       "      <td>13028</td>\n",
       "      <td>1218.0</td>\n",
       "      <td>676</td>\n",
       "      <td>3287</td>\n",
       "      <td>91583</td>\n",
       "      <td>1763.0</td>\n",
       "      <td>37115.0</td>\n",
       "      <td>4.0</td>\n",
       "      <td>93.0</td>\n",
       "      <td>93</td>\n",
       "      <td>336089</td>\n",
       "    </tr>\n",
       "    <tr>\n",
       "      <th>46</th>\n",
       "      <td>47</td>\n",
       "      <td>2020-05-01</td>\n",
       "      <td>216827</td>\n",
       "      <td>28396</td>\n",
       "      <td>17912</td>\n",
       "      <td>1424.0</td>\n",
       "      <td>898</td>\n",
       "      <td>64900</td>\n",
       "      <td>118350</td>\n",
       "      <td>2940.0</td>\n",
       "      <td>49688.0</td>\n",
       "      <td>0.0</td>\n",
       "      <td>97.0</td>\n",
       "      <td>97</td>\n",
       "      <td>501432</td>\n",
       "    </tr>\n",
       "    <tr>\n",
       "      <th>47</th>\n",
       "      <td>48</td>\n",
       "      <td>2020-06-01</td>\n",
       "      <td>260477</td>\n",
       "      <td>40075</td>\n",
       "      <td>24328</td>\n",
       "      <td>1593.0</td>\n",
       "      <td>1164</td>\n",
       "      <td>166127</td>\n",
       "      <td>145567</td>\n",
       "      <td>4980.0</td>\n",
       "      <td>62234.0</td>\n",
       "      <td>0.0</td>\n",
       "      <td>121.0</td>\n",
       "      <td>121</td>\n",
       "      <td>706666</td>\n",
       "    </tr>\n",
       "    <tr>\n",
       "      <th>48</th>\n",
       "      <td>49</td>\n",
       "      <td>2020-07-01</td>\n",
       "      <td>288798</td>\n",
       "      <td>55356</td>\n",
       "      <td>29962</td>\n",
       "      <td>1794.0</td>\n",
       "      <td>1173</td>\n",
       "      <td>89474</td>\n",
       "      <td>158537</td>\n",
       "      <td>6217.0</td>\n",
       "      <td>71847.0</td>\n",
       "      <td>53.0</td>\n",
       "      <td>128.0</td>\n",
       "      <td>128</td>\n",
       "      <td>703339</td>\n",
       "    </tr>\n",
       "    <tr>\n",
       "      <th>49</th>\n",
       "      <td>50</td>\n",
       "      <td>2020-08-01</td>\n",
       "      <td>270591</td>\n",
       "      <td>41851</td>\n",
       "      <td>30755</td>\n",
       "      <td>1697.0</td>\n",
       "      <td>1159</td>\n",
       "      <td>148147</td>\n",
       "      <td>150110</td>\n",
       "      <td>5639.0</td>\n",
       "      <td>67871.0</td>\n",
       "      <td>0.0</td>\n",
       "      <td>98.0</td>\n",
       "      <td>98</td>\n",
       "      <td>717918</td>\n",
       "    </tr>\n",
       "    <tr>\n",
       "      <th>50</th>\n",
       "      <td>51</td>\n",
       "      <td>2020-09-01</td>\n",
       "      <td>278146</td>\n",
       "      <td>44307</td>\n",
       "      <td>30751</td>\n",
       "      <td>1747.0</td>\n",
       "      <td>1110</td>\n",
       "      <td>128544</td>\n",
       "      <td>158729</td>\n",
       "      <td>6581.0</td>\n",
       "      <td>74706.0</td>\n",
       "      <td>0.0</td>\n",
       "      <td>96.0</td>\n",
       "      <td>96</td>\n",
       "      <td>724717</td>\n",
       "    </tr>\n",
       "    <tr>\n",
       "      <th>51</th>\n",
       "      <td>52</td>\n",
       "      <td>2020-10-01</td>\n",
       "      <td>275385</td>\n",
       "      <td>50513</td>\n",
       "      <td>29663</td>\n",
       "      <td>1780.0</td>\n",
       "      <td>1219</td>\n",
       "      <td>93826</td>\n",
       "      <td>162732</td>\n",
       "      <td>6706.0</td>\n",
       "      <td>81315.0</td>\n",
       "      <td>0.0</td>\n",
       "      <td>141.0</td>\n",
       "      <td>141</td>\n",
       "      <td>703280</td>\n",
       "    </tr>\n",
       "    <tr>\n",
       "      <th>52</th>\n",
       "      <td>53</td>\n",
       "      <td>2020-11-01</td>\n",
       "      <td>278318</td>\n",
       "      <td>41384</td>\n",
       "      <td>29494</td>\n",
       "      <td>1811.0</td>\n",
       "      <td>1290</td>\n",
       "      <td>123464</td>\n",
       "      <td>167290</td>\n",
       "      <td>6671.0</td>\n",
       "      <td>84564.0</td>\n",
       "      <td>0.0</td>\n",
       "      <td>119.0</td>\n",
       "      <td>119</td>\n",
       "      <td>734405</td>\n",
       "    </tr>\n",
       "    <tr>\n",
       "      <th>53</th>\n",
       "      <td>54</td>\n",
       "      <td>2020-12-01</td>\n",
       "      <td>261170</td>\n",
       "      <td>47658</td>\n",
       "      <td>26377</td>\n",
       "      <td>1755.0</td>\n",
       "      <td>1291</td>\n",
       "      <td>60504</td>\n",
       "      <td>163863</td>\n",
       "      <td>6924.0</td>\n",
       "      <td>86850.0</td>\n",
       "      <td>3.0</td>\n",
       "      <td>130.0</td>\n",
       "      <td>130</td>\n",
       "      <td>656525</td>\n",
       "    </tr>\n",
       "    <tr>\n",
       "      <th>54</th>\n",
       "      <td>55</td>\n",
       "      <td>2021-01-01</td>\n",
       "      <td>230528</td>\n",
       "      <td>46574</td>\n",
       "      <td>20182</td>\n",
       "      <td>1409.0</td>\n",
       "      <td>1129</td>\n",
       "      <td>5077</td>\n",
       "      <td>137359</td>\n",
       "      <td>6077.0</td>\n",
       "      <td>77831.0</td>\n",
       "      <td>0.0</td>\n",
       "      <td>140.0</td>\n",
       "      <td>140</td>\n",
       "      <td>526306</td>\n",
       "    </tr>\n",
       "    <tr>\n",
       "      <th>55</th>\n",
       "      <td>56</td>\n",
       "      <td>2021-02-01</td>\n",
       "      <td>265311</td>\n",
       "      <td>45469</td>\n",
       "      <td>30997</td>\n",
       "      <td>1746.0</td>\n",
       "      <td>1234</td>\n",
       "      <td>149034</td>\n",
       "      <td>161608</td>\n",
       "      <td>7723.0</td>\n",
       "      <td>88175.0</td>\n",
       "      <td>5.0</td>\n",
       "      <td>207.0</td>\n",
       "      <td>207</td>\n",
       "      <td>751509</td>\n",
       "    </tr>\n",
       "    <tr>\n",
       "      <th>56</th>\n",
       "      <td>57</td>\n",
       "      <td>2021-03-01</td>\n",
       "      <td>294367</td>\n",
       "      <td>42069</td>\n",
       "      <td>45028</td>\n",
       "      <td>1902.0</td>\n",
       "      <td>1459</td>\n",
       "      <td>153294</td>\n",
       "      <td>182357</td>\n",
       "      <td>9412.0</td>\n",
       "      <td>98040.0</td>\n",
       "      <td>7.0</td>\n",
       "      <td>163.0</td>\n",
       "      <td>163</td>\n",
       "      <td>828098</td>\n",
       "    </tr>\n",
       "    <tr>\n",
       "      <th>57</th>\n",
       "      <td>58</td>\n",
       "      <td>2021-04-01</td>\n",
       "      <td>271849</td>\n",
       "      <td>52658</td>\n",
       "      <td>36117</td>\n",
       "      <td>1944.0</td>\n",
       "      <td>1353</td>\n",
       "      <td>69598</td>\n",
       "      <td>176368</td>\n",
       "      <td>8887.0</td>\n",
       "      <td>101192.0</td>\n",
       "      <td>1.0</td>\n",
       "      <td>99.0</td>\n",
       "      <td>99</td>\n",
       "      <td>720066</td>\n",
       "    </tr>\n",
       "    <tr>\n",
       "      <th>58</th>\n",
       "      <td>59</td>\n",
       "      <td>2021-05-01</td>\n",
       "      <td>289229</td>\n",
       "      <td>42457</td>\n",
       "      <td>42044</td>\n",
       "      <td>1967.0</td>\n",
       "      <td>1329</td>\n",
       "      <td>132272</td>\n",
       "      <td>183225</td>\n",
       "      <td>10133.0</td>\n",
       "      <td>106754.0</td>\n",
       "      <td>0.0</td>\n",
       "      <td>147.0</td>\n",
       "      <td>147</td>\n",
       "      <td>809557</td>\n",
       "    </tr>\n",
       "    <tr>\n",
       "      <th>59</th>\n",
       "      <td>60</td>\n",
       "      <td>2021-06-01</td>\n",
       "      <td>259924</td>\n",
       "      <td>34715</td>\n",
       "      <td>32919</td>\n",
       "      <td>1314.0</td>\n",
       "      <td>1081</td>\n",
       "      <td>102099</td>\n",
       "      <td>163825</td>\n",
       "      <td>9366.0</td>\n",
       "      <td>97027.0</td>\n",
       "      <td>0.0</td>\n",
       "      <td>95.0</td>\n",
       "      <td>95</td>\n",
       "      <td>702365</td>\n",
       "    </tr>\n",
       "    <tr>\n",
       "      <th>60</th>\n",
       "      <td>61</td>\n",
       "      <td>2021-07-01</td>\n",
       "      <td>127354</td>\n",
       "      <td>11205</td>\n",
       "      <td>10461</td>\n",
       "      <td>513.0</td>\n",
       "      <td>488</td>\n",
       "      <td>1276</td>\n",
       "      <td>75935</td>\n",
       "      <td>0.0</td>\n",
       "      <td>48652.0</td>\n",
       "      <td>0.0</td>\n",
       "      <td>79.0</td>\n",
       "      <td>79</td>\n",
       "      <td>275963</td>\n",
       "    </tr>\n",
       "    <tr>\n",
       "      <th>61</th>\n",
       "      <td>62</td>\n",
       "      <td>2021-08-01</td>\n",
       "      <td>102883</td>\n",
       "      <td>6708</td>\n",
       "      <td>7436</td>\n",
       "      <td>480.0</td>\n",
       "      <td>389</td>\n",
       "      <td>1501</td>\n",
       "      <td>63463</td>\n",
       "      <td>0.0</td>\n",
       "      <td>39328.0</td>\n",
       "      <td>1.0</td>\n",
       "      <td>81.0</td>\n",
       "      <td>81</td>\n",
       "      <td>222270</td>\n",
       "    </tr>\n",
       "  </tbody>\n",
       "</table>\n",
       "</div>"
      ],
      "text/plain": [
       "    Month number       Date   Adult  Child/Youth  Concession  Employee  \\\n",
       "42            43 2020-01-01  452466        95311       41589    3015.0   \n",
       "43            44 2020-02-01  467925        82827       54455    2941.0   \n",
       "44            45 2020-03-01  392860        59296       58725    2745.0   \n",
       "45            46 2020-04-01  171160        16162       13028    1218.0   \n",
       "46            47 2020-05-01  216827        28396       17912    1424.0   \n",
       "47            48 2020-06-01  260477        40075       24328    1593.0   \n",
       "48            49 2020-07-01  288798        55356       29962    1794.0   \n",
       "49            50 2020-08-01  270591        41851       30755    1697.0   \n",
       "50            51 2020-09-01  278146        44307       30751    1747.0   \n",
       "51            52 2020-10-01  275385        50513       29663    1780.0   \n",
       "52            53 2020-11-01  278318        41384       29494    1811.0   \n",
       "53            54 2020-12-01  261170        47658       26377    1755.0   \n",
       "54            55 2021-01-01  230528        46574       20182    1409.0   \n",
       "55            56 2021-02-01  265311        45469       30997    1746.0   \n",
       "56            57 2021-03-01  294367        42069       45028    1902.0   \n",
       "57            58 2021-04-01  271849        52658       36117    1944.0   \n",
       "58            59 2021-05-01  289229        42457       42044    1967.0   \n",
       "59            60 2021-06-01  259924        34715       32919    1314.0   \n",
       "60            61 2021-07-01  127354        11205       10461     513.0   \n",
       "61            62 2021-08-01  102883         6708        7436     480.0   \n",
       "\n",
       "    Free Travel  School Student  Senior/Pensioner  On Demand       CTP  \\\n",
       "42         1955           26904            215635    10190.0   72400.0   \n",
       "43         1957          248840            221171    10801.0   79982.0   \n",
       "44         1535          193275            186468     7789.0   72009.0   \n",
       "45          676            3287             91583     1763.0   37115.0   \n",
       "46          898           64900            118350     2940.0   49688.0   \n",
       "47         1164          166127            145567     4980.0   62234.0   \n",
       "48         1173           89474            158537     6217.0   71847.0   \n",
       "49         1159          148147            150110     5639.0   67871.0   \n",
       "50         1110          128544            158729     6581.0   74706.0   \n",
       "51         1219           93826            162732     6706.0   81315.0   \n",
       "52         1290          123464            167290     6671.0   84564.0   \n",
       "53         1291           60504            163863     6924.0   86850.0   \n",
       "54         1129            5077            137359     6077.0   77831.0   \n",
       "55         1234          149034            161608     7723.0   88175.0   \n",
       "56         1459          153294            182357     9412.0   98040.0   \n",
       "57         1353           69598            176368     8887.0  101192.0   \n",
       "58         1329          132272            183225    10133.0  106754.0   \n",
       "59         1081          102099            163825     9366.0   97027.0   \n",
       "60          488            1276             75935        0.0   48652.0   \n",
       "61          389            1501             63463        0.0   39328.0   \n",
       "\n",
       "    Day Pass Child/Youth w/o SAF  Day Pass without SAF  \\\n",
       "42                           9.0                 120.0   \n",
       "43                          16.0                 150.0   \n",
       "44                          24.0                 150.0   \n",
       "45                           4.0                  93.0   \n",
       "46                           0.0                  97.0   \n",
       "47                           0.0                 121.0   \n",
       "48                          53.0                 128.0   \n",
       "49                           0.0                  98.0   \n",
       "50                           0.0                  96.0   \n",
       "51                           0.0                 141.0   \n",
       "52                           0.0                 119.0   \n",
       "53                           3.0                 130.0   \n",
       "54                           0.0                 140.0   \n",
       "55                           5.0                 207.0   \n",
       "56                           7.0                 163.0   \n",
       "57                           1.0                  99.0   \n",
       "58                           0.0                 147.0   \n",
       "59                           0.0                  95.0   \n",
       "60                           0.0                  79.0   \n",
       "61                           1.0                  81.0   \n",
       "\n",
       "    Day Pass without SAF.1  Monthly passengers  \n",
       "42                     120              919594  \n",
       "43                     150             1171065  \n",
       "44                     150              974876  \n",
       "45                      93              336089  \n",
       "46                      97              501432  \n",
       "47                     121              706666  \n",
       "48                     128              703339  \n",
       "49                      98              717918  \n",
       "50                      96              724717  \n",
       "51                     141              703280  \n",
       "52                     119              734405  \n",
       "53                     130              656525  \n",
       "54                     140              526306  \n",
       "55                     207              751509  \n",
       "56                     163              828098  \n",
       "57                      99              720066  \n",
       "58                     147              809557  \n",
       "59                      95              702365  \n",
       "60                      79              275963  \n",
       "61                      81              222270  "
      ]
     },
     "execution_count": 7,
     "metadata": {},
     "output_type": "execute_result"
    }
   ],
   "source": [
    "data.tail(20)"
   ]
  },
  {
   "cell_type": "markdown",
   "id": "900537bf",
   "metadata": {},
   "source": [
    "#### Plot the graph"
   ]
  },
  {
   "cell_type": "code",
   "execution_count": 8,
   "id": "451172b8",
   "metadata": {},
   "outputs": [
    {
     "data": {
      "text/plain": [
       "<AxesSubplot:xlabel='year', ylabel='million'>"
      ]
     },
     "execution_count": 8,
     "metadata": {},
     "output_type": "execute_result"
    },
    {
     "data": {
      "image/png": "[encoded data removed]",
      "text/plain": [
       "<Figure size 432x288 with 1 Axes>"
      ]
     },
     "metadata": {
      "needs_background": "light"
     },
     "output_type": "display_data"
    },
    {
     "data": {
      "image/png": "[encoded data removed]",
      "text/plain": [
       "<Figure size 432x288 with 1 Axes>"
      ]
     },
     "metadata": {
      "needs_background": "light"
     },
     "output_type": "display_data"
    },
    {
     "data": {
      "image/png": "[encoded data removed]",
      "text/plain": [
       "<Figure size 432x288 with 1 Axes>"
      ]
     },
     "metadata": {
      "needs_background": "light"
     },
     "output_type": "display_data"
    }
   ],
   "source": [
    "data.plot(x='Date',xlabel='year',y='Adult')\n",
    "data.plot(x='Date',xlabel='year',y='Child/Youth')\n",
    "data.plot(ylabel='million',x='Date',xlabel='year',y='Monthly passengers')"
   ]
  },
  {
   "cell_type": "code",
   "execution_count": 9,
   "id": "67194b1f",
   "metadata": {},
   "outputs": [
    {
     "name": "stdout",
     "output_type": "stream",
     "text": [
      "The total number of average monthly passengers before covid is:\n",
      " 45763020\n"
     ]
    }
   ],
   "source": [
    "before_covid=(data['Monthly passengers'][:44])\n",
    "print(\"The total number of average monthly passengers before covid is:\\n\", before_covid.sum())"
   ]
  },
  {
   "cell_type": "code",
   "execution_count": 10,
   "id": "8340cc43",
   "metadata": {},
   "outputs": [
    {
     "name": "stdout",
     "output_type": "stream",
     "text": [
      "The total number of average monthly passengers during covid is:\n",
      " 11595381\n"
     ]
    }
   ],
   "source": [
    "have_covid=(data['Monthly passengers'][44:])\n",
    "print(\"The total number of average monthly passengers during covid is:\\n\", have_covid.sum())"
   ]
  },
  {
   "cell_type": "markdown",
   "id": "49e4532d",
   "metadata": {},
   "source": [
    "Loss of passengers during covid-19 period"
   ]
  },
  {
   "cell_type": "code",
   "execution_count": 11,
   "id": "41d5be0f",
   "metadata": {},
   "outputs": [
    {
     "name": "stdout",
     "output_type": "stream",
     "text": [
      "34167639\n"
     ]
    }
   ],
   "source": [
    "print(before_covid.sum()-have_covid.sum())"
   ]
  },
  {
   "cell_type": "markdown",
   "id": "9929540a",
   "metadata": {},
   "source": [
    "### Linear Regression"
   ]
  },
  {
   "cell_type": "markdown",
   "id": "16f8fce1",
   "metadata": {},
   "source": [
    "##  Compare the accuracy of using one feature and two features in linear model"
   ]
  },
  {
   "cell_type": "markdown",
   "id": "60b1d4ec",
   "metadata": {},
   "source": [
    "##### Only use one feature - Month Number"
   ]
  },
  {
   "cell_type": "code",
   "execution_count": 12,
   "id": "e25225cd",
   "metadata": {},
   "outputs": [
    {
     "name": "stdout",
     "output_type": "stream",
     "text": [
      "y =X * [-6152.93754879] + 1118953.0327868853\n"
     ]
    }
   ],
   "source": [
    "reg = linear_model.LinearRegression()\n",
    "X = data[['Month number'[:44]]]\n",
    "y = data['Monthly passengers'[:44]]\n",
    "reg.fit(X, y)\n",
    "\n",
    "print(\"y =X *\", reg.coef_, \"+\", reg.intercept_)"
   ]
  },
  {
   "cell_type": "code",
   "execution_count": 13,
   "id": "e9e8dff0",
   "metadata": {},
   "outputs": [
    {
     "name": "stdout",
     "output_type": "stream",
     "text": [
      "MSE: 46882728949.29938\n",
      "R Squared: 0.20547118354855975\n"
     ]
    }
   ],
   "source": [
    "predicted = reg.predict(X)\n",
    "mse = ((np.array(y)-predicted)**2).sum()/len(y)\n",
    "r2 = r2_score(y, predicted)\n",
    "\n",
    "print(\"MSE:\", mse)\n",
    "print(\"R Squared:\", r2)"
   ]
  },
  {
   "cell_type": "markdown",
   "id": "5f9d710a",
   "metadata": {},
   "source": [
    "#### Use two feature - Month Number & Adult"
   ]
  },
  {
   "cell_type": "code",
   "execution_count": 14,
   "id": "ffa09846",
   "metadata": {},
   "outputs": [
    {
     "name": "stdout",
     "output_type": "stream",
     "text": [
      "y =X * [-165.81391045    2.11499808] + 99110.49371422525\n"
     ]
    }
   ],
   "source": [
    "reg = linear_model.LinearRegression()\n",
    "X = data[['Month number','Adult']]\n",
    "y = data['Monthly passengers']\n",
    "reg.fit(X, y)\n",
    "\n",
    "print(\"y =X *\", reg.coef_, \"+\", reg.intercept_)"
   ]
  },
  {
   "cell_type": "code",
   "execution_count": 15,
   "id": "afb79dd2",
   "metadata": {},
   "outputs": [
    {
     "name": "stdout",
     "output_type": "stream",
     "text": [
      "MSE: 6359288888.733247\n",
      "R Squared: 0.8922281533632114\n"
     ]
    }
   ],
   "source": [
    "predicted = reg.predict(X)\n",
    "mse = ((np.array(y)-predicted)**2).sum()/len(y)\n",
    "r2 = r2_score(y, predicted)\n",
    "\n",
    "print(\"MSE:\", mse)\n",
    "print(\"R Squared:\", r2)"
   ]
  },
  {
   "cell_type": "markdown",
   "id": "92a693c9",
   "metadata": {},
   "source": [
    "\n",
    "#### To compare which set is better for predicting the number of monthly passengers \n",
    "Using two features in linear model is better, because there is a significant difference in terms of the Rsquare values: 0.2>0.89\n",
    "A R2 value of 0.892 proves that the model is relatively precise."
   ]
  },
  {
   "cell_type": "code",
   "execution_count": null,
   "id": "36eaf9b9",
   "metadata": {},
   "outputs": [],
   "source": []
  },
  {
   "cell_type": "markdown",
   "id": "183e55ba",
   "metadata": {},
   "source": [
    "#### Split the data into two parts:\n",
    "train - dates before covid\n",
    "<br>test - period after covid happen and lockdown;"
   ]
  },
  {
   "cell_type": "code",
   "execution_count": 16,
   "id": "9ee07774",
   "metadata": {},
   "outputs": [
    {
     "name": "stdout",
     "output_type": "stream",
     "text": [
      "The size for train:  (45, 15)\n",
      "The size for test:  (17, 15)\n"
     ]
    }
   ],
   "source": [
    "train, test = train_test_split(data, test_size=0.26, random_state=142)\n",
    "print(\"The size for train: \", train.shape)\n",
    "print(\"The size for test: \", test.shape)"
   ]
  },
  {
   "cell_type": "markdown",
   "id": "31626121",
   "metadata": {},
   "source": [
    "### Apply train and test"
   ]
  },
  {
   "cell_type": "markdown",
   "id": "ea9e5e29",
   "metadata": {},
   "source": [
    "#### Checking whether using Adult or Child/Youth set works better in terms of predicting the monthly passengers number"
   ]
  },
  {
   "cell_type": "markdown",
   "id": "61cd486b",
   "metadata": {},
   "source": [
    "#####  for Child/Youth"
   ]
  },
  {
   "cell_type": "code",
   "execution_count": 17,
   "id": "8b114306",
   "metadata": {},
   "outputs": [
    {
     "name": "stdout",
     "output_type": "stream",
     "text": [
      "y = x * [290.79715456   9.06710879] + 265841.65711651125\n"
     ]
    }
   ],
   "source": [
    "# Asign the train and test\n",
    "X_train = train[['Month number','Child/Youth']]\n",
    "y_train = train['Monthly passengers']\n",
    "X_test =test[['Month number','Child/Youth']]\n",
    "y_test = test['Monthly passengers']\n",
    "reg = linear_model.LinearRegression()\n",
    "reg.fit(X_train,y_train)\n",
    "print(\"y = x *\", reg.coef_, \"+\", reg.intercept_)"
   ]
  },
  {
   "cell_type": "code",
   "execution_count": 18,
   "id": "75a3b2b0",
   "metadata": {},
   "outputs": [
    {
     "name": "stdout",
     "output_type": "stream",
     "text": [
      "X_train shape: (45, 2)\n",
      "y_train shape: (45,)\n",
      "X_test shape: (17, 2)\n",
      "y_test shape: (17,)\n"
     ]
    }
   ],
   "source": [
    "print(\"X_train shape:\", X_train.shape)\n",
    "print(\"y_train shape:\", y_train.shape)\n",
    "print(\"X_test shape:\", X_test.shape)\n",
    "print(\"y_test shape:\", y_test.shape)"
   ]
  },
  {
   "cell_type": "code",
   "execution_count": 19,
   "id": "fd140603",
   "metadata": {},
   "outputs": [
    {
     "name": "stdout",
     "output_type": "stream",
     "text": [
      "MSE: 12490776380.187359\n",
      "Root MSE: 111762.14198102754\n",
      "R Squared: 0.7470890629002103\n"
     ]
    }
   ],
   "source": [
    "# get prediction\n",
    "predicted = reg.predict(X_test)\n",
    "mse = ((np.array(y_test)-predicted)**2).sum()/len(y_test)\n",
    "r2 = r2_score(y_test, predicted)\n",
    "print(\"MSE:\", mse)\n",
    "print(\"Root MSE:\", np.sqrt(mse))\n",
    "print(\"R Squared:\", r2)"
   ]
  },
  {
   "cell_type": "markdown",
   "id": "8f8cefde",
   "metadata": {},
   "source": [
    "#####  for Adult"
   ]
  },
  {
   "cell_type": "code",
   "execution_count": 20,
   "id": "871f8cef",
   "metadata": {},
   "outputs": [
    {
     "name": "stdout",
     "output_type": "stream",
     "text": [
      "y = x * [-355.30678609    2.18033359] + 67845.03598738741\n"
     ]
    }
   ],
   "source": [
    "# Asign the train and test\n",
    "X_train = train[['Month number','Adult']]\n",
    "y_train = train['Monthly passengers']\n",
    "X_test =test[['Month number','Adult']]\n",
    "y_test = test['Monthly passengers']\n",
    "reg = linear_model.LinearRegression()\n",
    "reg.fit(X_train,y_train)\n",
    "print(\"y = x *\", reg.coef_, \"+\", reg.intercept_)"
   ]
  },
  {
   "cell_type": "code",
   "execution_count": 21,
   "id": "69afeb1e",
   "metadata": {},
   "outputs": [
    {
     "name": "stdout",
     "output_type": "stream",
     "text": [
      "X_train shape: (45, 2)\n",
      "y_train shape: (45,)\n",
      "X_test shape: (17, 2)\n",
      "y_test shape: (17,)\n"
     ]
    }
   ],
   "source": [
    "print(\"X_train shape:\", X_train.shape)\n",
    "print(\"y_train shape:\", y_train.shape)\n",
    "print(\"X_test shape:\", X_test.shape)\n",
    "print(\"y_test shape:\", y_test.shape)"
   ]
  },
  {
   "cell_type": "code",
   "execution_count": 22,
   "id": "8b34e981",
   "metadata": {},
   "outputs": [
    {
     "name": "stdout",
     "output_type": "stream",
     "text": [
      "MSE: 5586575396.47092\n",
      "Root MSE: 74743.39700917345\n",
      "R Squared: 0.8868840514236396\n"
     ]
    }
   ],
   "source": [
    "# get prediction\n",
    "predicted = reg.predict(X_test)\n",
    "mse = ((np.array(y_test)-predicted)**2).sum()/len(y_test)\n",
    "r2 = r2_score(y_test, predicted)\n",
    "print(\"MSE:\", mse)\n",
    "print(\"Root MSE:\", np.sqrt(mse))\n",
    "print(\"R Squared:\", r2)"
   ]
  },
  {
   "cell_type": "code",
   "execution_count": 23,
   "id": "93728c68",
   "metadata": {},
   "outputs": [
    {
     "data": {
      "text/plain": [
       "array([1194439.02455479, 1082571.08179167, 1039093.66277793,\n",
       "        618096.193504  , 1072444.13297535,  809575.51377329,\n",
       "        639958.7487781 ,  918763.9141423 ,  323845.52618602,\n",
       "        999098.66505776,  894352.20794085, 1239278.37315722,\n",
       "        949637.78814806,  680110.98388704, 1109471.07415593,\n",
       "        908422.08517967,  909584.79731337, 1018201.52173282,\n",
       "       1152704.73375369, 1179419.58233872, 1017821.53056327,\n",
       "        550931.10482201,  842910.89681406, 1242156.32590812,\n",
       "        910074.6810549 ,  997682.75266475, 1084174.49347599,\n",
       "        873650.80698908,  656175.45690336,  270135.27609418,\n",
       "       1045677.21915187, 1126582.94530293, 1024328.95983753,\n",
       "        946599.01624689,  677497.63980385, 1279664.42949587,\n",
       "       1041755.49033807,  640058.34340933, 1055308.70670756,\n",
       "        424686.82126542, 1067587.04105101,  973234.05898398,\n",
       "       1162619.14853826,  835798.29828319,  991782.94514595])"
      ]
     },
     "execution_count": 23,
     "metadata": {},
     "output_type": "execute_result"
    }
   ],
   "source": [
    "y_hat_train=reg.predict(X_train)\n",
    "y_hat_train"
   ]
  },
  {
   "cell_type": "markdown",
   "id": "56548449",
   "metadata": {},
   "source": [
    "\n",
    "# Comparison between predicted data using adult and child/youth:\n",
    "<br>\n",
    "From the correlation coefficient we got, the R squared value for using child/youth is 0.74 comparing 0.88 for the adult using adults . As higher R-squared value indicates a better fit for the model, it's evident that using adult set is better in fitting the model."
   ]
  },
  {
   "cell_type": "markdown",
   "id": "e2f426b7",
   "metadata": {},
   "source": [
    "#### Result"
   ]
  },
  {
   "cell_type": "code",
   "execution_count": 24,
   "id": "7f00833e",
   "metadata": {},
   "outputs": [
    {
     "name": "stdout",
     "output_type": "stream",
     "text": [
      "17\n"
     ]
    },
    {
     "data": {
      "text/plain": [
       "array([1172596.17987226, 1211110.81867338,  618717.06304198,\n",
       "        613247.65713305, 1047036.53046076,  626414.34133222,\n",
       "        908100.51567335,  977161.01495989, 1195872.55479501,\n",
       "       1098036.01277425, 1233624.3302095 ,  898007.40112356,\n",
       "       1045091.13796459,  689410.80736668,  523900.80858024,\n",
       "        649800.24907247,  655839.86070883])"
      ]
     },
     "execution_count": 24,
     "metadata": {},
     "output_type": "execute_result"
    }
   ],
   "source": [
    "## monthly passengers number during the covid period assuming there's no covid in NSW\n",
    "MonthlyPassengerNoCovid=reg.predict(X_test)\n",
    "print(len(MonthlyPassengerNoCovid))\n",
    "MonthlyPassengerNoCovid"
   ]
  },
  {
   "cell_type": "code",
   "execution_count": 25,
   "id": "21deed59",
   "metadata": {},
   "outputs": [
    {
     "data": {
      "text/plain": [
       "array([336089, 501432, 706666, 703339, 717918, 724717, 703280, 734405,\n",
       "       656525, 526306, 751509, 828098, 720066, 809557, 702365, 275963,\n",
       "       222270], dtype=int64)"
      ]
     },
     "execution_count": 25,
     "metadata": {},
     "output_type": "execute_result"
    }
   ],
   "source": [
    "## change monthly passengers number during actual covid period into array\n",
    "ActualMonthlyPassengers = np.asarray(data['Monthly passengers'][45:])\n",
    "ActualMonthlyPassengers"
   ]
  },
  {
   "cell_type": "code",
   "execution_count": 26,
   "id": "3efc96b1",
   "metadata": {},
   "outputs": [
    {
     "data": {
      "text/plain": [
       "array(['2020-04-01T00:00:00.000000000', '2020-05-01T00:00:00.000000000',\n",
       "       '2020-06-01T00:00:00.000000000', '2020-07-01T00:00:00.000000000',\n",
       "       '2020-08-01T00:00:00.000000000', '2020-09-01T00:00:00.000000000',\n",
       "       '2020-10-01T00:00:00.000000000', '2020-11-01T00:00:00.000000000',\n",
       "       '2020-12-01T00:00:00.000000000', '2021-01-01T00:00:00.000000000',\n",
       "       '2021-02-01T00:00:00.000000000', '2021-03-01T00:00:00.000000000',\n",
       "       '2021-04-01T00:00:00.000000000', '2021-05-01T00:00:00.000000000',\n",
       "       '2021-06-01T00:00:00.000000000', '2021-07-01T00:00:00.000000000',\n",
       "       '2021-08-01T00:00:00.000000000'], dtype='datetime64[ns]')"
      ]
     },
     "execution_count": 26,
     "metadata": {},
     "output_type": "execute_result"
    }
   ],
   "source": [
    "## change covid period date into array \n",
    "HavingCovidPeriod = np.asarray(data['Date'][45:])\n",
    "HavingCovidPeriod"
   ]
  },
  {
   "cell_type": "code",
   "execution_count": 27,
   "id": "a6205a17",
   "metadata": {},
   "outputs": [
    {
     "data": {
      "text/html": [
       "<div>\n",
       "<style scoped>\n",
       "    .dataframe tbody tr th:only-of-type {\n",
       "        vertical-align: middle;\n",
       "    }\n",
       "\n",
       "    .dataframe tbody tr th {\n",
       "        vertical-align: top;\n",
       "    }\n",
       "\n",
       "    .dataframe thead th {\n",
       "        text-align: right;\n",
       "    }\n",
       "</style>\n",
       "<table border=\"1\" class=\"dataframe\">\n",
       "  <thead>\n",
       "    <tr style=\"text-align: right;\">\n",
       "      <th></th>\n",
       "      <th>Date</th>\n",
       "      <th>Have COVID</th>\n",
       "      <th>No COVID(Prediceted)</th>\n",
       "    </tr>\n",
       "  </thead>\n",
       "  <tbody>\n",
       "    <tr>\n",
       "      <th>0</th>\n",
       "      <td>2020-04-01</td>\n",
       "      <td>336089</td>\n",
       "      <td>1172596</td>\n",
       "    </tr>\n",
       "    <tr>\n",
       "      <th>1</th>\n",
       "      <td>2020-05-01</td>\n",
       "      <td>501432</td>\n",
       "      <td>1211111</td>\n",
       "    </tr>\n",
       "    <tr>\n",
       "      <th>2</th>\n",
       "      <td>2020-06-01</td>\n",
       "      <td>706666</td>\n",
       "      <td>618717</td>\n",
       "    </tr>\n",
       "    <tr>\n",
       "      <th>3</th>\n",
       "      <td>2020-07-01</td>\n",
       "      <td>703339</td>\n",
       "      <td>613248</td>\n",
       "    </tr>\n",
       "    <tr>\n",
       "      <th>4</th>\n",
       "      <td>2020-08-01</td>\n",
       "      <td>717918</td>\n",
       "      <td>1047037</td>\n",
       "    </tr>\n",
       "    <tr>\n",
       "      <th>5</th>\n",
       "      <td>2020-09-01</td>\n",
       "      <td>724717</td>\n",
       "      <td>626414</td>\n",
       "    </tr>\n",
       "    <tr>\n",
       "      <th>6</th>\n",
       "      <td>2020-10-01</td>\n",
       "      <td>703280</td>\n",
       "      <td>908101</td>\n",
       "    </tr>\n",
       "    <tr>\n",
       "      <th>7</th>\n",
       "      <td>2020-11-01</td>\n",
       "      <td>734405</td>\n",
       "      <td>977161</td>\n",
       "    </tr>\n",
       "    <tr>\n",
       "      <th>8</th>\n",
       "      <td>2020-12-01</td>\n",
       "      <td>656525</td>\n",
       "      <td>1195873</td>\n",
       "    </tr>\n",
       "    <tr>\n",
       "      <th>9</th>\n",
       "      <td>2021-01-01</td>\n",
       "      <td>526306</td>\n",
       "      <td>1098036</td>\n",
       "    </tr>\n",
       "    <tr>\n",
       "      <th>10</th>\n",
       "      <td>2021-02-01</td>\n",
       "      <td>751509</td>\n",
       "      <td>1233624</td>\n",
       "    </tr>\n",
       "    <tr>\n",
       "      <th>11</th>\n",
       "      <td>2021-03-01</td>\n",
       "      <td>828098</td>\n",
       "      <td>898007</td>\n",
       "    </tr>\n",
       "    <tr>\n",
       "      <th>12</th>\n",
       "      <td>2021-04-01</td>\n",
       "      <td>720066</td>\n",
       "      <td>1045091</td>\n",
       "    </tr>\n",
       "    <tr>\n",
       "      <th>13</th>\n",
       "      <td>2021-05-01</td>\n",
       "      <td>809557</td>\n",
       "      <td>689411</td>\n",
       "    </tr>\n",
       "    <tr>\n",
       "      <th>14</th>\n",
       "      <td>2021-06-01</td>\n",
       "      <td>702365</td>\n",
       "      <td>523901</td>\n",
       "    </tr>\n",
       "    <tr>\n",
       "      <th>15</th>\n",
       "      <td>2021-07-01</td>\n",
       "      <td>275963</td>\n",
       "      <td>649800</td>\n",
       "    </tr>\n",
       "    <tr>\n",
       "      <th>16</th>\n",
       "      <td>2021-08-01</td>\n",
       "      <td>222270</td>\n",
       "      <td>655840</td>\n",
       "    </tr>\n",
       "  </tbody>\n",
       "</table>\n",
       "</div>"
      ],
      "text/plain": [
       "         Date  Have COVID  No COVID(Prediceted)\n",
       "0  2020-04-01      336089               1172596\n",
       "1  2020-05-01      501432               1211111\n",
       "2  2020-06-01      706666                618717\n",
       "3  2020-07-01      703339                613248\n",
       "4  2020-08-01      717918               1047037\n",
       "5  2020-09-01      724717                626414\n",
       "6  2020-10-01      703280                908101\n",
       "7  2020-11-01      734405                977161\n",
       "8  2020-12-01      656525               1195873\n",
       "9  2021-01-01      526306               1098036\n",
       "10 2021-02-01      751509               1233624\n",
       "11 2021-03-01      828098                898007\n",
       "12 2021-04-01      720066               1045091\n",
       "13 2021-05-01      809557                689411\n",
       "14 2021-06-01      702365                523901\n",
       "15 2021-07-01      275963                649800\n",
       "16 2021-08-01      222270                655840"
      ]
     },
     "execution_count": 27,
     "metadata": {},
     "output_type": "execute_result"
    }
   ],
   "source": [
    "## create a table that contain covid period date, actual covid data and predicted covid period data\n",
    "pd.set_option('display.float_format', lambda x: '%.0f' % x)\n",
    "CompareMonthlyPassengers = pd.DataFrame({'Date':HavingCovidPeriod,'Have COVID':ActualMonthlyPassengers,'No COVID(Prediceted)':MonthlyPassengerNoCovid})\n",
    "CompareMonthlyPassengers"
   ]
  },
  {
   "cell_type": "code",
   "execution_count": 28,
   "id": "6727dcf5",
   "metadata": {},
   "outputs": [
    {
     "data": {
      "text/plain": [
       "<AxesSubplot:title={'center':'comparison of Monthly Passengers'}, xlabel='Date'>"
      ]
     },
     "execution_count": 28,
     "metadata": {},
     "output_type": "execute_result"
    },
    {
     "data": {
      "image/png": "[encoded data removed]",
      "text/plain": [
       "<Figure size 432x288 with 1 Axes>"
      ]
     },
     "metadata": {
      "needs_background": "light"
     },
     "output_type": "display_data"
    }
   ],
   "source": [
    "CompareMonthlyPassengers.plot(kind = 'bar', x = 'Date',title = 'comparison of Monthly Passengers')"
   ]
  },
  {
   "cell_type": "code",
   "execution_count": 29,
   "id": "1cd1801f",
   "metadata": {},
   "outputs": [
    {
     "data": {
      "text/plain": [
       "<AxesSubplot:title={'center':'comparison of Monthly Passengers'}, xlabel='Date'>"
      ]
     },
     "execution_count": 29,
     "metadata": {},
     "output_type": "execute_result"
    },
    {
     "data": {
      "image/png": "[encoded data removed]",
      "text/plain": [
       "<Figure size 432x288 with 1 Axes>"
      ]
     },
     "metadata": {
      "needs_background": "light"
     },
     "output_type": "display_data"
    }
   ],
   "source": [
    "CompareMonthlyPassengers.plot(kind = 'line', x = 'Date',title = 'comparison of Monthly Passengers')"
   ]
  },
  {
   "cell_type": "markdown",
   "id": "f13225b8",
   "metadata": {},
   "source": [
    "# As the graphs above shown, the implementation of lockdown had a significant impact on the number of monthly passengers of the bus system"
   ]
  },
  {
   "cell_type": "markdown",
   "id": "ed725b22",
   "metadata": {},
   "source": [
    "#### improve the model by using meaningful feature:Ｍｏｎｔｈ"
   ]
  },
  {
   "cell_type": "code",
   "execution_count": 30,
   "id": "9f71ded6",
   "metadata": {},
   "outputs": [
    {
     "data": {
      "text/plain": [
       "array([ 7,  8,  9, 10, 11, 12,  1,  2,  3,  4,  5,  6,  7,  8,  9, 10, 11,\n",
       "       12,  1,  2,  3,  4,  5,  6,  7,  8,  9, 10, 11, 12,  1,  2,  3,  4,\n",
       "        5,  6,  7,  8,  9, 10, 11, 12,  1,  2,  3,  4,  5,  6,  7,  8,  9,\n",
       "       10, 11, 12,  1,  2,  3,  4,  5,  6,  7,  8])"
      ]
     },
     "execution_count": 30,
     "metadata": {},
     "output_type": "execute_result"
    }
   ],
   "source": [
    "Month = np.asarray([7,8,9,10,11,12,1,2,3,4,5,6,7,8,9,10,11,12,1,2,3,4,5,6,7,8,9,10,11,12,1,2,3,4,5,6,7,8,9,10,11,12,1,2,3,4,5,6,7,8,9,10,11,12,1,2,3,4,5,6,7,8])\n",
    "Month"
   ]
  },
  {
   "cell_type": "code",
   "execution_count": 31,
   "id": "4812192a",
   "metadata": {},
   "outputs": [
    {
     "data": {
      "text/html": [
       "<div>\n",
       "<style scoped>\n",
       "    .dataframe tbody tr th:only-of-type {\n",
       "        vertical-align: middle;\n",
       "    }\n",
       "\n",
       "    .dataframe tbody tr th {\n",
       "        vertical-align: top;\n",
       "    }\n",
       "\n",
       "    .dataframe thead th {\n",
       "        text-align: right;\n",
       "    }\n",
       "</style>\n",
       "<table border=\"1\" class=\"dataframe\">\n",
       "  <thead>\n",
       "    <tr style=\"text-align: right;\">\n",
       "      <th></th>\n",
       "      <th>Month number</th>\n",
       "      <th>Date</th>\n",
       "      <th>Adult</th>\n",
       "      <th>Child/Youth</th>\n",
       "      <th>Concession</th>\n",
       "      <th>Employee</th>\n",
       "      <th>Free Travel</th>\n",
       "      <th>School Student</th>\n",
       "      <th>Senior/Pensioner</th>\n",
       "      <th>On Demand</th>\n",
       "      <th>CTP</th>\n",
       "      <th>Day Pass Child/Youth w/o SAF</th>\n",
       "      <th>Day Pass without SAF</th>\n",
       "      <th>Day Pass without SAF.1</th>\n",
       "      <th>Monthly passengers</th>\n",
       "      <th>Month</th>\n",
       "    </tr>\n",
       "  </thead>\n",
       "  <tbody>\n",
       "    <tr>\n",
       "      <th>0</th>\n",
       "      <td>1</td>\n",
       "      <td>2016-07-01</td>\n",
       "      <td>390433</td>\n",
       "      <td>62800</td>\n",
       "      <td>136064</td>\n",
       "      <td>0</td>\n",
       "      <td>1149</td>\n",
       "      <td>138642</td>\n",
       "      <td>206110</td>\n",
       "      <td>0</td>\n",
       "      <td>0</td>\n",
       "      <td>0</td>\n",
       "      <td>0</td>\n",
       "      <td>0</td>\n",
       "      <td>935198</td>\n",
       "      <td>7</td>\n",
       "    </tr>\n",
       "    <tr>\n",
       "      <th>1</th>\n",
       "      <td>2</td>\n",
       "      <td>2016-08-01</td>\n",
       "      <td>386386</td>\n",
       "      <td>67010</td>\n",
       "      <td>73590</td>\n",
       "      <td>0</td>\n",
       "      <td>1281</td>\n",
       "      <td>296261</td>\n",
       "      <td>224668</td>\n",
       "      <td>0</td>\n",
       "      <td>0</td>\n",
       "      <td>0</td>\n",
       "      <td>0</td>\n",
       "      <td>0</td>\n",
       "      <td>1049196</td>\n",
       "      <td>8</td>\n",
       "    </tr>\n",
       "    <tr>\n",
       "      <th>2</th>\n",
       "      <td>3</td>\n",
       "      <td>2016-09-01</td>\n",
       "      <td>370068</td>\n",
       "      <td>70022</td>\n",
       "      <td>61676</td>\n",
       "      <td>0</td>\n",
       "      <td>1320</td>\n",
       "      <td>203827</td>\n",
       "      <td>218598</td>\n",
       "      <td>0</td>\n",
       "      <td>0</td>\n",
       "      <td>0</td>\n",
       "      <td>0</td>\n",
       "      <td>0</td>\n",
       "      <td>925511</td>\n",
       "      <td>9</td>\n",
       "    </tr>\n",
       "    <tr>\n",
       "      <th>3</th>\n",
       "      <td>4</td>\n",
       "      <td>2016-10-01</td>\n",
       "      <td>381402</td>\n",
       "      <td>78951</td>\n",
       "      <td>60635</td>\n",
       "      <td>0</td>\n",
       "      <td>1410</td>\n",
       "      <td>197558</td>\n",
       "      <td>227088</td>\n",
       "      <td>0</td>\n",
       "      <td>0</td>\n",
       "      <td>0</td>\n",
       "      <td>0</td>\n",
       "      <td>0</td>\n",
       "      <td>947044</td>\n",
       "      <td>10</td>\n",
       "    </tr>\n",
       "    <tr>\n",
       "      <th>4</th>\n",
       "      <td>5</td>\n",
       "      <td>2016-11-01</td>\n",
       "      <td>405245</td>\n",
       "      <td>76328</td>\n",
       "      <td>57858</td>\n",
       "      <td>0</td>\n",
       "      <td>1462</td>\n",
       "      <td>255994</td>\n",
       "      <td>236965</td>\n",
       "      <td>0</td>\n",
       "      <td>0</td>\n",
       "      <td>0</td>\n",
       "      <td>0</td>\n",
       "      <td>0</td>\n",
       "      <td>1033852</td>\n",
       "      <td>11</td>\n",
       "    </tr>\n",
       "    <tr>\n",
       "      <th>...</th>\n",
       "      <td>...</td>\n",
       "      <td>...</td>\n",
       "      <td>...</td>\n",
       "      <td>...</td>\n",
       "      <td>...</td>\n",
       "      <td>...</td>\n",
       "      <td>...</td>\n",
       "      <td>...</td>\n",
       "      <td>...</td>\n",
       "      <td>...</td>\n",
       "      <td>...</td>\n",
       "      <td>...</td>\n",
       "      <td>...</td>\n",
       "      <td>...</td>\n",
       "      <td>...</td>\n",
       "      <td>...</td>\n",
       "    </tr>\n",
       "    <tr>\n",
       "      <th>57</th>\n",
       "      <td>58</td>\n",
       "      <td>2021-04-01</td>\n",
       "      <td>271849</td>\n",
       "      <td>52658</td>\n",
       "      <td>36117</td>\n",
       "      <td>1944</td>\n",
       "      <td>1353</td>\n",
       "      <td>69598</td>\n",
       "      <td>176368</td>\n",
       "      <td>8887</td>\n",
       "      <td>101192</td>\n",
       "      <td>1</td>\n",
       "      <td>99</td>\n",
       "      <td>99</td>\n",
       "      <td>720066</td>\n",
       "      <td>4</td>\n",
       "    </tr>\n",
       "    <tr>\n",
       "      <th>58</th>\n",
       "      <td>59</td>\n",
       "      <td>2021-05-01</td>\n",
       "      <td>289229</td>\n",
       "      <td>42457</td>\n",
       "      <td>42044</td>\n",
       "      <td>1967</td>\n",
       "      <td>1329</td>\n",
       "      <td>132272</td>\n",
       "      <td>183225</td>\n",
       "      <td>10133</td>\n",
       "      <td>106754</td>\n",
       "      <td>0</td>\n",
       "      <td>147</td>\n",
       "      <td>147</td>\n",
       "      <td>809557</td>\n",
       "      <td>5</td>\n",
       "    </tr>\n",
       "    <tr>\n",
       "      <th>59</th>\n",
       "      <td>60</td>\n",
       "      <td>2021-06-01</td>\n",
       "      <td>259924</td>\n",
       "      <td>34715</td>\n",
       "      <td>32919</td>\n",
       "      <td>1314</td>\n",
       "      <td>1081</td>\n",
       "      <td>102099</td>\n",
       "      <td>163825</td>\n",
       "      <td>9366</td>\n",
       "      <td>97027</td>\n",
       "      <td>0</td>\n",
       "      <td>95</td>\n",
       "      <td>95</td>\n",
       "      <td>702365</td>\n",
       "      <td>6</td>\n",
       "    </tr>\n",
       "    <tr>\n",
       "      <th>60</th>\n",
       "      <td>61</td>\n",
       "      <td>2021-07-01</td>\n",
       "      <td>127354</td>\n",
       "      <td>11205</td>\n",
       "      <td>10461</td>\n",
       "      <td>513</td>\n",
       "      <td>488</td>\n",
       "      <td>1276</td>\n",
       "      <td>75935</td>\n",
       "      <td>0</td>\n",
       "      <td>48652</td>\n",
       "      <td>0</td>\n",
       "      <td>79</td>\n",
       "      <td>79</td>\n",
       "      <td>275963</td>\n",
       "      <td>7</td>\n",
       "    </tr>\n",
       "    <tr>\n",
       "      <th>61</th>\n",
       "      <td>62</td>\n",
       "      <td>2021-08-01</td>\n",
       "      <td>102883</td>\n",
       "      <td>6708</td>\n",
       "      <td>7436</td>\n",
       "      <td>480</td>\n",
       "      <td>389</td>\n",
       "      <td>1501</td>\n",
       "      <td>63463</td>\n",
       "      <td>0</td>\n",
       "      <td>39328</td>\n",
       "      <td>1</td>\n",
       "      <td>81</td>\n",
       "      <td>81</td>\n",
       "      <td>222270</td>\n",
       "      <td>8</td>\n",
       "    </tr>\n",
       "  </tbody>\n",
       "</table>\n",
       "<p>62 rows × 16 columns</p>\n",
       "</div>"
      ],
      "text/plain": [
       "    Month number       Date   Adult  Child/Youth  Concession  Employee  \\\n",
       "0              1 2016-07-01  390433        62800      136064         0   \n",
       "1              2 2016-08-01  386386        67010       73590         0   \n",
       "2              3 2016-09-01  370068        70022       61676         0   \n",
       "3              4 2016-10-01  381402        78951       60635         0   \n",
       "4              5 2016-11-01  405245        76328       57858         0   \n",
       "..           ...        ...     ...          ...         ...       ...   \n",
       "57            58 2021-04-01  271849        52658       36117      1944   \n",
       "58            59 2021-05-01  289229        42457       42044      1967   \n",
       "59            60 2021-06-01  259924        34715       32919      1314   \n",
       "60            61 2021-07-01  127354        11205       10461       513   \n",
       "61            62 2021-08-01  102883         6708        7436       480   \n",
       "\n",
       "    Free Travel  School Student  Senior/Pensioner  On Demand    CTP  \\\n",
       "0          1149          138642            206110          0      0   \n",
       "1          1281          296261            224668          0      0   \n",
       "2          1320          203827            218598          0      0   \n",
       "3          1410          197558            227088          0      0   \n",
       "4          1462          255994            236965          0      0   \n",
       "..          ...             ...               ...        ...    ...   \n",
       "57         1353           69598            176368       8887 101192   \n",
       "58         1329          132272            183225      10133 106754   \n",
       "59         1081          102099            163825       9366  97027   \n",
       "60          488            1276             75935          0  48652   \n",
       "61          389            1501             63463          0  39328   \n",
       "\n",
       "    Day Pass Child/Youth w/o SAF  Day Pass without SAF  \\\n",
       "0                              0                     0   \n",
       "1                              0                     0   \n",
       "2                              0                     0   \n",
       "3                              0                     0   \n",
       "4                              0                     0   \n",
       "..                           ...                   ...   \n",
       "57                             1                    99   \n",
       "58                             0                   147   \n",
       "59                             0                    95   \n",
       "60                             0                    79   \n",
       "61                             1                    81   \n",
       "\n",
       "    Day Pass without SAF.1  Monthly passengers  Month  \n",
       "0                        0              935198      7  \n",
       "1                        0             1049196      8  \n",
       "2                        0              925511      9  \n",
       "3                        0              947044     10  \n",
       "4                        0             1033852     11  \n",
       "..                     ...                 ...    ...  \n",
       "57                      99              720066      4  \n",
       "58                     147              809557      5  \n",
       "59                      95              702365      6  \n",
       "60                      79              275963      7  \n",
       "61                      81              222270      8  \n",
       "\n",
       "[62 rows x 16 columns]"
      ]
     },
     "execution_count": 31,
     "metadata": {},
     "output_type": "execute_result"
    }
   ],
   "source": [
    "data['Month'] = Month\n",
    "data"
   ]
  },
  {
   "cell_type": "code",
   "execution_count": 32,
   "id": "56dbc6a7",
   "metadata": {},
   "outputs": [
    {
     "name": "stdout",
     "output_type": "stream",
     "text": [
      "(45, 16)\n",
      "(17, 16)\n"
     ]
    }
   ],
   "source": [
    "# Split the data\n",
    "train, test = train_test_split(data, test_size=0.26, random_state=142)\n",
    "print(train.shape)\n",
    "print(test.shape)"
   ]
  },
  {
   "cell_type": "code",
   "execution_count": 33,
   "id": "349d7ae6",
   "metadata": {},
   "outputs": [
    {
     "name": "stdout",
     "output_type": "stream",
     "text": [
      "y = x * [2.36681728e+03 2.20610057e+00] + 32012.806711881305\n"
     ]
    }
   ],
   "source": [
    "# Asign the train and test\n",
    "X_train = train[['Month','Adult']]\n",
    "y_train = train['Monthly passengers']\n",
    "X_test =test[['Month','Adult']]\n",
    "y_test = test['Monthly passengers']\n",
    "reg = linear_model.LinearRegression()\n",
    "reg.fit(X_train,y_train)\n",
    "print(\"y = x *\", reg.coef_, \"+\", reg.intercept_)"
   ]
  },
  {
   "cell_type": "code",
   "execution_count": 34,
   "id": "79097557",
   "metadata": {},
   "outputs": [
    {
     "name": "stdout",
     "output_type": "stream",
     "text": [
      "MSE: 5829726789.635612\n",
      "Root MSE: 76352.64756140164\n",
      "R Squared: 0.8819607668470344\n"
     ]
    }
   ],
   "source": [
    "predicted = reg.predict(X_test)\n",
    "mse = ((np.array(y_test)-predicted)**2).sum()/len(y_test)\n",
    "r2 = r2_score(y_test, predicted)\n",
    "print(\"MSE:\", mse)\n",
    "print(\"Root MSE:\", np.sqrt(mse))\n",
    "print(\"R Squared:\", r2)"
   ]
  },
  {
   "cell_type": "code",
   "execution_count": 35,
   "id": "09ccad54",
   "metadata": {},
   "outputs": [
    {
     "name": "stdout",
     "output_type": "stream",
     "text": [
      "17\n"
     ]
    },
    {
     "data": {
      "text/plain": [
       "array([1178101.48381227, 1226838.00030096,  620852.16806742,\n",
       "        619632.19445324, 1066277.34368983,  622049.18910031,\n",
       "        889808.02725564,  978768.93834745, 1214145.97510126,\n",
       "       1096068.94871123, 1230533.31307069,  897092.14838226,\n",
       "       1036596.56096429,  688516.46448632,  522189.06099009,\n",
       "        663207.9844506 ,  672045.2946953 ])"
      ]
     },
     "execution_count": 35,
     "metadata": {},
     "output_type": "execute_result"
    }
   ],
   "source": [
    "## monthly passengers number during the covid period assuming there's no covid in NSW\n",
    "MonthlyPassengerNoCovid=reg.predict(X_test)\n",
    "print(len(MonthlyPassengerNoCovid))\n",
    "MonthlyPassengerNoCovid"
   ]
  },
  {
   "cell_type": "code",
   "execution_count": 36,
   "id": "45cdb422",
   "metadata": {},
   "outputs": [
    {
     "data": {
      "text/html": [
       "<div>\n",
       "<style scoped>\n",
       "    .dataframe tbody tr th:only-of-type {\n",
       "        vertical-align: middle;\n",
       "    }\n",
       "\n",
       "    .dataframe tbody tr th {\n",
       "        vertical-align: top;\n",
       "    }\n",
       "\n",
       "    .dataframe thead th {\n",
       "        text-align: right;\n",
       "    }\n",
       "</style>\n",
       "<table border=\"1\" class=\"dataframe\">\n",
       "  <thead>\n",
       "    <tr style=\"text-align: right;\">\n",
       "      <th></th>\n",
       "      <th>Date</th>\n",
       "      <th>Have COVID</th>\n",
       "      <th>No COVID(Prediceted)</th>\n",
       "    </tr>\n",
       "  </thead>\n",
       "  <tbody>\n",
       "    <tr>\n",
       "      <th>0</th>\n",
       "      <td>2020-04-01</td>\n",
       "      <td>336089</td>\n",
       "      <td>1178101</td>\n",
       "    </tr>\n",
       "    <tr>\n",
       "      <th>1</th>\n",
       "      <td>2020-05-01</td>\n",
       "      <td>501432</td>\n",
       "      <td>1226838</td>\n",
       "    </tr>\n",
       "    <tr>\n",
       "      <th>2</th>\n",
       "      <td>2020-06-01</td>\n",
       "      <td>706666</td>\n",
       "      <td>620852</td>\n",
       "    </tr>\n",
       "    <tr>\n",
       "      <th>3</th>\n",
       "      <td>2020-07-01</td>\n",
       "      <td>703339</td>\n",
       "      <td>619632</td>\n",
       "    </tr>\n",
       "    <tr>\n",
       "      <th>4</th>\n",
       "      <td>2020-08-01</td>\n",
       "      <td>717918</td>\n",
       "      <td>1066277</td>\n",
       "    </tr>\n",
       "    <tr>\n",
       "      <th>5</th>\n",
       "      <td>2020-09-01</td>\n",
       "      <td>724717</td>\n",
       "      <td>622049</td>\n",
       "    </tr>\n",
       "    <tr>\n",
       "      <th>6</th>\n",
       "      <td>2020-10-01</td>\n",
       "      <td>703280</td>\n",
       "      <td>889808</td>\n",
       "    </tr>\n",
       "    <tr>\n",
       "      <th>7</th>\n",
       "      <td>2020-11-01</td>\n",
       "      <td>734405</td>\n",
       "      <td>978769</td>\n",
       "    </tr>\n",
       "    <tr>\n",
       "      <th>8</th>\n",
       "      <td>2020-12-01</td>\n",
       "      <td>656525</td>\n",
       "      <td>1214146</td>\n",
       "    </tr>\n",
       "    <tr>\n",
       "      <th>9</th>\n",
       "      <td>2021-01-01</td>\n",
       "      <td>526306</td>\n",
       "      <td>1096069</td>\n",
       "    </tr>\n",
       "    <tr>\n",
       "      <th>10</th>\n",
       "      <td>2021-02-01</td>\n",
       "      <td>751509</td>\n",
       "      <td>1230533</td>\n",
       "    </tr>\n",
       "    <tr>\n",
       "      <th>11</th>\n",
       "      <td>2021-03-01</td>\n",
       "      <td>828098</td>\n",
       "      <td>897092</td>\n",
       "    </tr>\n",
       "    <tr>\n",
       "      <th>12</th>\n",
       "      <td>2021-04-01</td>\n",
       "      <td>720066</td>\n",
       "      <td>1036597</td>\n",
       "    </tr>\n",
       "    <tr>\n",
       "      <th>13</th>\n",
       "      <td>2021-05-01</td>\n",
       "      <td>809557</td>\n",
       "      <td>688516</td>\n",
       "    </tr>\n",
       "    <tr>\n",
       "      <th>14</th>\n",
       "      <td>2021-06-01</td>\n",
       "      <td>702365</td>\n",
       "      <td>522189</td>\n",
       "    </tr>\n",
       "    <tr>\n",
       "      <th>15</th>\n",
       "      <td>2021-07-01</td>\n",
       "      <td>275963</td>\n",
       "      <td>663208</td>\n",
       "    </tr>\n",
       "    <tr>\n",
       "      <th>16</th>\n",
       "      <td>2021-08-01</td>\n",
       "      <td>222270</td>\n",
       "      <td>672045</td>\n",
       "    </tr>\n",
       "  </tbody>\n",
       "</table>\n",
       "</div>"
      ],
      "text/plain": [
       "         Date  Have COVID  No COVID(Prediceted)\n",
       "0  2020-04-01      336089               1178101\n",
       "1  2020-05-01      501432               1226838\n",
       "2  2020-06-01      706666                620852\n",
       "3  2020-07-01      703339                619632\n",
       "4  2020-08-01      717918               1066277\n",
       "5  2020-09-01      724717                622049\n",
       "6  2020-10-01      703280                889808\n",
       "7  2020-11-01      734405                978769\n",
       "8  2020-12-01      656525               1214146\n",
       "9  2021-01-01      526306               1096069\n",
       "10 2021-02-01      751509               1230533\n",
       "11 2021-03-01      828098                897092\n",
       "12 2021-04-01      720066               1036597\n",
       "13 2021-05-01      809557                688516\n",
       "14 2021-06-01      702365                522189\n",
       "15 2021-07-01      275963                663208\n",
       "16 2021-08-01      222270                672045"
      ]
     },
     "execution_count": 36,
     "metadata": {},
     "output_type": "execute_result"
    }
   ],
   "source": [
    "## create a table that contain covid period date, actual covid data and predicted covid period data\n",
    "pd.set_option('display.float_format', lambda x: '%.0f' % x)\n",
    "CompareMonthlyPassengers = pd.DataFrame({'Date':HavingCovidPeriod,'Have COVID':ActualMonthlyPassengers,'No COVID(Prediceted)':MonthlyPassengerNoCovid})\n",
    "CompareMonthlyPassengers"
   ]
  },
  {
   "cell_type": "code",
   "execution_count": 37,
   "id": "32ceb9af",
   "metadata": {},
   "outputs": [
    {
     "data": {
      "text/plain": [
       "<AxesSubplot:title={'center':'comparison of Monthly Passengers'}, xlabel='Date'>"
      ]
     },
     "execution_count": 37,
     "metadata": {},
     "output_type": "execute_result"
    },
    {
     "data": {
      "image/png": "[encoded data removed]",
      "text/plain": [
       "<Figure size 432x288 with 1 Axes>"
      ]
     },
     "metadata": {
      "needs_background": "light"
     },
     "output_type": "display_data"
    }
   ],
   "source": [
    "CompareMonthlyPassengers.plot(kind = 'bar', x = 'Date',title = 'comparison of Monthly Passengers')"
   ]
  },
  {
   "cell_type": "code",
   "execution_count": 38,
   "id": "cf60d373",
   "metadata": {},
   "outputs": [
    {
     "data": {
      "text/plain": [
       "<AxesSubplot:title={'center':'comparison of Monthly Passengers'}, xlabel='Date'>"
      ]
     },
     "execution_count": 38,
     "metadata": {},
     "output_type": "execute_result"
    },
    {
     "data": {
      "image/png": "[encoded data removed]",
      "text/plain": [
       "<Figure size 432x288 with 1 Axes>"
      ]
     },
     "metadata": {
      "needs_background": "light"
     },
     "output_type": "display_data"
    }
   ],
   "source": [
    "CompareMonthlyPassengers.plot(kind = 'line', x = 'Date',title = 'comparison of Monthly Passengers')"
   ]
  },
  {
   "cell_type": "markdown",
   "id": "ba9f5344",
   "metadata": {},
   "source": [
    "From the graph above, it's evident that the trend of monthly passengers during covid-period is relatively stable and consistent, whereas the predicted trend is fluctuating. This is mainly caused by students'records. For instances,in July and October, 2020,of the predicted trend, there are two obvious troughs, which might be caused by school's term break. On the other hand, the consistent trend of passengers number during covid time is caused by the implementation of remote learning. Therefore, the crest and trough caused by term-break didn't exist."
   ]
  },
  {
   "cell_type": "markdown",
   "id": "d84e8631",
   "metadata": {},
   "source": [
    "## Using another model to try to predict the number of monthly passengers in sydney bus system"
   ]
  },
  {
   "cell_type": "markdown",
   "id": "6db5f546",
   "metadata": {},
   "source": [
    "### Logistic Regression"
   ]
  },
  {
   "cell_type": "code",
   "execution_count": 39,
   "id": "61dfebeb",
   "metadata": {},
   "outputs": [
    {
     "name": "stdout",
     "output_type": "stream",
     "text": [
      "x_train shape: (45, 14)\n",
      "y_train shape: (45,)\n",
      "x_test shape: (17, 14)\n",
      "y_test shape: (17,)\n",
      "    Month number   Adult  Child/Youth  Concession  Employee  Free Travel  \\\n",
      "28            29  521433        83569       64437      2325         2040   \n",
      "35            36  471266        72749       60924      2539         1904   \n",
      "42            43  452466        95311       41589      3015         1955   \n",
      "53            54  261170        47658       26377      1755         1291   \n",
      "43            44  467925        82827       54455      2941         1957   \n",
      "\n",
      "    School Student  Senior/Pensioner  On Demand   CTP  \\\n",
      "28          253123            246005          0     0   \n",
      "35          249581            219739          0     0   \n",
      "42           26904            215635      10190 72400   \n",
      "53           60504            163863       6924 86850   \n",
      "43          248840            221171      10801 79982   \n",
      "\n",
      "    Day Pass Child/Youth w/o SAF  Day Pass without SAF  \\\n",
      "28                             1                    43   \n",
      "35                             3                    98   \n",
      "42                             9                   120   \n",
      "53                             3                   130   \n",
      "43                            16                   150   \n",
      "\n",
      "    Day Pass without SAF.1  Month  \n",
      "28                      43     11  \n",
      "35                      98      6  \n",
      "42                     120      1  \n",
      "53                     130     12  \n",
      "43                     150      2  \n",
      "(45,)\n"
     ]
    }
   ],
   "source": [
    "x_train = train.drop(['Monthly passengers', 'Date'],axis = 1)\n",
    "y_train = train['Monthly passengers']\n",
    "x_test = test.drop(['Monthly passengers', 'Date'],axis = 1)\n",
    "y_test = test['Monthly passengers']\n",
    "print(\"x_train shape:\",x_train.shape)\n",
    "print(\"y_train shape:\",y_train.shape)\n",
    "print(\"x_test shape:\",x_test.shape)\n",
    "print(\"y_test shape:\",y_test.shape)\n",
    "print(x_train.head())\n",
    "print(y_train.shape)"
   ]
  },
  {
   "cell_type": "code",
   "execution_count": 40,
   "id": "f92d8a80",
   "metadata": {},
   "outputs": [
    {
     "data": {
      "text/plain": [
       "LogisticRegression()"
      ]
     },
     "execution_count": 40,
     "metadata": {},
     "output_type": "execute_result"
    }
   ],
   "source": [
    "model = LogisticRegression()\n",
    "model.fit(x_train, y_train)"
   ]
  },
  {
   "cell_type": "code",
   "execution_count": 41,
   "id": "9b938040",
   "metadata": {},
   "outputs": [
    {
     "name": "stdout",
     "output_type": "stream",
     "text": [
      "    Month number   Adult  Child/Youth  Concession  Employee  Free Travel  \\\n",
      "28            29  521433        83569       64437      2325         2040   \n",
      "35            36  471266        72749       60924      2539         1904   \n",
      "42            43  452466        95311       41589      3015         1955   \n",
      "53            54  261170        47658       26377      1755         1291   \n",
      "43            44  467925        82827       54455      2941         1957   \n",
      "6              7  341332        80779       42676         0         1329   \n",
      "57            58  271849        52658       36117      1944         1353   \n",
      "0              1  390433        62800      136064         0         1149   \n",
      "60            61  127354        11205       10461       513          488   \n",
      "29            30  432004        80732       47328      1901         1909   \n",
      "17            18  382007        81840       52591         2         1520   \n",
      "37            38  543465        80637       81393      3333         2116   \n",
      "4              5  405245        76328       57858         0         1462   \n",
      "48            49  288798        55356       29962      1794         1173   \n",
      "24            25  481811        96862       65528         4         1934   \n",
      "44            45  392860        59296       58725      2745         1535   \n",
      "1              2  386386        67010       73590         0         1281   \n",
      "15            16  438484        83085       74487         0         1542   \n",
      "22            23  501314        85444       89724         0         1932   \n",
      "38            39  516174        75766       67641      3196         1944   \n",
      "8              9  437169        82720       87410         1         1622   \n",
      "54            55  230528        46574       20182      1409         1129   \n",
      "9             10  357110        78164       62040         0         1436   \n",
      "36            37  544622        98011       66497      3022         2137   \n",
      "18            19  389381        90813       49620         0         1514   \n",
      "19            20  429725        85852       60089         0         1723   \n",
      "20            21  469557        89194       89220         0         1814   \n",
      "2              3  370068        70022       61676         0         1320   \n",
      "50            51  278146        44307       30751      1747         1110   \n",
      "61            62  102883         6708        7436       480          389   \n",
      "30            31  453530        92159       45245      2225         2040   \n",
      "31            32  490800        88688       57323      2690         2104   \n",
      "23            24  442598        75635       66213         0         1709   \n",
      "11            12  404992        68761       62266         0         1374   \n",
      "58            59  289229        42457       42044      1967         1329   \n",
      "34            35  561499        84310       83497      3237         2362   \n",
      "13            14  448961        73381       86293         0         1538   \n",
      "49            50  270591        41851       30755      1697         1159   \n",
      "16            17  455666        79384       69407         0         1641   \n",
      "45            46  171160        16162       13028      1218          676   \n",
      "26            27  462927        76967       71129      1863         1752   \n",
      "12            13  417371        89142       63203         0         1433   \n",
      "27            28  506676        94270       71192      2254         2047   \n",
      "5              6  353196        77290       45808         0         1337   \n",
      "21            22  427345        87921       71692         0         1734   \n",
      "\n",
      "    School Student  Senior/Pensioner  On Demand    CTP  \\\n",
      "28          253123            246005          0      0   \n",
      "35          249581            219739          0      0   \n",
      "42           26904            215635      10190  72400   \n",
      "53           60504            163863       6924  86850   \n",
      "43          248840            221171      10801  79982   \n",
      "6            14972            203201          0      0   \n",
      "57           69598            176368       8887 101192   \n",
      "0           138642            206110          0      0   \n",
      "60            1276             75935          0  48652   \n",
      "29          116188            217410          0      0   \n",
      "17           91676            209388          0      0   \n",
      "37          284021            242411       8685   6106   \n",
      "4           255994            236965          0      0   \n",
      "48           89474            158537       6217  71847   \n",
      "24          147138            230432          0      0   \n",
      "44          193275            186468       7789  72009   \n",
      "1           296261            224668          0      0   \n",
      "15          189313            229995          0      0   \n",
      "22          336860            251153          0      0   \n",
      "38          248288            230507       9052  18654   \n",
      "8           288260            245205          0      0   \n",
      "54            5077            137359       6077  77831   \n",
      "9            94867            204773          0      0   \n",
      "36          154928            242204       8110      0   \n",
      "18           16314            204510          0      0   \n",
      "19          256916            219649          0      0   \n",
      "20          306310            241446          0      0   \n",
      "2           203827            218598          0      0   \n",
      "50          128544            158729       6581  74706   \n",
      "61            1501             63463          0  39328   \n",
      "30           16653            207693          0      0   \n",
      "31          291709            225652          0      0   \n",
      "23          275618            220356          0      0   \n",
      "11          225602            220501          0      0   \n",
      "58          132272            183225      10133 106754   \n",
      "34          334961            255783          0      0   \n",
      "13          238995            233460          0      0   \n",
      "49          148147            150110       5639  67871   \n",
      "16          239425            239296          0      0   \n",
      "45            3287             91583       1763  37115   \n",
      "26          245625            219183          0      0   \n",
      "12          112694            222539          0      0   \n",
      "27          157638            239069          0      0   \n",
      "5           105576            216294          0      0   \n",
      "21          126463            217295          0      0   \n",
      "\n",
      "    Day Pass Child/Youth w/o SAF  Day Pass without SAF  \\\n",
      "28                             1                    43   \n",
      "35                             3                    98   \n",
      "42                             9                   120   \n",
      "53                             3                   130   \n",
      "43                            16                   150   \n",
      "6                              0                     0   \n",
      "57                             1                    99   \n",
      "0                              0                     0   \n",
      "60                             0                    79   \n",
      "29                             1                    50   \n",
      "17                             0                     0   \n",
      "37                             9                   127   \n",
      "4                              0                     0   \n",
      "48                            53                   128   \n",
      "24                             3                    37   \n",
      "44                            24                   150   \n",
      "1                              0                     0   \n",
      "15                             1                     6   \n",
      "22                             6                    11   \n",
      "38                            23                   113   \n",
      "8                              0                     0   \n",
      "54                             0                   140   \n",
      "9                              0                     0   \n",
      "36                             8                   104   \n",
      "18                             0                     0   \n",
      "19                             0                     0   \n",
      "20                             0                     0   \n",
      "2                              0                     0   \n",
      "50                             0                    96   \n",
      "61                             1                    81   \n",
      "30                             3                    66   \n",
      "31                             4                    71   \n",
      "23                             1                    19   \n",
      "11                             0                     0   \n",
      "58                             0                   147   \n",
      "34                            12                    80   \n",
      "13                             0                     4   \n",
      "49                             0                    98   \n",
      "16                             0                     0   \n",
      "45                             4                    93   \n",
      "26                             4                    22   \n",
      "12                             0                     0   \n",
      "27                             0                    28   \n",
      "5                              0                     0   \n",
      "21                             0                     2   \n",
      "\n",
      "    Day Pass without SAF.1  Month  \n",
      "28                      43     11  \n",
      "35                      98      6  \n",
      "42                     120      1  \n",
      "53                     130     12  \n",
      "43                     150      2  \n",
      "6                        0      1  \n",
      "57                      99      4  \n",
      "0                        0      7  \n",
      "60                      79      7  \n",
      "29                      50     12  \n",
      "17                       0     12  \n",
      "37                     127      8  \n",
      "4                        0     11  \n",
      "48                     128      7  \n",
      "24                      37      7  \n",
      "44                     150      3  \n",
      "1                        0      8  \n",
      "15                       6     10  \n",
      "22                      11      5  \n",
      "38                     113      9  \n",
      "8                        0      3  \n",
      "54                     140      1  \n",
      "9                        0      4  \n",
      "36                     104      7  \n",
      "18                       0      1  \n",
      "19                       0      2  \n",
      "20                       0      3  \n",
      "2                        0      9  \n",
      "50                      96      9  \n",
      "61                      81      8  \n",
      "30                      66      1  \n",
      "31                      71      2  \n",
      "23                      19      6  \n",
      "11                       0      6  \n",
      "58                     147      5  \n",
      "34                      80      5  \n",
      "13                       4      8  \n",
      "49                      98      8  \n",
      "16                       0     11  \n",
      "45                      93      4  \n",
      "26                      22      9  \n",
      "12                       0      7  \n",
      "27                      28     10  \n",
      "5                        0     12  \n",
      "21                       2      4  \n",
      "28    1172976\n",
      "35    1078803\n",
      "42     919594\n",
      "53     656525\n",
      "43    1171065\n",
      "6      684289\n",
      "57     720066\n",
      "0      935198\n",
      "60     275963\n",
      "29     897523\n",
      "17     819024\n",
      "37    1252303\n",
      "4     1033852\n",
      "48     703339\n",
      "24    1023749\n",
      "44     974876\n",
      "1     1049196\n",
      "15    1016913\n",
      "22    1266444\n",
      "38    1171358\n",
      "8     1142387\n",
      "54     526306\n",
      "9      798390\n",
      "36    1119643\n",
      "18     752152\n",
      "19    1053954\n",
      "20    1197541\n",
      "2      925511\n",
      "50     724717\n",
      "61     222270\n",
      "30     819614\n",
      "31    1159041\n",
      "23    1082149\n",
      "11     983496\n",
      "58     809557\n",
      "34    1325741\n",
      "13    1082632\n",
      "49     717918\n",
      "16    1084819\n",
      "45     336089\n",
      "26    1079472\n",
      "12     906382\n",
      "27    1073174\n",
      "5      799501\n",
      "21     932452\n",
      "Name: Monthly passengers, dtype: int64\n"
     ]
    }
   ],
   "source": [
    "print(x_train)\n",
    "print(y_train)"
   ]
  },
  {
   "cell_type": "code",
   "execution_count": 42,
   "id": "82b66808",
   "metadata": {},
   "outputs": [],
   "source": [
    "y_hat_test = model.predict(x_test)"
   ]
  },
  {
   "cell_type": "code",
   "execution_count": 43,
   "id": "0e1a7dfb",
   "metadata": {},
   "outputs": [
    {
     "name": "stdout",
     "output_type": "stream",
     "text": [
      "[1082149 1073174  717918  809557  703339  809557 1053954 1016913 1171358\n",
      " 1073174 1325741  925511 1082149  809557  703339  809557  809557]\n"
     ]
    }
   ],
   "source": [
    "print(y_hat_test)"
   ]
  },
  {
   "cell_type": "code",
   "execution_count": 44,
   "id": "d1afdeda",
   "metadata": {},
   "outputs": [
    {
     "name": "stdout",
     "output_type": "stream",
     "text": [
      "The accuracy score for the testing data is: 0.0\n"
     ]
    }
   ],
   "source": [
    "print(\"The accuracy score for the testing data is:\", accuracy_score(y_test, y_hat_test))"
   ]
  },
  {
   "cell_type": "markdown",
   "id": "a8657c05",
   "metadata": {},
   "source": [
    "# As the accuracy score of logistic regression  model is 0.0, therefore the linear model prediction should be used for predicting the number of monthly passengers."
   ]
  },
  {
   "cell_type": "markdown",
   "id": "60b34375",
   "metadata": {},
   "source": [
    "### Conclusion"
   ]
  },
  {
   "cell_type": "markdown",
   "id": "40b3d75d",
   "metadata": {},
   "source": [
    "Covid-19 has a significant impact on the number of passengers of Sydney Bus System. Bust system lost at least around thirty-five million passengers, since April 2020. Due to the implementation of online classes and other lockdown restrictions, the trend of monthly passengers is getting stable and consistent,which has less flutuations compared with the predicted trend. It's evident that holiday and break have less influences in terms of affecting the monthly passengers, due to the fear of potential covid-19 infections. \n",
    "Decrease of passengers in public transport sector, indicates a risk of contraction in the economy cycle, less money would flow into the physical industry, which severely impacts tertiary industry, especially hospitality and education sectors."
   ]
  },
  {
   "cell_type": "code",
   "execution_count": null,
   "id": "07bdfd4b",
   "metadata": {},
   "outputs": [],
   "source": []
  }
 ],
 "metadata": {
  "kernelspec": {
   "display_name": "Python 3",
   "language": "python",
   "name": "python3"
  },
  "language_info": {
   "codemirror_mode": {
    "name": "ipython",
    "version": 3
   },
   "file_extension": ".py",
   "mimetype": "text/x-python",
   "name": "python",
   "nbconvert_exporter": "python",
   "pygments_lexer": "ipython3",
   "version": "3.8.8"
  }
 },
 "nbformat": 4,
 "nbformat_minor": 5
}
